{
 "cells": [
  {
   "cell_type": "markdown",
   "metadata": {
    "id": "JS9QXHRoRiqc"
   },
   "source": [
    "# Text Representation with Word Embeddings\n",
    "\n",
    "### Exploring Word Embeddings with New Deep Learning Models\n",
    "\n",
    "We will explore more sophisticated models which can capture semantic information and give us features which are vector representation of words, popularly known as embeddings.\n",
    "\n",
    "Here we will explore the following feature engineering techniques:\n",
    "\n",
    "- Word2Vec\n",
    "\n",
    "Predictive methods like Neural Network based language models try to predict words from its neighboring words looking at word sequences in the corpus and in the process it learns distributed representations giving us dense word embeddings. We will be focusing on these predictive methods in this article."
   ]
  },
  {
   "cell_type": "markdown",
   "metadata": {
    "id": "wYUGSn3dRiqd"
   },
   "source": [
    "## Prepare a Sample Corpus\n",
    "\n",
    "Let’s now take a sample corpus of documents on which we will run most of our analyses in this article. A corpus is typically a collection of text documents usually belonging to one or more subjects or domains."
   ]
  },
  {
   "cell_type": "code",
   "execution_count": 4,
   "metadata": {
    "colab": {
     "base_uri": "https://localhost:8080/",
     "height": 237
    },
    "id": "KH4ZwBgtRiqe",
    "outputId": "0c1cf913-62a8-433d-f357-8bfe7a22aada"
   },
   "outputs": [
    {
     "data": {
      "text/html": [
       "<div>\n",
       "<style scoped>\n",
       "    .dataframe tbody tr th:only-of-type {\n",
       "        vertical-align: middle;\n",
       "    }\n",
       "\n",
       "    .dataframe tbody tr th {\n",
       "        vertical-align: top;\n",
       "    }\n",
       "\n",
       "    .dataframe thead th {\n",
       "        text-align: right;\n",
       "    }\n",
       "</style>\n",
       "<table border=\"1\" class=\"dataframe\">\n",
       "  <thead>\n",
       "    <tr style=\"text-align: right;\">\n",
       "      <th></th>\n",
       "      <th>Document</th>\n",
       "    </tr>\n",
       "  </thead>\n",
       "  <tbody>\n",
       "    <tr>\n",
       "      <th>0</th>\n",
       "      <td>The sky is blue and beautiful.</td>\n",
       "    </tr>\n",
       "    <tr>\n",
       "      <th>1</th>\n",
       "      <td>Love this blue and beautiful sky!</td>\n",
       "    </tr>\n",
       "    <tr>\n",
       "      <th>2</th>\n",
       "      <td>The birds love to eat and sleep and chirp</td>\n",
       "    </tr>\n",
       "    <tr>\n",
       "      <th>3</th>\n",
       "      <td>The cats love to eat and sleep</td>\n",
       "    </tr>\n",
       "    <tr>\n",
       "      <th>4</th>\n",
       "      <td>The sky is very blue and the sky is very beautiful today</td>\n",
       "    </tr>\n",
       "    <tr>\n",
       "      <th>5</th>\n",
       "      <td>The dog loves to sleep and eat</td>\n",
       "    </tr>\n",
       "  </tbody>\n",
       "</table>\n",
       "</div>"
      ],
      "text/plain": [
       "                                                   Document\n",
       "0                            The sky is blue and beautiful.\n",
       "1                         Love this blue and beautiful sky!\n",
       "2                 The birds love to eat and sleep and chirp\n",
       "3                            The cats love to eat and sleep\n",
       "4  The sky is very blue and the sky is very beautiful today\n",
       "5                            The dog loves to sleep and eat"
      ]
     },
     "execution_count": 4,
     "metadata": {},
     "output_type": "execute_result"
    }
   ],
   "source": [
    "import pandas as pd\n",
    "import numpy as np\n",
    "import matplotlib.pyplot as plt\n",
    "\n",
    "# visualize embeddings\n",
    "from sklearn.decomposition import PCA\n",
    "\n",
    "pd.options.display.max_colwidth = 200\n",
    "\n",
    "corpus = ['The sky is blue and beautiful.',\n",
    "          'Love this blue and beautiful sky!',\n",
    "          'The birds love to eat and sleep and chirp',\n",
    "          'The cats love to eat and sleep',\n",
    "          'The sky is very blue and the sky is very beautiful today',\n",
    "          'The dog loves to sleep and eat'\n",
    "]\n",
    "\n",
    "\n",
    "corpus_df = pd.DataFrame({'Document': corpus})\n",
    "corpus_df"
   ]
  },
  {
   "cell_type": "markdown",
   "metadata": {
    "id": "FLojJzK0Riqi"
   },
   "source": [
    "Let's go ahead and pre-process our text data now"
   ]
  },
  {
   "cell_type": "markdown",
   "metadata": {
    "id": "7KR8w3qbRiqi"
   },
   "source": [
    "## Simple Text Pre-processing\n",
    "\n",
    "Since the focus of this unit is on feature engineering, we will build a simple text pre-processor which focuses on removing special characters, extra whitespaces, digits, stopwords and lower casing the text corpus."
   ]
  },
  {
   "cell_type": "code",
   "execution_count": 7,
   "metadata": {
    "colab": {
     "base_uri": "https://localhost:8080/"
    },
    "id": "5YHHrL7VRiqj",
    "outputId": "04c20aec-ef52-4ff1-96b1-765f7cac08f8"
   },
   "outputs": [
    {
     "name": "stderr",
     "output_type": "stream",
     "text": [
      "[nltk_data] Downloading package stopwords to /root/nltk_data...\n",
      "[nltk_data]   Package stopwords is already up-to-date!\n",
      "[nltk_data] Downloading package punkt to /root/nltk_data...\n",
      "[nltk_data]   Package punkt is already up-to-date!\n",
      "[nltk_data] Downloading package punkt_tab to /root/nltk_data...\n",
      "[nltk_data]   Package punkt_tab is already up-to-date!\n"
     ]
    },
    {
     "data": {
      "text/plain": [
       "array(['sky blue beautiful', 'love blue beautiful sky',\n",
       "       'birds love eat sleep chirp', 'cats love eat sleep',\n",
       "       'sky blue sky beautiful today', 'dog loves sleep eat'],\n",
       "      dtype='<U28')"
      ]
     },
     "execution_count": 7,
     "metadata": {},
     "output_type": "execute_result"
    }
   ],
   "source": [
    "import nltk\n",
    "import re\n",
    "import numpy as np\n",
    "\n",
    "# get list of common english stopwords\n",
    "nltk.download('stopwords')\n",
    "stop_words = nltk.corpus.stopwords.words('english')\n",
    "# download tokenizer - breaks down sentences into words\n",
    "nltk.download('punkt')\n",
    "nltk.download('punkt_tab')\n",
    "\n",
    "# clean the text (not necessary too much in the case of deep learning models)\n",
    "def normalize_document(doc): # The sky is blue and beautiful......\n",
    "    # lower case and remove special characters\\ extra whitespaces\n",
    "    doc = re.sub(r'[^a-zA-Z\\s]', '', doc, flags=re.I|re.A)\n",
    "    doc = doc.lower()\n",
    "    doc = doc.strip()\n",
    "    # tokenize document\n",
    "    tokens = nltk.word_tokenize(doc)\n",
    "    # filter stopwords out of document\n",
    "    filtered_tokens = [token for token in tokens if token not in stop_words]\n",
    "    # re-create document from filtered tokens\n",
    "    doc = ' '.join(filtered_tokens)\n",
    "    return doc\n",
    "\n",
    "normalize_corpus = np.vectorize(normalize_document)\n",
    "\n",
    "norm_corpus = normalize_corpus(corpus)\n",
    "norm_corpus"
   ]
  },
  {
   "cell_type": "code",
   "execution_count": 8,
   "metadata": {
    "id": "4MRWsCnGVyMi"
   },
   "outputs": [],
   "source": [
    "import nltk\n",
    "\n",
    "tokenized_corpus = [nltk.word_tokenize(doc) for doc in norm_corpus]"
   ]
  },
  {
   "cell_type": "code",
   "execution_count": 9,
   "metadata": {
    "colab": {
     "base_uri": "https://localhost:8080/"
    },
    "id": "8BnB1TkIytRz",
    "outputId": "d7a77030-6a21-44b3-e2dd-0d01eefa62b3"
   },
   "outputs": [
    {
     "data": {
      "text/plain": [
       "[['sky', 'blue', 'beautiful'],\n",
       " ['love', 'blue', 'beautiful', 'sky'],\n",
       " ['birds', 'love', 'eat', 'sleep', 'chirp'],\n",
       " ['cats', 'love', 'eat', 'sleep'],\n",
       " ['sky', 'blue', 'sky', 'beautiful', 'today'],\n",
       " ['dog', 'loves', 'sleep', 'eat']]"
      ]
     },
     "execution_count": 9,
     "metadata": {},
     "output_type": "execute_result"
    }
   ],
   "source": [
    "tokenized_corpus"
   ]
  },
  {
   "cell_type": "markdown",
   "metadata": {
    "id": "2JCyCJ6GRiql"
   },
   "source": [
    "## The Word2Vec Model\n",
    "\n",
    "This model was created by Google in 2013 and is a predictive deep learning based model to compute and generate high quality, distributed and continuous dense vector representations of words, which capture contextual and semantic similarity. Essentially these are unsupervised models which can take in massive textual corpora, create a vocabulary of possible words and generate dense word embeddings for each word in the vector space representing that vocabulary.\n",
    "\n",
    "Usually you can specify the size of the word embedding vectors and the total number of vectors are essentially the size of the vocabulary. This makes the dimensionality of this dense vector space much lower than the high-dimensional sparse vector space built using traditional Bag of Words models.\n",
    "\n",
    "There are two different model architectures which can be leveraged by Word2Vec to create these word embedding representations. These include,\n",
    "\n",
    "- The Continuous Bag of Words (CBOW) Model\n",
    "- The Skip-gram Model\n",
    "\n",
    "## The Continuous Bag of Words (CBOW) Model\n",
    "\n",
    "The CBOW model architecture tries to predict the current target word (the center word) based on the source context words (surrounding words).\n",
    "\n",
    "Considering a simple sentence, ___“the quick brown fox jumps over the lazy dog”___, this can be pairs of __(context_window, target_word)__ where if we consider a context window of size 2, we have examples like __([quick, fox], brown)__, __([the, brown], quick)__, __([the, dog], lazy)__ and so on.\n",
    "\n",
    "Thus the model tries to predict the __`target_word`__ based on the __`context_window`__ words.\n",
    "\n",
    "![](https://i.imgur.com/ATyNx6u.png)\n",
    "\n",
    "\n",
    "## The Skip-gram Model\n",
    "\n",
    "The Skip-gram model architecture usually tries to achieve the reverse of what the CBOW model does. It tries to predict the source context words (surrounding words) given a target word (the center word).\n",
    "\n",
    "Considering our simple sentence from earlier, ___“the quick brown fox jumps over the lazy dog”___. If we used the CBOW model, we get pairs of __(context_window, target_word)__ where if we consider a context window of size 2, we have examples like __([quick, fox], brown)__, __([the, brown], quick)__, __([the, dog], lazy)__ and so on.\n",
    "\n",
    "Now considering that the skip-gram model’s aim is to predict the context from the target word, the model typically inverts the contexts and targets, and tries to predict each context word from its target word. Hence the task becomes to predict the context __[quick, fox]__ given target word __‘brown’__ or __[the, brown]__ given target word __‘quick’__ and so on.\n",
    "\n",
    "Thus the model tries to predict the context_window words based on the target_word.\n",
    "\n",
    "![](https://i.imgur.com/95f3eVF.png)\n",
    "\n",
    "Further details can be found in [Text Analytics with Python](https://github.com/dipanjanS/text-analytics-with-python/tree/master/New-Second-Edition/Ch04%20-%20Feature%20Engineering%20for%20Text%20Representation)"
   ]
  },
  {
   "cell_type": "markdown",
   "metadata": {
    "id": "BHD8pUx7Riqm"
   },
   "source": [
    "## Robust Word2Vec Model with Gensim\n",
    "\n",
    "The __`gensim`__ framework, created by Radim Řehůřek consists of a robust, efficient and scalable implementation of the Word2Vec model. We will leverage the same on our sample toy corpus. In our workflow, we will tokenize our normalized corpus and then focus on the following four parameters in the Word2Vec model to build it.\n",
    "\n",
    "- __`size`:__ The word embedding dimensionality\n",
    "- __`window`:__ The context window size\n",
    "- __`min_count`:__ The minimum word count\n",
    "- __`sample`:__ The downsample setting for frequent words\n",
    "- __`sg`:__ Training model, 1 for skip-gram otherwise CBOW\n",
    "\n",
    "We will build a simple Word2Vec model on the corpus and visualize the embeddings."
   ]
  },
  {
   "cell_type": "code",
   "execution_count": 10,
   "metadata": {
    "colab": {
     "base_uri": "https://localhost:8080/",
     "height": 35
    },
    "id": "MYRXwquZvJle",
    "outputId": "76d27953-1f01-4cef-9c65-b414e9b7c5b9"
   },
   "outputs": [
    {
     "data": {
      "text/plain": [
       "'4.3.3'"
      ]
     },
     "execution_count": 10,
     "metadata": {},
     "output_type": "execute_result"
    }
   ],
   "source": [
    "import gensim\n",
    "gensim.__version__\n",
    "#4.0.0+"
   ]
  },
  {
   "cell_type": "code",
   "execution_count": 11,
   "metadata": {
    "colab": {
     "base_uri": "https://localhost:8080/"
    },
    "id": "m7JNogBHwbeu",
    "outputId": "c23a4624-98e7-44ff-85ad-5a252ed8d0a6"
   },
   "outputs": [
    {
     "data": {
      "text/plain": [
       "[['sky', 'blue', 'beautiful'],\n",
       " ['love', 'blue', 'beautiful', 'sky'],\n",
       " ['birds', 'love', 'eat', 'sleep', 'chirp'],\n",
       " ['cats', 'love', 'eat', 'sleep'],\n",
       " ['sky', 'blue', 'sky', 'beautiful', 'today'],\n",
       " ['dog', 'loves', 'sleep', 'eat']]"
      ]
     },
     "execution_count": 11,
     "metadata": {},
     "output_type": "execute_result"
    }
   ],
   "source": [
    "tokenized_corpus"
   ]
  },
  {
   "cell_type": "code",
   "execution_count": 12,
   "metadata": {
    "colab": {
     "base_uri": "https://localhost:8080/"
    },
    "id": "yqQIGvSSvBB3",
    "outputId": "f25ac559-0f10-4c62-fc4c-63a969524b80"
   },
   "outputs": [
    {
     "data": {
      "text/plain": [
       "<gensim.models.word2vec.Word2Vec at 0x77594e717410>"
      ]
     },
     "execution_count": 12,
     "metadata": {},
     "output_type": "execute_result"
    }
   ],
   "source": [
    "from gensim.models import word2vec\n",
    "\n",
    "\n",
    "# Set values for various parameters\n",
    "feature_size = 20    # Word vector dimensionality  every word -> [......] -> vector size of 20 float numbers\n",
    "window_context = 5  # Context window size (looking at surrounding words)\n",
    "min_word_count = 1   # Minimum word count\n",
    "sg = 1               # skip-gram model if sg = 1 and CBOW if sg = 0\n",
    "\n",
    "w2v_model = word2vec.Word2Vec(tokenized_corpus,\n",
    "                              vector_size=feature_size,\n",
    "                              window=window_context,\n",
    "                              min_count = min_word_count,\n",
    "                              sg=sg, epochs=5000)\n",
    "w2v_model"
   ]
  },
  {
   "cell_type": "code",
   "execution_count": 13,
   "metadata": {
    "colab": {
     "base_uri": "https://localhost:8080/"
    },
    "id": "SBehsA9ewENL",
    "outputId": "9cd87b22-31e0-4579-ca27-721e8989e7e5"
   },
   "outputs": [
    {
     "data": {
      "text/plain": [
       "array([-0.53759116,  0.38958177,  0.4812493 ,  0.41675878, -0.24408153,\n",
       "       -0.48942414,  0.45166963,  0.6433017 , -0.5155914 , -0.08680358,\n",
       "        0.321895  , -0.25598094, -0.14319818,  0.13020873,  0.16623203,\n",
       "        0.14998102,  0.5471973 , -0.10022354, -0.7960171 , -0.36281636],\n",
       "      dtype=float32)"
      ]
     },
     "execution_count": 13,
     "metadata": {},
     "output_type": "execute_result"
    }
   ],
   "source": [
    "# embedding for the word sky\n",
    "w2v_model.wv['sky']"
   ]
  },
  {
   "cell_type": "code",
   "execution_count": 14,
   "metadata": {
    "colab": {
     "base_uri": "https://localhost:8080/"
    },
    "id": "JWtSDPkW2_GC",
    "outputId": "f10df81b-1354-4507-966e-1442cff4a043"
   },
   "outputs": [
    {
     "data": {
      "text/plain": [
       "array([-0.2129414 ,  0.19617862, -0.24962005, -0.42287236,  0.40264714,\n",
       "        0.1465772 ,  0.14053074,  0.541721  , -0.34487444,  0.502993  ,\n",
       "       -0.08264301, -0.30906326,  0.27281415, -0.21674085,  0.22767444,\n",
       "       -0.21572348,  0.5554793 , -0.0453667 , -0.15293108, -0.08994493],\n",
       "      dtype=float32)"
      ]
     },
     "execution_count": 14,
     "metadata": {},
     "output_type": "execute_result"
    }
   ],
   "source": [
    "# embedding for the word cats\n",
    "w2v_model.wv['cats']"
   ]
  },
  {
   "cell_type": "code",
   "execution_count": 15,
   "metadata": {
    "colab": {
     "base_uri": "https://localhost:8080/"
    },
    "id": "gmOr3lXv3DUN",
    "outputId": "2c3cb7bb-d183-4c6d-a2ff-56f839f3e5ba"
   },
   "outputs": [
    {
     "data": {
      "text/plain": [
       "array([-0.14602305,  0.1545936 , -0.12221319, -0.5438402 ,  0.46794683,\n",
       "        0.14732301, -0.01478923,  0.696761  , -0.4122687 ,  0.55919105,\n",
       "        0.04507961, -0.2768865 ,  0.23633641, -0.37091982,  0.3278076 ,\n",
       "       -0.13535038,  0.77737546,  0.01221276, -0.09731491,  0.064499  ],\n",
       "      dtype=float32)"
      ]
     },
     "execution_count": 15,
     "metadata": {},
     "output_type": "execute_result"
    }
   ],
   "source": [
    "# embedding for the word dog\n",
    "w2v_model.wv['dog']"
   ]
  },
  {
   "cell_type": "code",
   "execution_count": 16,
   "metadata": {
    "colab": {
     "base_uri": "https://localhost:8080/"
    },
    "id": "tMnpltMJ_A-d",
    "outputId": "e458095e-44d7-4d92-a38f-6376e496e885"
   },
   "outputs": [
    {
     "data": {
      "text/plain": [
       "(20,)"
      ]
     },
     "execution_count": 16,
     "metadata": {},
     "output_type": "execute_result"
    }
   ],
   "source": [
    "w2v_model.wv['sky'].shape"
   ]
  },
  {
   "cell_type": "code",
   "execution_count": 17,
   "metadata": {
    "colab": {
     "base_uri": "https://localhost:8080/"
    },
    "id": "frWwNrzNC52F",
    "outputId": "56eec9df-4248-43ff-f291-26dfb9cc86b5"
   },
   "outputs": [
    {
     "data": {
      "text/plain": [
       "['sky',\n",
       " 'eat',\n",
       " 'sleep',\n",
       " 'love',\n",
       " 'beautiful',\n",
       " 'blue',\n",
       " 'dog',\n",
       " 'loves',\n",
       " 'cats',\n",
       " 'today',\n",
       " 'birds',\n",
       " 'chirp']"
      ]
     },
     "execution_count": 17,
     "metadata": {},
     "output_type": "execute_result"
    }
   ],
   "source": [
    "w2v_model.wv.index_to_key"
   ]
  },
  {
   "cell_type": "code",
   "execution_count": 18,
   "metadata": {
    "colab": {
     "base_uri": "https://localhost:8080/",
     "height": 599
    },
    "id": "6NY4l-zaRiqo",
    "outputId": "97d0c751-eeff-4f3b-c0d0-dae8850b7dc4"
   },
   "outputs": [
    {
     "data": {
      "image/png": "[encoded data removed]",
      "text/plain": [
       "<Figure size 1000x700 with 1 Axes>"
      ]
     },
     "metadata": {},
     "output_type": "display_data"
    }
   ],
   "source": [
    "words = w2v_model.wv.index_to_key\n",
    "wvs = w2v_model.wv[words]\n",
    "\n",
    "pca = PCA(n_components=2, random_state=42)\n",
    "np.set_printoptions(suppress=True)\n",
    "pcs = pca.fit_transform(wvs)\n",
    "labels = words\n",
    "\n",
    "plt.figure(figsize=(10, 7))\n",
    "plt.scatter(pcs[:, 1], pcs[:, 0], c='orange', edgecolors='r')\n",
    "for label, x, y in zip(labels, pcs[:, 1], pcs[:, 0]):\n",
    "    plt.annotate(label, xy=(x+0.005, y+0.005), xytext=(0, 0), textcoords='offset points')"
   ]
  },
  {
   "cell_type": "code",
   "execution_count": 19,
   "metadata": {
    "colab": {
     "base_uri": "https://localhost:8080/"
    },
    "id": "V7h2GmytRiqq",
    "outputId": "72d18686-f877-4ddd-e138-ebd1e05dbfb5"
   },
   "outputs": [
    {
     "data": {
      "text/plain": [
       "(array([-0.53759116,  0.38958177,  0.4812493 ,  0.41675878, -0.24408153,\n",
       "        -0.48942414,  0.45166963,  0.6433017 , -0.5155914 , -0.08680358,\n",
       "         0.321895  , -0.25598094, -0.14319818,  0.13020873,  0.16623203,\n",
       "         0.14998102,  0.5471973 , -0.10022354, -0.7960171 , -0.36281636],\n",
       "       dtype=float32),\n",
       " (20,))"
      ]
     },
     "execution_count": 19,
     "metadata": {},
     "output_type": "execute_result"
    }
   ],
   "source": [
    "w2v_model.wv['sky'], w2v_model.wv['sky'].shape"
   ]
  },
  {
   "cell_type": "code",
   "execution_count": 20,
   "metadata": {
    "colab": {
     "base_uri": "https://localhost:8080/",
     "height": 445
    },
    "id": "3INpkJK4Riqs",
    "outputId": "578e3db7-8719-40c9-eadc-9c0d8184d9ae"
   },
   "outputs": [
    {
     "data": {
      "text/html": [
       "<div>\n",
       "<style scoped>\n",
       "    .dataframe tbody tr th:only-of-type {\n",
       "        vertical-align: middle;\n",
       "    }\n",
       "\n",
       "    .dataframe tbody tr th {\n",
       "        vertical-align: top;\n",
       "    }\n",
       "\n",
       "    .dataframe thead th {\n",
       "        text-align: right;\n",
       "    }\n",
       "</style>\n",
       "<table border=\"1\" class=\"dataframe\">\n",
       "  <thead>\n",
       "    <tr style=\"text-align: right;\">\n",
       "      <th></th>\n",
       "      <th>0</th>\n",
       "      <th>1</th>\n",
       "      <th>2</th>\n",
       "      <th>3</th>\n",
       "      <th>4</th>\n",
       "      <th>5</th>\n",
       "      <th>6</th>\n",
       "      <th>7</th>\n",
       "      <th>8</th>\n",
       "      <th>9</th>\n",
       "      <th>10</th>\n",
       "      <th>11</th>\n",
       "      <th>12</th>\n",
       "      <th>13</th>\n",
       "      <th>14</th>\n",
       "      <th>15</th>\n",
       "      <th>16</th>\n",
       "      <th>17</th>\n",
       "      <th>18</th>\n",
       "      <th>19</th>\n",
       "    </tr>\n",
       "  </thead>\n",
       "  <tbody>\n",
       "    <tr>\n",
       "      <th>sky</th>\n",
       "      <td>-0.537591</td>\n",
       "      <td>0.389582</td>\n",
       "      <td>0.481249</td>\n",
       "      <td>0.416759</td>\n",
       "      <td>-0.244082</td>\n",
       "      <td>-0.489424</td>\n",
       "      <td>0.451670</td>\n",
       "      <td>0.643302</td>\n",
       "      <td>-0.515591</td>\n",
       "      <td>-0.086804</td>\n",
       "      <td>0.321895</td>\n",
       "      <td>-0.255981</td>\n",
       "      <td>-0.143198</td>\n",
       "      <td>0.130209</td>\n",
       "      <td>0.166232</td>\n",
       "      <td>0.149981</td>\n",
       "      <td>0.547197</td>\n",
       "      <td>-0.100224</td>\n",
       "      <td>-0.796017</td>\n",
       "      <td>-0.362816</td>\n",
       "    </tr>\n",
       "    <tr>\n",
       "      <th>eat</th>\n",
       "      <td>-0.032885</td>\n",
       "      <td>0.261040</td>\n",
       "      <td>-0.158864</td>\n",
       "      <td>-0.430133</td>\n",
       "      <td>0.499221</td>\n",
       "      <td>0.095286</td>\n",
       "      <td>0.047081</td>\n",
       "      <td>0.705352</td>\n",
       "      <td>-0.516536</td>\n",
       "      <td>0.443617</td>\n",
       "      <td>-0.188622</td>\n",
       "      <td>-0.251146</td>\n",
       "      <td>0.409977</td>\n",
       "      <td>-0.414751</td>\n",
       "      <td>0.234534</td>\n",
       "      <td>-0.212885</td>\n",
       "      <td>0.784576</td>\n",
       "      <td>-0.131131</td>\n",
       "      <td>-0.185831</td>\n",
       "      <td>-0.127197</td>\n",
       "    </tr>\n",
       "    <tr>\n",
       "      <th>sleep</th>\n",
       "      <td>-0.285541</td>\n",
       "      <td>0.252187</td>\n",
       "      <td>-0.309700</td>\n",
       "      <td>-0.498303</td>\n",
       "      <td>0.423306</td>\n",
       "      <td>0.091217</td>\n",
       "      <td>-0.071625</td>\n",
       "      <td>0.795924</td>\n",
       "      <td>-0.353459</td>\n",
       "      <td>0.606500</td>\n",
       "      <td>-0.164497</td>\n",
       "      <td>-0.177293</td>\n",
       "      <td>0.168336</td>\n",
       "      <td>-0.309277</td>\n",
       "      <td>0.386973</td>\n",
       "      <td>-0.214314</td>\n",
       "      <td>0.760026</td>\n",
       "      <td>-0.128903</td>\n",
       "      <td>-0.223333</td>\n",
       "      <td>0.110160</td>\n",
       "    </tr>\n",
       "    <tr>\n",
       "      <th>love</th>\n",
       "      <td>-0.251586</td>\n",
       "      <td>0.203804</td>\n",
       "      <td>-0.111134</td>\n",
       "      <td>-0.285130</td>\n",
       "      <td>0.201865</td>\n",
       "      <td>0.005606</td>\n",
       "      <td>0.080136</td>\n",
       "      <td>0.570687</td>\n",
       "      <td>-0.375661</td>\n",
       "      <td>0.313081</td>\n",
       "      <td>0.064360</td>\n",
       "      <td>-0.095279</td>\n",
       "      <td>0.095015</td>\n",
       "      <td>-0.272092</td>\n",
       "      <td>0.266576</td>\n",
       "      <td>-0.064760</td>\n",
       "      <td>0.616757</td>\n",
       "      <td>-0.042918</td>\n",
       "      <td>-0.330048</td>\n",
       "      <td>-0.159155</td>\n",
       "    </tr>\n",
       "    <tr>\n",
       "      <th>beautiful</th>\n",
       "      <td>-0.537737</td>\n",
       "      <td>0.415294</td>\n",
       "      <td>0.495968</td>\n",
       "      <td>0.376482</td>\n",
       "      <td>-0.191190</td>\n",
       "      <td>-0.397437</td>\n",
       "      <td>0.442400</td>\n",
       "      <td>0.472350</td>\n",
       "      <td>-0.489112</td>\n",
       "      <td>0.026153</td>\n",
       "      <td>0.248215</td>\n",
       "      <td>-0.239607</td>\n",
       "      <td>-0.047517</td>\n",
       "      <td>0.037819</td>\n",
       "      <td>0.305242</td>\n",
       "      <td>0.222431</td>\n",
       "      <td>0.410930</td>\n",
       "      <td>-0.205561</td>\n",
       "      <td>-0.682605</td>\n",
       "      <td>-0.162914</td>\n",
       "    </tr>\n",
       "    <tr>\n",
       "      <th>blue</th>\n",
       "      <td>-0.562696</td>\n",
       "      <td>0.387785</td>\n",
       "      <td>0.507303</td>\n",
       "      <td>0.356179</td>\n",
       "      <td>-0.065150</td>\n",
       "      <td>-0.463549</td>\n",
       "      <td>0.332215</td>\n",
       "      <td>0.502246</td>\n",
       "      <td>-0.424963</td>\n",
       "      <td>-0.170399</td>\n",
       "      <td>0.228248</td>\n",
       "      <td>-0.285755</td>\n",
       "      <td>-0.146949</td>\n",
       "      <td>0.098359</td>\n",
       "      <td>0.206314</td>\n",
       "      <td>0.261295</td>\n",
       "      <td>0.540724</td>\n",
       "      <td>-0.028262</td>\n",
       "      <td>-0.684278</td>\n",
       "      <td>-0.218079</td>\n",
       "    </tr>\n",
       "    <tr>\n",
       "      <th>dog</th>\n",
       "      <td>-0.146023</td>\n",
       "      <td>0.154594</td>\n",
       "      <td>-0.122213</td>\n",
       "      <td>-0.543840</td>\n",
       "      <td>0.467947</td>\n",
       "      <td>0.147323</td>\n",
       "      <td>-0.014789</td>\n",
       "      <td>0.696761</td>\n",
       "      <td>-0.412269</td>\n",
       "      <td>0.559191</td>\n",
       "      <td>0.045080</td>\n",
       "      <td>-0.276886</td>\n",
       "      <td>0.236336</td>\n",
       "      <td>-0.370920</td>\n",
       "      <td>0.327808</td>\n",
       "      <td>-0.135350</td>\n",
       "      <td>0.777375</td>\n",
       "      <td>0.012213</td>\n",
       "      <td>-0.097315</td>\n",
       "      <td>0.064499</td>\n",
       "    </tr>\n",
       "    <tr>\n",
       "      <th>loves</th>\n",
       "      <td>-0.053476</td>\n",
       "      <td>0.120426</td>\n",
       "      <td>-0.344219</td>\n",
       "      <td>-0.479579</td>\n",
       "      <td>0.400786</td>\n",
       "      <td>0.222386</td>\n",
       "      <td>0.121930</td>\n",
       "      <td>0.641168</td>\n",
       "      <td>-0.400808</td>\n",
       "      <td>0.513303</td>\n",
       "      <td>0.009846</td>\n",
       "      <td>-0.363763</td>\n",
       "      <td>0.280975</td>\n",
       "      <td>-0.299376</td>\n",
       "      <td>0.244434</td>\n",
       "      <td>-0.093553</td>\n",
       "      <td>0.838126</td>\n",
       "      <td>0.023406</td>\n",
       "      <td>-0.202772</td>\n",
       "      <td>0.022137</td>\n",
       "    </tr>\n",
       "    <tr>\n",
       "      <th>cats</th>\n",
       "      <td>-0.212941</td>\n",
       "      <td>0.196179</td>\n",
       "      <td>-0.249620</td>\n",
       "      <td>-0.422872</td>\n",
       "      <td>0.402647</td>\n",
       "      <td>0.146577</td>\n",
       "      <td>0.140531</td>\n",
       "      <td>0.541721</td>\n",
       "      <td>-0.344874</td>\n",
       "      <td>0.502993</td>\n",
       "      <td>-0.082643</td>\n",
       "      <td>-0.309063</td>\n",
       "      <td>0.272814</td>\n",
       "      <td>-0.216741</td>\n",
       "      <td>0.227674</td>\n",
       "      <td>-0.215723</td>\n",
       "      <td>0.555479</td>\n",
       "      <td>-0.045367</td>\n",
       "      <td>-0.152931</td>\n",
       "      <td>-0.089945</td>\n",
       "    </tr>\n",
       "    <tr>\n",
       "      <th>today</th>\n",
       "      <td>-0.529470</td>\n",
       "      <td>0.358813</td>\n",
       "      <td>0.489969</td>\n",
       "      <td>0.274007</td>\n",
       "      <td>-0.130989</td>\n",
       "      <td>-0.409232</td>\n",
       "      <td>0.323572</td>\n",
       "      <td>0.359675</td>\n",
       "      <td>-0.371683</td>\n",
       "      <td>-0.150983</td>\n",
       "      <td>0.257431</td>\n",
       "      <td>-0.219282</td>\n",
       "      <td>-0.099368</td>\n",
       "      <td>-0.009755</td>\n",
       "      <td>0.170542</td>\n",
       "      <td>0.250373</td>\n",
       "      <td>0.496119</td>\n",
       "      <td>-0.095750</td>\n",
       "      <td>-0.687062</td>\n",
       "      <td>-0.158033</td>\n",
       "    </tr>\n",
       "    <tr>\n",
       "      <th>birds</th>\n",
       "      <td>-0.184945</td>\n",
       "      <td>0.235443</td>\n",
       "      <td>-0.295145</td>\n",
       "      <td>-0.412591</td>\n",
       "      <td>0.436900</td>\n",
       "      <td>0.165155</td>\n",
       "      <td>0.039850</td>\n",
       "      <td>0.644373</td>\n",
       "      <td>-0.464605</td>\n",
       "      <td>0.524616</td>\n",
       "      <td>-0.127051</td>\n",
       "      <td>-0.237861</td>\n",
       "      <td>0.316546</td>\n",
       "      <td>-0.273752</td>\n",
       "      <td>0.326664</td>\n",
       "      <td>-0.240796</td>\n",
       "      <td>0.674895</td>\n",
       "      <td>0.014987</td>\n",
       "      <td>-0.285690</td>\n",
       "      <td>-0.132406</td>\n",
       "    </tr>\n",
       "    <tr>\n",
       "      <th>chirp</th>\n",
       "      <td>-0.254643</td>\n",
       "      <td>0.163946</td>\n",
       "      <td>-0.286722</td>\n",
       "      <td>-0.501125</td>\n",
       "      <td>0.461619</td>\n",
       "      <td>0.076658</td>\n",
       "      <td>0.140765</td>\n",
       "      <td>0.664264</td>\n",
       "      <td>-0.428540</td>\n",
       "      <td>0.536743</td>\n",
       "      <td>-0.055032</td>\n",
       "      <td>-0.295141</td>\n",
       "      <td>0.178703</td>\n",
       "      <td>-0.296128</td>\n",
       "      <td>0.191867</td>\n",
       "      <td>-0.214585</td>\n",
       "      <td>0.617817</td>\n",
       "      <td>-0.048449</td>\n",
       "      <td>-0.168209</td>\n",
       "      <td>-0.062515</td>\n",
       "    </tr>\n",
       "  </tbody>\n",
       "</table>\n",
       "</div>"
      ],
      "text/plain": [
       "                 0         1         2         3         4         5   \\\n",
       "sky       -0.537591  0.389582  0.481249  0.416759 -0.244082 -0.489424   \n",
       "eat       -0.032885  0.261040 -0.158864 -0.430133  0.499221  0.095286   \n",
       "sleep     -0.285541  0.252187 -0.309700 -0.498303  0.423306  0.091217   \n",
       "love      -0.251586  0.203804 -0.111134 -0.285130  0.201865  0.005606   \n",
       "beautiful -0.537737  0.415294  0.495968  0.376482 -0.191190 -0.397437   \n",
       "blue      -0.562696  0.387785  0.507303  0.356179 -0.065150 -0.463549   \n",
       "dog       -0.146023  0.154594 -0.122213 -0.543840  0.467947  0.147323   \n",
       "loves     -0.053476  0.120426 -0.344219 -0.479579  0.400786  0.222386   \n",
       "cats      -0.212941  0.196179 -0.249620 -0.422872  0.402647  0.146577   \n",
       "today     -0.529470  0.358813  0.489969  0.274007 -0.130989 -0.409232   \n",
       "birds     -0.184945  0.235443 -0.295145 -0.412591  0.436900  0.165155   \n",
       "chirp     -0.254643  0.163946 -0.286722 -0.501125  0.461619  0.076658   \n",
       "\n",
       "                 6         7         8         9         10        11  \\\n",
       "sky        0.451670  0.643302 -0.515591 -0.086804  0.321895 -0.255981   \n",
       "eat        0.047081  0.705352 -0.516536  0.443617 -0.188622 -0.251146   \n",
       "sleep     -0.071625  0.795924 -0.353459  0.606500 -0.164497 -0.177293   \n",
       "love       0.080136  0.570687 -0.375661  0.313081  0.064360 -0.095279   \n",
       "beautiful  0.442400  0.472350 -0.489112  0.026153  0.248215 -0.239607   \n",
       "blue       0.332215  0.502246 -0.424963 -0.170399  0.228248 -0.285755   \n",
       "dog       -0.014789  0.696761 -0.412269  0.559191  0.045080 -0.276886   \n",
       "loves      0.121930  0.641168 -0.400808  0.513303  0.009846 -0.363763   \n",
       "cats       0.140531  0.541721 -0.344874  0.502993 -0.082643 -0.309063   \n",
       "today      0.323572  0.359675 -0.371683 -0.150983  0.257431 -0.219282   \n",
       "birds      0.039850  0.644373 -0.464605  0.524616 -0.127051 -0.237861   \n",
       "chirp      0.140765  0.664264 -0.428540  0.536743 -0.055032 -0.295141   \n",
       "\n",
       "                 12        13        14        15        16        17  \\\n",
       "sky       -0.143198  0.130209  0.166232  0.149981  0.547197 -0.100224   \n",
       "eat        0.409977 -0.414751  0.234534 -0.212885  0.784576 -0.131131   \n",
       "sleep      0.168336 -0.309277  0.386973 -0.214314  0.760026 -0.128903   \n",
       "love       0.095015 -0.272092  0.266576 -0.064760  0.616757 -0.042918   \n",
       "beautiful -0.047517  0.037819  0.305242  0.222431  0.410930 -0.205561   \n",
       "blue      -0.146949  0.098359  0.206314  0.261295  0.540724 -0.028262   \n",
       "dog        0.236336 -0.370920  0.327808 -0.135350  0.777375  0.012213   \n",
       "loves      0.280975 -0.299376  0.244434 -0.093553  0.838126  0.023406   \n",
       "cats       0.272814 -0.216741  0.227674 -0.215723  0.555479 -0.045367   \n",
       "today     -0.099368 -0.009755  0.170542  0.250373  0.496119 -0.095750   \n",
       "birds      0.316546 -0.273752  0.326664 -0.240796  0.674895  0.014987   \n",
       "chirp      0.178703 -0.296128  0.191867 -0.214585  0.617817 -0.048449   \n",
       "\n",
       "                 18        19  \n",
       "sky       -0.796017 -0.362816  \n",
       "eat       -0.185831 -0.127197  \n",
       "sleep     -0.223333  0.110160  \n",
       "love      -0.330048 -0.159155  \n",
       "beautiful -0.682605 -0.162914  \n",
       "blue      -0.684278 -0.218079  \n",
       "dog       -0.097315  0.064499  \n",
       "loves     -0.202772  0.022137  \n",
       "cats      -0.152931 -0.089945  \n",
       "today     -0.687062 -0.158033  \n",
       "birds     -0.285690 -0.132406  \n",
       "chirp     -0.168209 -0.062515  "
      ]
     },
     "execution_count": 20,
     "metadata": {},
     "output_type": "execute_result"
    }
   ],
   "source": [
    "vec_df = pd.DataFrame(wvs, index=words)\n",
    "vec_df"
   ]
  },
  {
   "cell_type": "markdown",
   "metadata": {
    "id": "gTCiDguVRiqu"
   },
   "source": [
    "### Looking at term semantic similarity"
   ]
  },
  {
   "cell_type": "code",
   "execution_count": 21,
   "metadata": {
    "colab": {
     "base_uri": "https://localhost:8080/",
     "height": 425
    },
    "id": "S63FJhi2Riqv",
    "outputId": "ff226bf3-6b39-400e-d81a-28667dd364d0"
   },
   "outputs": [
    {
     "data": {
      "text/html": [
       "<div>\n",
       "<style scoped>\n",
       "    .dataframe tbody tr th:only-of-type {\n",
       "        vertical-align: middle;\n",
       "    }\n",
       "\n",
       "    .dataframe tbody tr th {\n",
       "        vertical-align: top;\n",
       "    }\n",
       "\n",
       "    .dataframe thead th {\n",
       "        text-align: right;\n",
       "    }\n",
       "</style>\n",
       "<table border=\"1\" class=\"dataframe\">\n",
       "  <thead>\n",
       "    <tr style=\"text-align: right;\">\n",
       "      <th></th>\n",
       "      <th>sky</th>\n",
       "      <th>eat</th>\n",
       "      <th>sleep</th>\n",
       "      <th>love</th>\n",
       "      <th>beautiful</th>\n",
       "      <th>blue</th>\n",
       "      <th>dog</th>\n",
       "      <th>loves</th>\n",
       "      <th>cats</th>\n",
       "      <th>today</th>\n",
       "      <th>birds</th>\n",
       "      <th>chirp</th>\n",
       "    </tr>\n",
       "  </thead>\n",
       "  <tbody>\n",
       "    <tr>\n",
       "      <th>sky</th>\n",
       "      <td>1.000000</td>\n",
       "      <td>0.307876</td>\n",
       "      <td>0.285437</td>\n",
       "      <td>0.557785</td>\n",
       "      <td>0.975546</td>\n",
       "      <td>0.980758</td>\n",
       "      <td>0.267332</td>\n",
       "      <td>0.268879</td>\n",
       "      <td>0.289521</td>\n",
       "      <td>0.973162</td>\n",
       "      <td>0.319747</td>\n",
       "      <td>0.310650</td>\n",
       "    </tr>\n",
       "    <tr>\n",
       "      <th>eat</th>\n",
       "      <td>0.307876</td>\n",
       "      <td>1.000000</td>\n",
       "      <td>0.940992</td>\n",
       "      <td>0.917359</td>\n",
       "      <td>0.322394</td>\n",
       "      <td>0.303182</td>\n",
       "      <td>0.955580</td>\n",
       "      <td>0.951847</td>\n",
       "      <td>0.960478</td>\n",
       "      <td>0.285810</td>\n",
       "      <td>0.972480</td>\n",
       "      <td>0.956363</td>\n",
       "    </tr>\n",
       "    <tr>\n",
       "      <th>sleep</th>\n",
       "      <td>0.285437</td>\n",
       "      <td>0.940992</td>\n",
       "      <td>1.000000</td>\n",
       "      <td>0.925795</td>\n",
       "      <td>0.311568</td>\n",
       "      <td>0.288036</td>\n",
       "      <td>0.964193</td>\n",
       "      <td>0.943319</td>\n",
       "      <td>0.956477</td>\n",
       "      <td>0.269172</td>\n",
       "      <td>0.964683</td>\n",
       "      <td>0.965215</td>\n",
       "    </tr>\n",
       "    <tr>\n",
       "      <th>love</th>\n",
       "      <td>0.557785</td>\n",
       "      <td>0.917359</td>\n",
       "      <td>0.925795</td>\n",
       "      <td>1.000000</td>\n",
       "      <td>0.558775</td>\n",
       "      <td>0.544590</td>\n",
       "      <td>0.919420</td>\n",
       "      <td>0.910334</td>\n",
       "      <td>0.913608</td>\n",
       "      <td>0.536768</td>\n",
       "      <td>0.939408</td>\n",
       "      <td>0.929904</td>\n",
       "    </tr>\n",
       "    <tr>\n",
       "      <th>beautiful</th>\n",
       "      <td>0.975546</td>\n",
       "      <td>0.322394</td>\n",
       "      <td>0.311568</td>\n",
       "      <td>0.558775</td>\n",
       "      <td>1.000000</td>\n",
       "      <td>0.971035</td>\n",
       "      <td>0.290674</td>\n",
       "      <td>0.277113</td>\n",
       "      <td>0.308875</td>\n",
       "      <td>0.976231</td>\n",
       "      <td>0.331465</td>\n",
       "      <td>0.320564</td>\n",
       "    </tr>\n",
       "    <tr>\n",
       "      <th>blue</th>\n",
       "      <td>0.980758</td>\n",
       "      <td>0.303182</td>\n",
       "      <td>0.288036</td>\n",
       "      <td>0.544590</td>\n",
       "      <td>0.971035</td>\n",
       "      <td>1.000000</td>\n",
       "      <td>0.277240</td>\n",
       "      <td>0.264217</td>\n",
       "      <td>0.279258</td>\n",
       "      <td>0.989974</td>\n",
       "      <td>0.309100</td>\n",
       "      <td>0.301355</td>\n",
       "    </tr>\n",
       "    <tr>\n",
       "      <th>dog</th>\n",
       "      <td>0.267332</td>\n",
       "      <td>0.955580</td>\n",
       "      <td>0.964193</td>\n",
       "      <td>0.919420</td>\n",
       "      <td>0.290674</td>\n",
       "      <td>0.277240</td>\n",
       "      <td>1.000000</td>\n",
       "      <td>0.972958</td>\n",
       "      <td>0.959732</td>\n",
       "      <td>0.261208</td>\n",
       "      <td>0.958745</td>\n",
       "      <td>0.967641</td>\n",
       "    </tr>\n",
       "    <tr>\n",
       "      <th>loves</th>\n",
       "      <td>0.268879</td>\n",
       "      <td>0.951847</td>\n",
       "      <td>0.943319</td>\n",
       "      <td>0.910334</td>\n",
       "      <td>0.277113</td>\n",
       "      <td>0.264217</td>\n",
       "      <td>0.972958</td>\n",
       "      <td>1.000000</td>\n",
       "      <td>0.967171</td>\n",
       "      <td>0.247430</td>\n",
       "      <td>0.964984</td>\n",
       "      <td>0.965673</td>\n",
       "    </tr>\n",
       "    <tr>\n",
       "      <th>cats</th>\n",
       "      <td>0.289521</td>\n",
       "      <td>0.960478</td>\n",
       "      <td>0.956477</td>\n",
       "      <td>0.913608</td>\n",
       "      <td>0.308875</td>\n",
       "      <td>0.279258</td>\n",
       "      <td>0.959732</td>\n",
       "      <td>0.967171</td>\n",
       "      <td>1.000000</td>\n",
       "      <td>0.258103</td>\n",
       "      <td>0.985486</td>\n",
       "      <td>0.989823</td>\n",
       "    </tr>\n",
       "    <tr>\n",
       "      <th>today</th>\n",
       "      <td>0.973162</td>\n",
       "      <td>0.285810</td>\n",
       "      <td>0.269172</td>\n",
       "      <td>0.536768</td>\n",
       "      <td>0.976231</td>\n",
       "      <td>0.989974</td>\n",
       "      <td>0.261208</td>\n",
       "      <td>0.247430</td>\n",
       "      <td>0.258103</td>\n",
       "      <td>1.000000</td>\n",
       "      <td>0.286535</td>\n",
       "      <td>0.279950</td>\n",
       "    </tr>\n",
       "    <tr>\n",
       "      <th>birds</th>\n",
       "      <td>0.319747</td>\n",
       "      <td>0.972480</td>\n",
       "      <td>0.964683</td>\n",
       "      <td>0.939408</td>\n",
       "      <td>0.331465</td>\n",
       "      <td>0.309100</td>\n",
       "      <td>0.958745</td>\n",
       "      <td>0.964984</td>\n",
       "      <td>0.985486</td>\n",
       "      <td>0.286535</td>\n",
       "      <td>1.000000</td>\n",
       "      <td>0.977007</td>\n",
       "    </tr>\n",
       "    <tr>\n",
       "      <th>chirp</th>\n",
       "      <td>0.310650</td>\n",
       "      <td>0.956363</td>\n",
       "      <td>0.965215</td>\n",
       "      <td>0.929904</td>\n",
       "      <td>0.320564</td>\n",
       "      <td>0.301355</td>\n",
       "      <td>0.967641</td>\n",
       "      <td>0.965673</td>\n",
       "      <td>0.989823</td>\n",
       "      <td>0.279950</td>\n",
       "      <td>0.977007</td>\n",
       "      <td>1.000000</td>\n",
       "    </tr>\n",
       "  </tbody>\n",
       "</table>\n",
       "</div>"
      ],
      "text/plain": [
       "                sky       eat     sleep      love  beautiful      blue  \\\n",
       "sky        1.000000  0.307876  0.285437  0.557785   0.975546  0.980758   \n",
       "eat        0.307876  1.000000  0.940992  0.917359   0.322394  0.303182   \n",
       "sleep      0.285437  0.940992  1.000000  0.925795   0.311568  0.288036   \n",
       "love       0.557785  0.917359  0.925795  1.000000   0.558775  0.544590   \n",
       "beautiful  0.975546  0.322394  0.311568  0.558775   1.000000  0.971035   \n",
       "blue       0.980758  0.303182  0.288036  0.544590   0.971035  1.000000   \n",
       "dog        0.267332  0.955580  0.964193  0.919420   0.290674  0.277240   \n",
       "loves      0.268879  0.951847  0.943319  0.910334   0.277113  0.264217   \n",
       "cats       0.289521  0.960478  0.956477  0.913608   0.308875  0.279258   \n",
       "today      0.973162  0.285810  0.269172  0.536768   0.976231  0.989974   \n",
       "birds      0.319747  0.972480  0.964683  0.939408   0.331465  0.309100   \n",
       "chirp      0.310650  0.956363  0.965215  0.929904   0.320564  0.301355   \n",
       "\n",
       "                dog     loves      cats     today     birds     chirp  \n",
       "sky        0.267332  0.268879  0.289521  0.973162  0.319747  0.310650  \n",
       "eat        0.955580  0.951847  0.960478  0.285810  0.972480  0.956363  \n",
       "sleep      0.964193  0.943319  0.956477  0.269172  0.964683  0.965215  \n",
       "love       0.919420  0.910334  0.913608  0.536768  0.939408  0.929904  \n",
       "beautiful  0.290674  0.277113  0.308875  0.976231  0.331465  0.320564  \n",
       "blue       0.277240  0.264217  0.279258  0.989974  0.309100  0.301355  \n",
       "dog        1.000000  0.972958  0.959732  0.261208  0.958745  0.967641  \n",
       "loves      0.972958  1.000000  0.967171  0.247430  0.964984  0.965673  \n",
       "cats       0.959732  0.967171  1.000000  0.258103  0.985486  0.989823  \n",
       "today      0.261208  0.247430  0.258103  1.000000  0.286535  0.279950  \n",
       "birds      0.958745  0.964984  0.985486  0.286535  1.000000  0.977007  \n",
       "chirp      0.967641  0.965673  0.989823  0.279950  0.977007  1.000000  "
      ]
     },
     "execution_count": 21,
     "metadata": {},
     "output_type": "execute_result"
    }
   ],
   "source": [
    "import numpy as np\n",
    "from sklearn.metrics.pairwise import cosine_similarity\n",
    "\n",
    "similarity_matrix = cosine_similarity(vec_df.values)\n",
    "similarity_df = pd.DataFrame(similarity_matrix, index=words, columns=words)\n",
    "similarity_df"
   ]
  },
  {
   "cell_type": "code",
   "execution_count": 22,
   "metadata": {
    "colab": {
     "base_uri": "https://localhost:8080/"
    },
    "id": "adi_Uo8szMHZ",
    "outputId": "657e8316-f814-484f-d2b6-71ebb52a462e"
   },
   "outputs": [
    {
     "data": {
      "text/plain": [
       "[('blue', 0.9807584881782532),\n",
       " ('beautiful', 0.9755456447601318),\n",
       " ('today', 0.9731618165969849),\n",
       " ('love', 0.5577847957611084),\n",
       " ('birds', 0.31974655389785767),\n",
       " ('chirp', 0.3106498122215271),\n",
       " ('eat', 0.30787578225135803),\n",
       " ('cats', 0.2895212471485138),\n",
       " ('sleep', 0.28543731570243835),\n",
       " ('loves', 0.2688785493373871)]"
      ]
     },
     "execution_count": 22,
     "metadata": {},
     "output_type": "execute_result"
    }
   ],
   "source": [
    "w2v_model.wv.most_similar('sky')"
   ]
  },
  {
   "cell_type": "code",
   "execution_count": 23,
   "metadata": {
    "colab": {
     "base_uri": "https://localhost:8080/"
    },
    "id": "AqKFhpSkzO6a",
    "outputId": "98686d6c-39e2-4d6e-b3cb-38a7bff17c6a"
   },
   "outputs": [
    {
     "data": {
      "text/plain": [
       "[('loves', 0.972957968711853),\n",
       " ('chirp', 0.9676408767700195),\n",
       " ('sleep', 0.9641932249069214),\n",
       " ('cats', 0.9597324132919312),\n",
       " ('birds', 0.9587447643280029),\n",
       " ('eat', 0.9555801153182983),\n",
       " ('love', 0.919419527053833),\n",
       " ('beautiful', 0.2906741499900818),\n",
       " ('blue', 0.277239590883255),\n",
       " ('sky', 0.2673323452472687)]"
      ]
     },
     "execution_count": 23,
     "metadata": {},
     "output_type": "execute_result"
    }
   ],
   "source": [
    "w2v_model.wv.most_similar('dog')"
   ]
  },
  {
   "cell_type": "code",
   "execution_count": null,
   "metadata": {},
   "outputs": [],
   "source": []
  }
 ],
 "metadata": {
  "colab": {
   "provenance": []
  },
  "kernelspec": {
   "display_name": "Python 3 (ipykernel)",
   "language": "python",
   "name": "python3"
  },
  "language_info": {
   "codemirror_mode": {
    "name": "ipython",
    "version": 3
   },
   "file_extension": ".py",
   "mimetype": "text/x-python",
   "name": "python",
   "nbconvert_exporter": "python",
   "pygments_lexer": "ipython3",
   "version": "3.11.10"
  }
 },
 "nbformat": 4,
 "nbformat_minor": 4
}
