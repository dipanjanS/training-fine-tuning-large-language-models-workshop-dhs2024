{
 "cells": [
  {
   "cell_type": "markdown",
   "metadata": {},
   "source": [
    "# Supervised Fine-tuning Llama 3 LLM for RAG Systems \n",
    "\n",
    "Here we will use our RAG dataset which we custom made earlier to fine-tune Meta's Llama 3 LLM.\n",
    "\n",
    "We will be fine-tuning the 8 Billion parameter LLM with PEFT and Supervised Fine-tuning.\n",
    "\n",
    "While most online tutorials show you to fine-tune LLMs for RAG using triplets of Context-Question-Answer, in reality a RAG system doesn't work that way completely.\n",
    "\n",
    "When you retrieve from the vector database, your context might contain relevant and irrelevant documents, so it is necessary for our context also to have both relevant and distractor (irrelevant) documents when training the model to use this context and generate answers for each question.\n",
    "\n",
    "This approach is inspired from the [RAFT: Adapting Language Model to Domain Specific RAG](https://arxiv.org/abs/2403.10131) research paper which suggests the above approach as depicted in the following figure:\n",
    "\n",
    "![](https://i.imgur.com/Flf10SW.png)\r\n"
   ]
  },
  {
   "cell_type": "markdown",
   "metadata": {},
   "source": [
    "We are using Unsloth which makes PEFT finetuning large language models like Llama-3, Mistral, Phi-3 and Gemma 2x faster, use 70% less memory, and with no degradation in accuracy!"
   ]
  },
  {
   "cell_type": "code",
   "execution_count": 1,
   "metadata": {
    "colab": {
     "base_uri": "https://localhost:8080/"
    },
    "id": "hJsbuKHzgKXp",
    "outputId": "67f6f47b-ce9d-4a2d-e955-77542b62e390"
   },
   "outputs": [
    {
     "name": "stdout",
     "output_type": "stream",
     "text": [
      "🦥 Unsloth: Will patch your computer to enable 2x faster free finetuning.\n",
      "🦥 Unsloth Zoo will now patch everything to make training faster!\n"
     ]
    }
   ],
   "source": [
    "import torch\n",
    "from trl import SFTTrainer\n",
    "from datasets import load_dataset\n",
    "from transformers import TrainingArguments, TextStreamer\n",
    "from unsloth.chat_templates import get_chat_template\n",
    "from unsloth import FastLanguageModel, is_bfloat16_supported"
   ]
  },
  {
   "cell_type": "markdown",
   "metadata": {},
   "source": [
    "## Load Llama 3 8B quantized LLM"
   ]
  },
  {
   "cell_type": "code",
   "execution_count": 2,
   "metadata": {
    "colab": {
     "base_uri": "https://localhost:8080/",
     "height": 281,
     "referenced_widgets": [
      "1c78dfd24f3f4886ba75cd5e4894f07c",
      "da7c9efd5b8440a899e877713631c071",
      "0cd0e5e9c77e449ca448683322c3b840",
      "b74d10c8bc7143c59b2eb358f8d58ac9",
      "f0667340ae2e4e5eb241a041d2a3d792",
      "b8347d22d61b4703a2870e153fe54371",
      "514174f825f84904a153c364e14a3151",
      "eca0ce492d1c4102bcf037540fd2c1fe",
      "17221283325643afbfeb4f40e4ab0f40",
      "47f566b8a6ba4ac7bab624aab7445df5",
      "ec0972647ae34d1bab21be1c6564cc10",
      "b33c112272294a30ac70e26cffe41cb7",
      "fe06b8b62abb4498a0ba3f1636436673",
      "e2c56f5a960d4769bb533a5f32d1ad93",
      "8ab702c5b8034ce2bbc63b6b76dc4f76",
      "fef743353122430098f8cba68f0e936a",
      "82546e2d911e4036b3fe826fed2aa4ee",
      "74d77f257cd44bd699b7a17054b579fa",
      "2a3c05a25f754573bf5209e2ff31b7a3",
      "e1bcfc64cdb1447f9cbe0e38376c07b7",
      "9e161c1f696c4879abe0f7f70c896cba",
      "585ae5ceb09d482fb0cfae87adf01169",
      "0fadb2bb81d84df4b8e311339d70d91b",
      "a211ef81dcd148e2a19bee9262caefd5",
      "8fb70e20c641472a9fc1bdbb4f2591a6",
      "cd8e505d02b6484397a21fc49cd2be15",
      "494d4f65dbdd404fa5e06dba14dcc82d",
      "890778e517864b1a9f1ff194b61ded3c",
      "103a7e47c6ca40b98f15d4991353b7d3",
      "40b154582ae946ff87739e259da77111",
      "886d05b559c740308b197da17ab1f6da",
      "d799f24551744c6c85a05eb9b2330caf",
      "0b35ee66046c4e4eaed1884e939c842c",
      "928c48023cec4c0287dac7dddba9ff11",
      "19db803aea87419bae4b569178cd82b7",
      "9537a0b1cd194415916de658b4681896",
      "40ef8f0b161c45989f06d3a2028f02f7",
      "8869c0a2f8f44e0fa024b4bd05df39be",
      "15cd9606ea644dbdb721026ef8355772",
      "4e698291defc4d3396278d3332cba0a9",
      "a03c02eedb5e4c9eb1a2f9ade128e1da",
      "efc584c08bba40cdbfb4aa0a4fe7837c",
      "82b0acbcd5c9480fb06472e03086a80e",
      "b2b6ae6ef3d1446899738f81c4691c8c",
      "5f6c07320949467793653801932922a5",
      "f851a0f807a948d787a3491623e2a85f",
      "216661536bf34a10a041cd681f107606",
      "ab4ca282a0344b9d9d243ed02134635c",
      "f763d13d74db43069a22109984119d57",
      "3ca1c7250017425b9d608c24726fc558",
      "72ac105008a7478598f662e4844b5409",
      "607491acdba44ebab09b2e907ecbce3b",
      "0d52187f7d454e458c1048df962a0439",
      "f76690d5ec7047cabe28164d6b9f4bc1",
      "e846876b36b3448a87873f17e163112f"
     ]
    },
    "id": "tF3y3zISgWwr",
    "outputId": "a18a5deb-b005-47d7-99e0-eb5081db8116"
   },
   "outputs": [
    {
     "name": "stdout",
     "output_type": "stream",
     "text": [
      "==((====))==  Unsloth 2025.2.12: Fast Llama patching. Transformers: 4.48.3.\n",
      "   \\\\   /|    GPU: NVIDIA A40. Max memory: 44.339 GB. Platform: Linux.\n",
      "O^O/ \\_/ \\    Torch: 2.4.1+cu124. CUDA: 8.6. CUDA Toolkit: 12.4. Triton: 3.0.0\n",
      "\\        /    Bfloat16 = TRUE. FA [Xformers = 0.0.28.post1. FA2 = True]\n",
      " \"-____-\"     Free Apache license: http://github.com/unslothai/unsloth\n",
      "Unsloth: Fast downloading is enabled - ignore downloading bars which are red colored!\n"
     ]
    }
   ],
   "source": [
    "max_seq_length = 2048\n",
    "\n",
    "model, tokenizer = FastLanguageModel.from_pretrained(\n",
    "    model_name=\"unsloth/llama-3-8b-Instruct-bnb-4bit\",\n",
    "    max_seq_length=max_seq_length,\n",
    "    load_in_4bit=True,\n",
    "    dtype=None,\n",
    ")"
   ]
  },
  {
   "cell_type": "code",
   "execution_count": 3,
   "metadata": {
    "colab": {
     "base_uri": "https://localhost:8080/"
    },
    "id": "KPSJV9Ncgasp",
    "outputId": "5c8e8da6-4a8a-4cbd-b625-7fb916567669"
   },
   "outputs": [
    {
     "data": {
      "text/plain": [
       "LlamaForCausalLM(\n",
       "  (model): LlamaModel(\n",
       "    (embed_tokens): Embedding(128256, 4096, padding_idx=128255)\n",
       "    (layers): ModuleList(\n",
       "      (0-31): 32 x LlamaDecoderLayer(\n",
       "        (self_attn): LlamaAttention(\n",
       "          (q_proj): Linear4bit(in_features=4096, out_features=4096, bias=False)\n",
       "          (k_proj): Linear4bit(in_features=4096, out_features=1024, bias=False)\n",
       "          (v_proj): Linear4bit(in_features=4096, out_features=1024, bias=False)\n",
       "          (o_proj): Linear4bit(in_features=4096, out_features=4096, bias=False)\n",
       "          (rotary_emb): LlamaRotaryEmbedding()\n",
       "        )\n",
       "        (mlp): LlamaMLP(\n",
       "          (gate_proj): Linear4bit(in_features=4096, out_features=14336, bias=False)\n",
       "          (up_proj): Linear4bit(in_features=4096, out_features=14336, bias=False)\n",
       "          (down_proj): Linear4bit(in_features=14336, out_features=4096, bias=False)\n",
       "          (act_fn): SiLU()\n",
       "        )\n",
       "        (input_layernorm): LlamaRMSNorm((4096,), eps=1e-05)\n",
       "        (post_attention_layernorm): LlamaRMSNorm((4096,), eps=1e-05)\n",
       "      )\n",
       "    )\n",
       "    (norm): LlamaRMSNorm((4096,), eps=1e-05)\n",
       "    (rotary_emb): LlamaRotaryEmbedding()\n",
       "  )\n",
       "  (lm_head): Linear(in_features=4096, out_features=128256, bias=False)\n",
       ")"
      ]
     },
     "execution_count": 3,
     "metadata": {},
     "output_type": "execute_result"
    }
   ],
   "source": [
    "model"
   ]
  },
  {
   "cell_type": "code",
   "execution_count": 4,
   "metadata": {
    "colab": {
     "base_uri": "https://localhost:8080/",
     "height": 187
    },
    "id": "4NFkl0cjgs37",
    "outputId": "24f5a7d7-8732-4154-bb93-b9555cbaab38"
   },
   "outputs": [
    {
     "data": {
      "text/plain": [
       "transformers.models.llama.modeling_llama.LlamaForCausalLM"
      ]
     },
     "execution_count": 4,
     "metadata": {},
     "output_type": "execute_result"
    }
   ],
   "source": [
    "type(model)"
   ]
  },
  {
   "cell_type": "markdown",
   "metadata": {},
   "source": [
    "## Try LLM on sample prompts in inference mode"
   ]
  },
  {
   "cell_type": "code",
   "execution_count": 5,
   "metadata": {
    "id": "pp6VeauziM5G"
   },
   "outputs": [
    {
     "data": {
      "text/plain": [
       "LlamaForCausalLM(\n",
       "  (model): LlamaModel(\n",
       "    (embed_tokens): Embedding(128256, 4096, padding_idx=128255)\n",
       "    (layers): ModuleList(\n",
       "      (0-31): 32 x LlamaDecoderLayer(\n",
       "        (self_attn): LlamaAttention(\n",
       "          (q_proj): Linear4bit(in_features=4096, out_features=4096, bias=False)\n",
       "          (k_proj): Linear4bit(in_features=4096, out_features=1024, bias=False)\n",
       "          (v_proj): Linear4bit(in_features=4096, out_features=1024, bias=False)\n",
       "          (o_proj): Linear4bit(in_features=4096, out_features=4096, bias=False)\n",
       "          (rotary_emb): LlamaRotaryEmbedding()\n",
       "        )\n",
       "        (mlp): LlamaMLP(\n",
       "          (gate_proj): Linear4bit(in_features=4096, out_features=14336, bias=False)\n",
       "          (up_proj): Linear4bit(in_features=4096, out_features=14336, bias=False)\n",
       "          (down_proj): Linear4bit(in_features=14336, out_features=4096, bias=False)\n",
       "          (act_fn): SiLU()\n",
       "        )\n",
       "        (input_layernorm): LlamaRMSNorm((4096,), eps=1e-05)\n",
       "        (post_attention_layernorm): LlamaRMSNorm((4096,), eps=1e-05)\n",
       "      )\n",
       "    )\n",
       "    (norm): LlamaRMSNorm((4096,), eps=1e-05)\n",
       "    (rotary_emb): LlamaRotaryEmbedding()\n",
       "  )\n",
       "  (lm_head): Linear(in_features=4096, out_features=128256, bias=False)\n",
       ")"
      ]
     },
     "execution_count": 5,
     "metadata": {},
     "output_type": "execute_result"
    }
   ],
   "source": [
    "FastLanguageModel.for_inference(model)"
   ]
  },
  {
   "cell_type": "code",
   "execution_count": 6,
   "metadata": {
    "colab": {
     "base_uri": "https://localhost:8080/"
    },
    "id": "iXHnDX0WhfNd",
    "outputId": "7ea06aaa-9af4-40df-f078-37729c164d33"
   },
   "outputs": [
    {
     "name": "stdout",
     "output_type": "stream",
     "text": [
      "<|begin_of_text|><|start_header_id|>user<|end_header_id|>\n",
      "\n",
      "Tell me about the Indian Flag<|eot_id|><|start_header_id|>assistant<|end_header_id|>\n",
      "\n",
      "\n"
     ]
    }
   ],
   "source": [
    "messages = [\n",
    "    {\"role\": \"user\", \"content\": \"Tell me about the Indian Flag\"},\n",
    "]\n",
    "\n",
    "prompt = tokenizer.apply_chat_template(messages,\n",
    "                                       tokenize=False,\n",
    "                                       add_generation_prompt=True)\n",
    "print(prompt)"
   ]
  },
  {
   "cell_type": "code",
   "execution_count": 7,
   "metadata": {
    "id": "2HLqb2Q_kj7y"
   },
   "outputs": [],
   "source": [
    "# Encode the prompt.\n",
    "inputs = tokenizer(prompt, return_tensors=\"pt\").to('cuda')\n",
    "\n",
    "# Generate the output.\n",
    "output = model.generate(**inputs, max_new_tokens=200,\n",
    "                        eos_token_id=tokenizer.eos_token_id,\n",
    "                        tokenizer=tokenizer, stop_strings=[\"<|eot_id|>\"])\n",
    "\n",
    "# Decode the output.\n",
    "text = tokenizer.decode(output[0], skip_special_tokens=False)"
   ]
  },
  {
   "cell_type": "code",
   "execution_count": 8,
   "metadata": {
    "colab": {
     "base_uri": "https://localhost:8080/"
    },
    "id": "UHhrwbz6j8hP",
    "outputId": "b3c15ab3-77e7-47fa-c49f-4045b17f551f"
   },
   "outputs": [
    {
     "name": "stdout",
     "output_type": "stream",
     "text": [
      "<|begin_of_text|><|begin_of_text|><|start_header_id|>user<|end_header_id|>\n",
      "\n",
      "Tell me about the Indian Flag<|eot_id|><|start_header_id|>assistant<|end_header_id|>\n",
      "\n",
      "The Indian flag, also known as the Tiranga, is the national flag of India. It is a horizontal tricolor of saffron, white, and green colors, with a blue chakra (wheel) in the center. The flag is also known as the \"Tricolor\" or \"Tiranga\" in Hindi.\n",
      "\n",
      "Here's a breakdown of the significance of each color:\n",
      "\n",
      "1. **Saffron (Kesari):** The topmost band is saffron, which represents courage, sacrifice, and the spirit of renunciation.\n",
      "2. **White:** The middle band is white, which symbolizes purity, truth, and peace.\n",
      "3. **Green:** The bottommost band is green, which represents faith, fertility, and prosperity.\n",
      "\n",
      "The blue chakra in the center is known as the \"Ashoka Chakra\" or the \"Dharma Chakra,\" which is a 24-spoked wheel. It is a symbol of the eternal wheel of law, representing\n"
     ]
    }
   ],
   "source": [
    "print(text)"
   ]
  },
  {
   "cell_type": "code",
   "execution_count": 9,
   "metadata": {},
   "outputs": [
    {
     "name": "stdout",
     "output_type": "stream",
     "text": [
      "<|begin_of_text|><|start_header_id|>user<|end_header_id|>\n",
      "\n",
      "Explain AI in 1 line<|eot_id|><|start_header_id|>assistant<|end_header_id|>\n",
      "\n",
      "\n"
     ]
    }
   ],
   "source": [
    "messages = [\n",
    "    {\"role\": \"user\", \"content\": \"Explain AI in 1 line\"},\n",
    "]\n",
    "\n",
    "prompt = tokenizer.apply_chat_template(messages,\n",
    "                                       tokenize=False,\n",
    "                                       add_generation_prompt=True)\n",
    "print(prompt)"
   ]
  },
  {
   "cell_type": "code",
   "execution_count": 10,
   "metadata": {},
   "outputs": [
    {
     "name": "stdout",
     "output_type": "stream",
     "text": [
      "<|begin_of_text|><|begin_of_text|><|start_header_id|>user<|end_header_id|>\n",
      "\n",
      "Explain AI in 1 line<|eot_id|><|start_header_id|>assistant<|end_header_id|>\n",
      "\n",
      "Artificial Intelligence (AI) refers to the development of computer systems that can perform tasks that typically require human intelligence, such as learning, problem-solving, and decision-making, through the use of algorithms, data analysis, and machine learning techniques.<|eot_id|>\n"
     ]
    }
   ],
   "source": [
    "# Encode the prompt.\n",
    "inputs = tokenizer(prompt, return_tensors=\"pt\").to('cuda')\n",
    "\n",
    "# Generate the output.\n",
    "output = model.generate(**inputs, max_new_tokens=200,\n",
    "                        eos_token_id=tokenizer.eos_token_id,\n",
    "                        tokenizer=tokenizer, stop_strings=[\"<|eot_id|>\"])\n",
    "\n",
    "# Decode the output.\n",
    "text = tokenizer.decode(output[0], skip_special_tokens=False)\n",
    "print(text)"
   ]
  },
  {
   "cell_type": "markdown",
   "metadata": {},
   "source": [
    "## Load RAG Dataset for Fine-tuning LLM"
   ]
  },
  {
   "cell_type": "code",
   "execution_count": 11,
   "metadata": {
    "id": "xUFan9Gik-8t"
   },
   "outputs": [],
   "source": [
    "dataset = load_dataset(\"dipanjanS/india_rag_wikidata\", split=\"train\")"
   ]
  },
  {
   "cell_type": "code",
   "execution_count": 12,
   "metadata": {
    "colab": {
     "base_uri": "https://localhost:8080/"
    },
    "id": "0EObmF2wxeqX",
    "outputId": "a090cec9-c993-49db-f329-5a442320c92f"
   },
   "outputs": [
    {
     "data": {
      "text/plain": [
       "Dataset({\n",
       "    features: ['article_id', 'context', 'question', 'answer'],\n",
       "    num_rows: 1340\n",
       "})"
      ]
     },
     "execution_count": 12,
     "metadata": {},
     "output_type": "execute_result"
    }
   ],
   "source": [
    "dataset"
   ]
  },
  {
   "cell_type": "code",
   "execution_count": 13,
   "metadata": {
    "colab": {
     "base_uri": "https://localhost:8080/",
     "height": 293
    },
    "id": "jS-9cc0Uxf6I",
    "outputId": "9cc4e482-8e29-441e-d51b-68d0608dae0a"
   },
   "outputs": [
    {
     "data": {
      "text/html": [
       "<div>\n",
       "<style scoped>\n",
       "    .dataframe tbody tr th:only-of-type {\n",
       "        vertical-align: middle;\n",
       "    }\n",
       "\n",
       "    .dataframe tbody tr th {\n",
       "        vertical-align: top;\n",
       "    }\n",
       "\n",
       "    .dataframe thead th {\n",
       "        text-align: right;\n",
       "    }\n",
       "</style>\n",
       "<table border=\"1\" class=\"dataframe\">\n",
       "  <thead>\n",
       "    <tr style=\"text-align: right;\">\n",
       "      <th></th>\n",
       "      <th>article_id</th>\n",
       "      <th>context</th>\n",
       "      <th>question</th>\n",
       "      <th>answer</th>\n",
       "    </tr>\n",
       "  </thead>\n",
       "  <tbody>\n",
       "    <tr>\n",
       "      <th>0</th>\n",
       "      <td>73985</td>\n",
       "      <td>Basil (\"Ocimum basilicum\") ( or ) is a plant o...</td>\n",
       "      <td>What is Basil commonly known as?</td>\n",
       "      <td>Dear Friend, Basil is commonly known as Sweet ...</td>\n",
       "    </tr>\n",
       "    <tr>\n",
       "      <th>1</th>\n",
       "      <td>73985</td>\n",
       "      <td>Basil (\"Ocimum basilicum\") ( or ) is a plant o...</td>\n",
       "      <td>Where is Basil originally native to?</td>\n",
       "      <td>Dear Friend, Basil is originally native to Ind...</td>\n",
       "    </tr>\n",
       "    <tr>\n",
       "      <th>2</th>\n",
       "      <td>259745</td>\n",
       "      <td>The Roerich Pact is a treaty on Protection of ...</td>\n",
       "      <td>What is the significance of the Roerich Pact?</td>\n",
       "      <td>Dear Friend, the Roerich Pact is significant b...</td>\n",
       "    </tr>\n",
       "    <tr>\n",
       "      <th>3</th>\n",
       "      <td>259745</td>\n",
       "      <td>The Roerich Pact is a treaty on Protection of ...</td>\n",
       "      <td>When was the Roerich Pact signed?</td>\n",
       "      <td>Dear Friend, the Roerich Pact was signed on 15...</td>\n",
       "    </tr>\n",
       "    <tr>\n",
       "      <th>4</th>\n",
       "      <td>207506</td>\n",
       "      <td>The Indian Air Force is the air arm of the Ind...</td>\n",
       "      <td>What is the history of the Indian Air Force?</td>\n",
       "      <td>Dear Friend, the Indian Air Force was founded ...</td>\n",
       "    </tr>\n",
       "  </tbody>\n",
       "</table>\n",
       "</div>"
      ],
      "text/plain": [
       "   article_id                                            context  \\\n",
       "0       73985  Basil (\"Ocimum basilicum\") ( or ) is a plant o...   \n",
       "1       73985  Basil (\"Ocimum basilicum\") ( or ) is a plant o...   \n",
       "2      259745  The Roerich Pact is a treaty on Protection of ...   \n",
       "3      259745  The Roerich Pact is a treaty on Protection of ...   \n",
       "4      207506  The Indian Air Force is the air arm of the Ind...   \n",
       "\n",
       "                                        question  \\\n",
       "0               What is Basil commonly known as?   \n",
       "1           Where is Basil originally native to?   \n",
       "2  What is the significance of the Roerich Pact?   \n",
       "3              When was the Roerich Pact signed?   \n",
       "4   What is the history of the Indian Air Force?   \n",
       "\n",
       "                                              answer  \n",
       "0  Dear Friend, Basil is commonly known as Sweet ...  \n",
       "1  Dear Friend, Basil is originally native to Ind...  \n",
       "2  Dear Friend, the Roerich Pact is significant b...  \n",
       "3  Dear Friend, the Roerich Pact was signed on 15...  \n",
       "4  Dear Friend, the Indian Air Force was founded ...  "
      ]
     },
     "execution_count": 13,
     "metadata": {},
     "output_type": "execute_result"
    }
   ],
   "source": [
    "import pandas as pd\n",
    "\n",
    "df = pd.DataFrame(dataset)\n",
    "df.head()"
   ]
  },
  {
   "attachments": {},
   "cell_type": "markdown",
   "metadata": {},
   "source": [
    "We now follow some aspects of the RAFT paper where for each row of data, we also sample the context from two other random irrelevant documents\n",
    "\n",
    "![](https://i.imgur.com/3Bln2mU.png)"
   ]
  },
  {
   "cell_type": "code",
   "execution_count": 14,
   "metadata": {},
   "outputs": [],
   "source": [
    "def get_two_random_rows(exclude_id):\n",
    "    filtered_df = df[df['article_id'] != exclude_id]\n",
    "    return filtered_df.sample(2)"
   ]
  },
  {
   "cell_type": "code",
   "execution_count": 15,
   "metadata": {
    "colab": {
     "base_uri": "https://localhost:8080/",
     "height": 293
    },
    "id": "lctwfwNVx7dE",
    "outputId": "42603e71-c2b1-4d36-f220-00df97f3a42b"
   },
   "outputs": [
    {
     "data": {
      "text/html": [
       "<div>\n",
       "<style scoped>\n",
       "    .dataframe tbody tr th:only-of-type {\n",
       "        vertical-align: middle;\n",
       "    }\n",
       "\n",
       "    .dataframe tbody tr th {\n",
       "        vertical-align: top;\n",
       "    }\n",
       "\n",
       "    .dataframe thead th {\n",
       "        text-align: right;\n",
       "    }\n",
       "</style>\n",
       "<table border=\"1\" class=\"dataframe\">\n",
       "  <thead>\n",
       "    <tr style=\"text-align: right;\">\n",
       "      <th></th>\n",
       "      <th>context</th>\n",
       "      <th>question</th>\n",
       "      <th>answer</th>\n",
       "    </tr>\n",
       "  </thead>\n",
       "  <tbody>\n",
       "    <tr>\n",
       "      <th>0</th>\n",
       "      <td>Basil (\"Ocimum basilicum\") ( or ) is a plant o...</td>\n",
       "      <td>What is Basil commonly known as?</td>\n",
       "      <td>Dear Friend, Basil is commonly known as Sweet ...</td>\n",
       "    </tr>\n",
       "    <tr>\n",
       "      <th>1</th>\n",
       "      <td>Basil (\"Ocimum basilicum\") ( or ) is a plant o...</td>\n",
       "      <td>Where is Basil originally native to?</td>\n",
       "      <td>Dear Friend, Basil is originally native to Ind...</td>\n",
       "    </tr>\n",
       "    <tr>\n",
       "      <th>2</th>\n",
       "      <td>The Roerich Pact is a treaty on Protection of ...</td>\n",
       "      <td>What is the significance of the Roerich Pact?</td>\n",
       "      <td>Dear Friend, the Roerich Pact is significant b...</td>\n",
       "    </tr>\n",
       "    <tr>\n",
       "      <th>3</th>\n",
       "      <td>The Roerich Pact is a treaty on Protection of ...</td>\n",
       "      <td>When was the Roerich Pact signed?</td>\n",
       "      <td>Dear Friend, the Roerich Pact was signed on 15...</td>\n",
       "    </tr>\n",
       "    <tr>\n",
       "      <th>4</th>\n",
       "      <td>The Indian Air Force is the air arm of the Ind...</td>\n",
       "      <td>What is the history of the Indian Air Force?</td>\n",
       "      <td>Dear Friend, the Indian Air Force was founded ...</td>\n",
       "    </tr>\n",
       "  </tbody>\n",
       "</table>\n",
       "</div>"
      ],
      "text/plain": [
       "                                             context  \\\n",
       "0  Basil (\"Ocimum basilicum\") ( or ) is a plant o...   \n",
       "1  Basil (\"Ocimum basilicum\") ( or ) is a plant o...   \n",
       "2  The Roerich Pact is a treaty on Protection of ...   \n",
       "3  The Roerich Pact is a treaty on Protection of ...   \n",
       "4  The Indian Air Force is the air arm of the Ind...   \n",
       "\n",
       "                                        question  \\\n",
       "0               What is Basil commonly known as?   \n",
       "1           Where is Basil originally native to?   \n",
       "2  What is the significance of the Roerich Pact?   \n",
       "3              When was the Roerich Pact signed?   \n",
       "4   What is the history of the Indian Air Force?   \n",
       "\n",
       "                                              answer  \n",
       "0  Dear Friend, Basil is commonly known as Sweet ...  \n",
       "1  Dear Friend, Basil is originally native to Ind...  \n",
       "2  Dear Friend, the Roerich Pact is significant b...  \n",
       "3  Dear Friend, the Roerich Pact was signed on 15...  \n",
       "4  Dear Friend, the Indian Air Force was founded ...  "
      ]
     },
     "execution_count": 15,
     "metadata": {},
     "output_type": "execute_result"
    }
   ],
   "source": [
    "# Function to get two random rows with different article_id\n",
    "def get_negative_doc_rows(exclude_id):\n",
    "    filtered_df = df[df['article_id'] != exclude_id]\n",
    "    return filtered_df.sample(2, random_state=777)\n",
    "\n",
    "# Create a list to store the new dictionaries\n",
    "new_data = []\n",
    "\n",
    "# Iterate over each row in the dataframe\n",
    "for index, row in df.iterrows():\n",
    "    # Get two negative doc rows with different article_id\n",
    "    distractor_rows = get_negative_doc_rows(row['article_id'])\n",
    "\n",
    "    # Combine the contexts which includes postive context and negative context\n",
    "    # inspiration from RAFT: https://arxiv.org/abs/2403.10131\n",
    "    new_context = (row['context'] +\n",
    "                   \"\\n\\n\" + distractor_rows.iloc[0]['context'] +\n",
    "                   \"\\n\\n\" + distractor_rows.iloc[1]['context'])\n",
    "\n",
    "    # Create a new dictionary\n",
    "    new_dict = {\n",
    "        'context': new_context,\n",
    "        'question': row['question'],\n",
    "        'answer': row['answer']\n",
    "    }\n",
    "\n",
    "    # Append the new dictionary to the list\n",
    "    new_data.append(new_dict)\n",
    "\n",
    "# Create a new dataframe from the list of dictionaries\n",
    "new_df = pd.DataFrame(new_data)\n",
    "\n",
    "# Display the new dataframe\n",
    "new_df.head()"
   ]
  },
  {
   "cell_type": "code",
   "execution_count": 16,
   "metadata": {
    "colab": {
     "base_uri": "https://localhost:8080/",
     "height": 369
    },
    "id": "ARGWz059zUXZ",
    "outputId": "261dadea-6115-4533-919e-17f2b72a9534"
   },
   "outputs": [
    {
     "data": {
      "text/plain": [
       "{'context': 'Basil (\"Ocimum basilicum\") ( or ) is a plant of the Family Lamiaceae. It is also known as Sweet Basil or Tulsi. It is a tender low-growing herb that is grown as a perennial in warm, tropical climates. Basil is originally native to India and other tropical regions of Asia. It has been cultivated there for more than 5,000 years. It is prominently featured in many cuisines throughout the world. Some of them are Italian, Thai, Vietnamese and Laotian cuisines. It grows to between 30–60\\xa0cm tall. It has light green, silky leaves 3–5\\xa0cm long and 1–3\\xa0cm broad. The leaves are opposite each other. The flowers are quite big. They are white in color and arranged as a spike.\\n\\nGyani Zail Singh (; born Jarnail Singh, 5 May 1916 – 25 December 1994) was an Indian politician. He was the seventh President of India from 1982 to 1987. He was a politician with the Indian National Congress party.\\n\\nHema Bharali (19 February 1919 – 29 April 2020) was an Indian freedom activist, social worker, Sarvodaya leader and Gandhian. She was born in Assam, India. She was known for her works to the empowerment of women in India. The Government of India awarded her the fourth highest civilian honour of the Padma Shri, in 2005. She was involved with the \"Padayatra\" in connection with the Bhoodan movement and was a founder member of the executive council of the Central Social Welfare Board (CSWB).',\n",
       " 'question': 'What is Basil commonly known as?',\n",
       " 'answer': 'Dear Friend, Basil is commonly known as Sweet Basil or Tulsi. This plant is a member of the Lamiaceae family and is cherished for its culinary uses.'}"
      ]
     },
     "execution_count": 16,
     "metadata": {},
     "output_type": "execute_result"
    }
   ],
   "source": [
    "new_df.iloc[0].to_dict()"
   ]
  },
  {
   "cell_type": "markdown",
   "metadata": {},
   "source": [
    "## Prepare Data For Instruction SFT"
   ]
  },
  {
   "cell_type": "code",
   "execution_count": 17,
   "metadata": {
    "id": "5w2nOFRQ05U1"
   },
   "outputs": [],
   "source": [
    "def rag_qa_template(question, context):\n",
    "    \"\"\"\n",
    "    Creates a chat template for the Llama model.\n",
    "\n",
    "    Args:\n",
    "        question: The question to be answered.\n",
    "        context: The context information to be used for generating the answer.\n",
    "\n",
    "    Returns:\n",
    "        A string containing the chat template.\n",
    "    \"\"\"\n",
    "\n",
    "    template = f\"\"\"\\\n",
    "    <|begin_of_text|><|start_header_id|>user<|end_header_id|>\n",
    "    Use the context information below only to answer the given question.\n",
    "    Do not make up answers.\n",
    "\n",
    "    Context: {context}\n",
    "\n",
    "    Question: {question}\n",
    "\n",
    "    <|eot_id|><|start_header_id|>assistant<|end_header_id|>\n",
    "    \"\"\"\n",
    "    # Remove any leading whitespace characters from each line in the template.\n",
    "    template = \"\\n\".join([line.lstrip() for line in template.splitlines()])\n",
    "    return template"
   ]
  },
  {
   "cell_type": "markdown",
   "metadata": {},
   "source": [
    "## Try a sample RAG prompt"
   ]
  },
  {
   "cell_type": "code",
   "execution_count": 18,
   "metadata": {
    "colab": {
     "base_uri": "https://localhost:8080/"
    },
    "id": "86rjrlhN1aUD",
    "outputId": "46c672b3-d6ee-48a6-9dec-a068efb0f721"
   },
   "outputs": [
    {
     "name": "stdout",
     "output_type": "stream",
     "text": [
      "<|begin_of_text|><|start_header_id|>user<|end_header_id|>\n",
      "Use the context information below only to answer the given question.\n",
      "Do not make up answers.\n",
      "\n",
      "Context: Basil (\"Ocimum basilicum\") ( or ) is a plant of the Family Lamiaceae. It is also known as Sweet Basil or Tulsi. It is a tender low-growing herb that is grown as a perennial in warm, tropical climates. Basil is originally native to India and other tropical regions of Asia. It has been cultivated there for more than 5,000 years. It is prominently featured in many cuisines throughout the world. Some of them are Italian, Thai, Vietnamese and Laotian cuisines. It grows to between 30–60 cm tall. It has light green, silky leaves 3–5 cm long and 1–3 cm broad. The leaves are opposite each other. The flowers are quite big. They are white in color and arranged as a spike.\n",
      "\n",
      "Gyani Zail Singh (; born Jarnail Singh, 5 May 1916 – 25 December 1994) was an Indian politician. He was the seventh President of India from 1982 to 1987. He was a politician with the Indian National Congress party.\n",
      "\n",
      "Hema Bharali (19 February 1919 – 29 April 2020) was an Indian freedom activist, social worker, Sarvodaya leader and Gandhian. She was born in Assam, India. She was known for her works to the empowerment of women in India. The Government of India awarded her the fourth highest civilian honour of the Padma Shri, in 2005. She was involved with the \"Padayatra\" in connection with the Bhoodan movement and was a founder member of the executive council of the Central Social Welfare Board (CSWB).\n",
      "\n",
      "Question: What is Basil commonly known as?\n",
      "\n",
      "<|eot_id|><|start_header_id|>assistant<|end_header_id|>\n",
      "\n"
     ]
    }
   ],
   "source": [
    "question = new_df.iloc[0].question\n",
    "context = new_df.iloc[0].context\n",
    "rag_prompt = rag_qa_template(question,context)\n",
    "print(rag_prompt)"
   ]
  },
  {
   "cell_type": "code",
   "execution_count": 19,
   "metadata": {
    "colab": {
     "base_uri": "https://localhost:8080/"
    },
    "id": "kzC5cwAu1v5Q",
    "outputId": "273b4285-adb3-44f4-d483-69e12195fc38"
   },
   "outputs": [
    {
     "name": "stdout",
     "output_type": "stream",
     "text": [
      "<|begin_of_text|><|begin_of_text|><|start_header_id|>user<|end_header_id|>\n",
      "Use the context information below only to answer the given question.\n",
      "Do not make up answers.\n",
      "\n",
      "Context: Basil (\"Ocimum basilicum\") ( or ) is a plant of the Family Lamiaceae. It is also known as Sweet Basil or Tulsi. It is a tender low-growing herb that is grown as a perennial in warm, tropical climates. Basil is originally native to India and other tropical regions of Asia. It has been cultivated there for more than 5,000 years. It is prominently featured in many cuisines throughout the world. Some of them are Italian, Thai, Vietnamese and Laotian cuisines. It grows to between 30–60 cm tall. It has light green, silky leaves 3–5 cm long and 1–3 cm broad. The leaves are opposite each other. The flowers are quite big. They are white in color and arranged as a spike.\n",
      "\n",
      "Gyani Zail Singh (; born Jarnail Singh, 5 May 1916 – 25 December 1994) was an Indian politician. He was the seventh President of India from 1982 to 1987. He was a politician with the Indian National Congress party.\n",
      "\n",
      "Hema Bharali (19 February 1919 – 29 April 2020) was an Indian freedom activist, social worker, Sarvodaya leader and Gandhian. She was born in Assam, India. She was known for her works to the empowerment of women in India. The Government of India awarded her the fourth highest civilian honour of the Padma Shri, in 2005. She was involved with the \"Padayatra\" in connection with the Bhoodan movement and was a founder member of the executive council of the Central Social Welfare Board (CSWB).\n",
      "\n",
      "Question: What is Basil commonly known as?\n",
      "\n",
      "<|eot_id|><|start_header_id|>assistant<|end_header_id|>\n",
      "According to the context, Basil is commonly known as Sweet Basil or Tulsi.<|eot_id|>\n"
     ]
    }
   ],
   "source": [
    "# Encode the prompt.\n",
    "inputs = tokenizer(rag_prompt, return_tensors=\"pt\").to('cuda')\n",
    "# Generate the output.\n",
    "output = model.generate(**inputs, max_new_tokens=256,\n",
    "                        eos_token_id=tokenizer.eos_token_id,\n",
    "                        tokenizer=tokenizer, stop_strings=[\"<|eot_id|>\"])\n",
    "# Decode the output.\n",
    "text = tokenizer.decode(output[0], skip_special_tokens=False)\n",
    "print(text)"
   ]
  },
  {
   "cell_type": "code",
   "execution_count": 20,
   "metadata": {
    "colab": {
     "base_uri": "https://localhost:8080/",
     "height": 53
    },
    "id": "3if-L5Yk2Afk",
    "outputId": "5b2f8e7f-b02c-4a59-dc57-9ebe3fd59845"
   },
   "outputs": [
    {
     "data": {
      "text/plain": [
       "'Dear Friend, Basil is commonly known as Sweet Basil or Tulsi. This plant is a member of the Lamiaceae family and is cherished for its culinary uses.'"
      ]
     },
     "execution_count": 20,
     "metadata": {},
     "output_type": "execute_result"
    }
   ],
   "source": [
    "# Reference answer\n",
    "new_df.iloc[0].answer"
   ]
  },
  {
   "cell_type": "markdown",
   "metadata": {},
   "source": [
    "## Create Fine-tuning Dataset"
   ]
  },
  {
   "cell_type": "code",
   "execution_count": 26,
   "metadata": {
    "id": "mZ18ZKzM3Yb_"
   },
   "outputs": [],
   "source": [
    "def rag_qa_template_training(question, context, answer):\n",
    "    \"\"\"\n",
    "    Creates a chat template for the Llama model.\n",
    "\n",
    "    Args:\n",
    "        question: The question to be answered.\n",
    "        context: The context information to be used for generating the answer.\n",
    "\n",
    "    Returns:\n",
    "        A string containing the chat template.\n",
    "    \"\"\"\n",
    "\n",
    "    template = f\"\"\"\\\n",
    "    <|begin_of_text|><|start_header_id|>user<|end_header_id|>\n",
    "    Use the context information below only to answer the given question.\n",
    "    Do not make up answers.\n",
    "\n",
    "    Context: {context}\n",
    "\n",
    "    Question: {question}\n",
    "\n",
    "    <|eot_id|><|start_header_id|>assistant<|end_header_id|>\n",
    "    Answer: {answer} <|eot_id|>\"\"\"\n",
    "    # Remove any leading whitespace characters from each line in the template.\n",
    "    template = \"\\n\".join([line.lstrip() for line in template.splitlines()])\n",
    "    return template"
   ]
  },
  {
   "cell_type": "code",
   "execution_count": 27,
   "metadata": {
    "colab": {
     "base_uri": "https://localhost:8080/"
    },
    "id": "kkQyEYPn3xMx",
    "outputId": "31e6c1a9-bb56-4b82-91f3-1db87a76ebcf"
   },
   "outputs": [
    {
     "name": "stdout",
     "output_type": "stream",
     "text": [
      "<|begin_of_text|><|start_header_id|>user<|end_header_id|>\n",
      "Use the context information below only to answer the given question.\n",
      "Do not make up answers.\n",
      "\n",
      "Context: Basil (\"Ocimum basilicum\") ( or ) is a plant of the Family Lamiaceae. It is also known as Sweet Basil or Tulsi. It is a tender low-growing herb that is grown as a perennial in warm, tropical climates. Basil is originally native to India and other tropical regions of Asia. It has been cultivated there for more than 5,000 years. It is prominently featured in many cuisines throughout the world. Some of them are Italian, Thai, Vietnamese and Laotian cuisines. It grows to between 30–60 cm tall. It has light green, silky leaves 3–5 cm long and 1–3 cm broad. The leaves are opposite each other. The flowers are quite big. They are white in color and arranged as a spike.\n",
      "\n",
      "Gyani Zail Singh (; born Jarnail Singh, 5 May 1916 – 25 December 1994) was an Indian politician. He was the seventh President of India from 1982 to 1987. He was a politician with the Indian National Congress party.\n",
      "\n",
      "Hema Bharali (19 February 1919 – 29 April 2020) was an Indian freedom activist, social worker, Sarvodaya leader and Gandhian. She was born in Assam, India. She was known for her works to the empowerment of women in India. The Government of India awarded her the fourth highest civilian honour of the Padma Shri, in 2005. She was involved with the \"Padayatra\" in connection with the Bhoodan movement and was a founder member of the executive council of the Central Social Welfare Board (CSWB).\n",
      "\n",
      "Question: What is Basil commonly known as?\n",
      "\n",
      "<|eot_id|><|start_header_id|>assistant<|end_header_id|>\n",
      "Answer: Dear Friend, Basil is commonly known as Sweet Basil or Tulsi. This plant is a member of the Lamiaceae family and is cherished for its culinary uses. <|eot_id|>\n"
     ]
    }
   ],
   "source": [
    "question = new_df.iloc[0].question\n",
    "context = new_df.iloc[0].context\n",
    "answer = new_df.iloc[0].answer\n",
    "rag_prompt = rag_qa_template_training(question,context,answer)\n",
    "print(rag_prompt)"
   ]
  },
  {
   "cell_type": "code",
   "execution_count": 28,
   "metadata": {
    "id": "A1XnGULr3-BM"
   },
   "outputs": [],
   "source": [
    "from datasets import Dataset\n",
    "\n",
    "new_df[\"text\"] = new_df.apply(lambda x: rag_qa_template_training(x[\"question\"],\n",
    "                                                                 x[\"context\"],\n",
    "                                                                 x[\"answer\"]),\n",
    "                              axis=1)\n",
    "\n",
    "# Convert the dataframe back to a Dataset object.\n",
    "training_data = Dataset.from_pandas(new_df)"
   ]
  },
  {
   "cell_type": "code",
   "execution_count": 29,
   "metadata": {
    "colab": {
     "base_uri": "https://localhost:8080/"
    },
    "id": "hBQychFi4ChO",
    "outputId": "79400ebb-6981-444e-e576-5ad694c22488"
   },
   "outputs": [
    {
     "data": {
      "text/plain": [
       "Dataset({\n",
       "    features: ['context', 'question', 'answer', 'text'],\n",
       "    num_rows: 1340\n",
       "})"
      ]
     },
     "execution_count": 29,
     "metadata": {},
     "output_type": "execute_result"
    }
   ],
   "source": [
    "training_data"
   ]
  },
  {
   "cell_type": "code",
   "execution_count": 30,
   "metadata": {
    "colab": {
     "base_uri": "https://localhost:8080/"
    },
    "id": "Gbg0bMUa4I3Q",
    "outputId": "540c7622-c8e8-4589-9dce-3cb1c2232b8a"
   },
   "outputs": [
    {
     "data": {
      "text/plain": [
       "{'context': 'Basil (\"Ocimum basilicum\") ( or ) is a plant of the Family Lamiaceae. It is also known as Sweet Basil or Tulsi. It is a tender low-growing herb that is grown as a perennial in warm, tropical climates. Basil is originally native to India and other tropical regions of Asia. It has been cultivated there for more than 5,000 years. It is prominently featured in many cuisines throughout the world. Some of them are Italian, Thai, Vietnamese and Laotian cuisines. It grows to between 30–60\\xa0cm tall. It has light green, silky leaves 3–5\\xa0cm long and 1–3\\xa0cm broad. The leaves are opposite each other. The flowers are quite big. They are white in color and arranged as a spike.\\n\\nGyani Zail Singh (; born Jarnail Singh, 5 May 1916 – 25 December 1994) was an Indian politician. He was the seventh President of India from 1982 to 1987. He was a politician with the Indian National Congress party.\\n\\nHema Bharali (19 February 1919 – 29 April 2020) was an Indian freedom activist, social worker, Sarvodaya leader and Gandhian. She was born in Assam, India. She was known for her works to the empowerment of women in India. The Government of India awarded her the fourth highest civilian honour of the Padma Shri, in 2005. She was involved with the \"Padayatra\" in connection with the Bhoodan movement and was a founder member of the executive council of the Central Social Welfare Board (CSWB).',\n",
       " 'question': 'What is Basil commonly known as?',\n",
       " 'answer': 'Dear Friend, Basil is commonly known as Sweet Basil or Tulsi. This plant is a member of the Lamiaceae family and is cherished for its culinary uses.',\n",
       " 'text': '<|begin_of_text|><|start_header_id|>user<|end_header_id|>\\nUse the context information below only to answer the given question.\\nDo not make up answers.\\n\\nContext: Basil (\"Ocimum basilicum\") ( or ) is a plant of the Family Lamiaceae. It is also known as Sweet Basil or Tulsi. It is a tender low-growing herb that is grown as a perennial in warm, tropical climates. Basil is originally native to India and other tropical regions of Asia. It has been cultivated there for more than 5,000 years. It is prominently featured in many cuisines throughout the world. Some of them are Italian, Thai, Vietnamese and Laotian cuisines. It grows to between 30–60\\xa0cm tall. It has light green, silky leaves 3–5\\xa0cm long and 1–3\\xa0cm broad. The leaves are opposite each other. The flowers are quite big. They are white in color and arranged as a spike.\\n\\nGyani Zail Singh (; born Jarnail Singh, 5 May 1916 – 25 December 1994) was an Indian politician. He was the seventh President of India from 1982 to 1987. He was a politician with the Indian National Congress party.\\n\\nHema Bharali (19 February 1919 – 29 April 2020) was an Indian freedom activist, social worker, Sarvodaya leader and Gandhian. She was born in Assam, India. She was known for her works to the empowerment of women in India. The Government of India awarded her the fourth highest civilian honour of the Padma Shri, in 2005. She was involved with the \"Padayatra\" in connection with the Bhoodan movement and was a founder member of the executive council of the Central Social Welfare Board (CSWB).\\n\\nQuestion: What is Basil commonly known as?\\n\\n<|eot_id|><|start_header_id|>assistant<|end_header_id|>\\nAnswer: Dear Friend, Basil is commonly known as Sweet Basil or Tulsi. This plant is a member of the Lamiaceae family and is cherished for its culinary uses. <|eot_id|>'}"
      ]
     },
     "execution_count": 30,
     "metadata": {},
     "output_type": "execute_result"
    }
   ],
   "source": [
    "training_data[0]"
   ]
  },
  {
   "cell_type": "markdown",
   "metadata": {},
   "source": [
    "## Setup LLM Training Mode and LoRA Settings"
   ]
  },
  {
   "cell_type": "code",
   "execution_count": 31,
   "metadata": {
    "id": "2s4piiNSg1ac"
   },
   "outputs": [
    {
     "data": {
      "text/plain": [
       "LlamaForCausalLM(\n",
       "  (model): LlamaModel(\n",
       "    (embed_tokens): Embedding(128256, 4096, padding_idx=128255)\n",
       "    (layers): ModuleList(\n",
       "      (0-31): 32 x LlamaDecoderLayer(\n",
       "        (self_attn): LlamaAttention(\n",
       "          (q_proj): Linear4bit(in_features=4096, out_features=4096, bias=False)\n",
       "          (k_proj): Linear4bit(in_features=4096, out_features=1024, bias=False)\n",
       "          (v_proj): Linear4bit(in_features=4096, out_features=1024, bias=False)\n",
       "          (o_proj): Linear4bit(in_features=4096, out_features=4096, bias=False)\n",
       "          (rotary_emb): LlamaRotaryEmbedding()\n",
       "        )\n",
       "        (mlp): LlamaMLP(\n",
       "          (gate_proj): Linear4bit(in_features=4096, out_features=14336, bias=False)\n",
       "          (up_proj): Linear4bit(in_features=4096, out_features=14336, bias=False)\n",
       "          (down_proj): Linear4bit(in_features=14336, out_features=4096, bias=False)\n",
       "          (act_fn): SiLU()\n",
       "        )\n",
       "        (input_layernorm): LlamaRMSNorm((4096,), eps=1e-05)\n",
       "        (post_attention_layernorm): LlamaRMSNorm((4096,), eps=1e-05)\n",
       "      )\n",
       "    )\n",
       "    (norm): LlamaRMSNorm((4096,), eps=1e-05)\n",
       "    (rotary_emb): LlamaRotaryEmbedding()\n",
       "  )\n",
       "  (lm_head): Linear(in_features=4096, out_features=128256, bias=False)\n",
       ")"
      ]
     },
     "execution_count": 31,
     "metadata": {},
     "output_type": "execute_result"
    }
   ],
   "source": [
    "FastLanguageModel.for_training(model)"
   ]
  },
  {
   "cell_type": "code",
   "execution_count": 32,
   "metadata": {
    "colab": {
     "base_uri": "https://localhost:8080/"
    },
    "id": "7pyyz4oJgvlT",
    "outputId": "f355614d-2674-46b3-e915-ed69bf04b39c"
   },
   "outputs": [
    {
     "name": "stderr",
     "output_type": "stream",
     "text": [
      "Unsloth 2025.2.12 patched 32 layers with 32 QKV layers, 32 O layers and 32 MLP layers.\n"
     ]
    }
   ],
   "source": [
    "peft_model = FastLanguageModel.get_peft_model(\n",
    "    model,\n",
    "    r=16,\n",
    "    lora_alpha=16,\n",
    "    lora_dropout=0,\n",
    "    target_modules=[\"q_proj\", \"k_proj\", \"v_proj\", \"o_proj\",\n",
    "                    \"up_proj\", \"down_proj\", \"gate_proj\"],\n",
    "    use_rslora=False,\n",
    "    use_gradient_checkpointing=\"unsloth\"\n",
    ")"
   ]
  },
  {
   "cell_type": "code",
   "execution_count": 33,
   "metadata": {
    "colab": {
     "base_uri": "https://localhost:8080/"
    },
    "id": "XXqkuI8tk6Uc",
    "outputId": "97652ca5-2a7c-4919-d800-e5ec7aefd64e",
    "scrolled": true
   },
   "outputs": [
    {
     "data": {
      "text/plain": [
       "PeftModelForCausalLM(\n",
       "  (base_model): LoraModel(\n",
       "    (model): LlamaForCausalLM(\n",
       "      (model): LlamaModel(\n",
       "        (embed_tokens): Embedding(128256, 4096, padding_idx=128255)\n",
       "        (layers): ModuleList(\n",
       "          (0-31): 32 x LlamaDecoderLayer(\n",
       "            (self_attn): LlamaAttention(\n",
       "              (q_proj): lora.Linear4bit(\n",
       "                (base_layer): Linear4bit(in_features=4096, out_features=4096, bias=False)\n",
       "                (lora_dropout): ModuleDict(\n",
       "                  (default): Identity()\n",
       "                )\n",
       "                (lora_A): ModuleDict(\n",
       "                  (default): Linear(in_features=4096, out_features=16, bias=False)\n",
       "                )\n",
       "                (lora_B): ModuleDict(\n",
       "                  (default): Linear(in_features=16, out_features=4096, bias=False)\n",
       "                )\n",
       "                (lora_embedding_A): ParameterDict()\n",
       "                (lora_embedding_B): ParameterDict()\n",
       "                (lora_magnitude_vector): ModuleDict()\n",
       "              )\n",
       "              (k_proj): lora.Linear4bit(\n",
       "                (base_layer): Linear4bit(in_features=4096, out_features=1024, bias=False)\n",
       "                (lora_dropout): ModuleDict(\n",
       "                  (default): Identity()\n",
       "                )\n",
       "                (lora_A): ModuleDict(\n",
       "                  (default): Linear(in_features=4096, out_features=16, bias=False)\n",
       "                )\n",
       "                (lora_B): ModuleDict(\n",
       "                  (default): Linear(in_features=16, out_features=1024, bias=False)\n",
       "                )\n",
       "                (lora_embedding_A): ParameterDict()\n",
       "                (lora_embedding_B): ParameterDict()\n",
       "                (lora_magnitude_vector): ModuleDict()\n",
       "              )\n",
       "              (v_proj): lora.Linear4bit(\n",
       "                (base_layer): Linear4bit(in_features=4096, out_features=1024, bias=False)\n",
       "                (lora_dropout): ModuleDict(\n",
       "                  (default): Identity()\n",
       "                )\n",
       "                (lora_A): ModuleDict(\n",
       "                  (default): Linear(in_features=4096, out_features=16, bias=False)\n",
       "                )\n",
       "                (lora_B): ModuleDict(\n",
       "                  (default): Linear(in_features=16, out_features=1024, bias=False)\n",
       "                )\n",
       "                (lora_embedding_A): ParameterDict()\n",
       "                (lora_embedding_B): ParameterDict()\n",
       "                (lora_magnitude_vector): ModuleDict()\n",
       "              )\n",
       "              (o_proj): lora.Linear4bit(\n",
       "                (base_layer): Linear4bit(in_features=4096, out_features=4096, bias=False)\n",
       "                (lora_dropout): ModuleDict(\n",
       "                  (default): Identity()\n",
       "                )\n",
       "                (lora_A): ModuleDict(\n",
       "                  (default): Linear(in_features=4096, out_features=16, bias=False)\n",
       "                )\n",
       "                (lora_B): ModuleDict(\n",
       "                  (default): Linear(in_features=16, out_features=4096, bias=False)\n",
       "                )\n",
       "                (lora_embedding_A): ParameterDict()\n",
       "                (lora_embedding_B): ParameterDict()\n",
       "                (lora_magnitude_vector): ModuleDict()\n",
       "              )\n",
       "              (rotary_emb): LlamaRotaryEmbedding()\n",
       "            )\n",
       "            (mlp): LlamaMLP(\n",
       "              (gate_proj): lora.Linear4bit(\n",
       "                (base_layer): Linear4bit(in_features=4096, out_features=14336, bias=False)\n",
       "                (lora_dropout): ModuleDict(\n",
       "                  (default): Identity()\n",
       "                )\n",
       "                (lora_A): ModuleDict(\n",
       "                  (default): Linear(in_features=4096, out_features=16, bias=False)\n",
       "                )\n",
       "                (lora_B): ModuleDict(\n",
       "                  (default): Linear(in_features=16, out_features=14336, bias=False)\n",
       "                )\n",
       "                (lora_embedding_A): ParameterDict()\n",
       "                (lora_embedding_B): ParameterDict()\n",
       "                (lora_magnitude_vector): ModuleDict()\n",
       "              )\n",
       "              (up_proj): lora.Linear4bit(\n",
       "                (base_layer): Linear4bit(in_features=4096, out_features=14336, bias=False)\n",
       "                (lora_dropout): ModuleDict(\n",
       "                  (default): Identity()\n",
       "                )\n",
       "                (lora_A): ModuleDict(\n",
       "                  (default): Linear(in_features=4096, out_features=16, bias=False)\n",
       "                )\n",
       "                (lora_B): ModuleDict(\n",
       "                  (default): Linear(in_features=16, out_features=14336, bias=False)\n",
       "                )\n",
       "                (lora_embedding_A): ParameterDict()\n",
       "                (lora_embedding_B): ParameterDict()\n",
       "                (lora_magnitude_vector): ModuleDict()\n",
       "              )\n",
       "              (down_proj): lora.Linear4bit(\n",
       "                (base_layer): Linear4bit(in_features=14336, out_features=4096, bias=False)\n",
       "                (lora_dropout): ModuleDict(\n",
       "                  (default): Identity()\n",
       "                )\n",
       "                (lora_A): ModuleDict(\n",
       "                  (default): Linear(in_features=14336, out_features=16, bias=False)\n",
       "                )\n",
       "                (lora_B): ModuleDict(\n",
       "                  (default): Linear(in_features=16, out_features=4096, bias=False)\n",
       "                )\n",
       "                (lora_embedding_A): ParameterDict()\n",
       "                (lora_embedding_B): ParameterDict()\n",
       "                (lora_magnitude_vector): ModuleDict()\n",
       "              )\n",
       "              (act_fn): SiLU()\n",
       "            )\n",
       "            (input_layernorm): LlamaRMSNorm((4096,), eps=1e-05)\n",
       "            (post_attention_layernorm): LlamaRMSNorm((4096,), eps=1e-05)\n",
       "          )\n",
       "        )\n",
       "        (norm): LlamaRMSNorm((4096,), eps=1e-05)\n",
       "        (rotary_emb): LlamaRotaryEmbedding()\n",
       "      )\n",
       "      (lm_head): Linear(in_features=4096, out_features=128256, bias=False)\n",
       "    )\n",
       "  )\n",
       ")"
      ]
     },
     "execution_count": 33,
     "metadata": {},
     "output_type": "execute_result"
    }
   ],
   "source": [
    "peft_model"
   ]
  },
  {
   "cell_type": "code",
   "execution_count": 34,
   "metadata": {
    "colab": {
     "base_uri": "https://localhost:8080/"
    },
    "id": "qLpmifxb5P5g",
    "outputId": "fced0f6f-441f-48b1-edff-fcfa64f89c65"
   },
   "outputs": [
    {
     "data": {
      "text/plain": [
       "83"
      ]
     },
     "execution_count": 34,
     "metadata": {},
     "output_type": "execute_result"
    }
   ],
   "source": [
    "1340 // 16"
   ]
  },
  {
   "cell_type": "code",
   "execution_count": 35,
   "metadata": {
    "colab": {
     "base_uri": "https://localhost:8080/"
    },
    "id": "2T63lTW45bi8",
    "outputId": "d2cf0883-8ad1-46c7-f2a9-37afd35e9bfc"
   },
   "outputs": [
    {
     "data": {
      "text/plain": [
       "166"
      ]
     },
     "execution_count": 35,
     "metadata": {},
     "output_type": "execute_result"
    }
   ],
   "source": [
    "83 * 2"
   ]
  },
  {
   "cell_type": "markdown",
   "metadata": {},
   "source": [
    "## Setup LLM Training Arguments"
   ]
  },
  {
   "cell_type": "code",
   "execution_count": 36,
   "metadata": {},
   "outputs": [],
   "source": [
    "from trl import SFTTrainer, SFTConfig"
   ]
  },
  {
   "cell_type": "code",
   "execution_count": 37,
   "metadata": {
    "id": "VWRtLH_XCzD4"
   },
   "outputs": [],
   "source": [
    "args = SFTConfig(\n",
    "        learning_rate=3e-4,\n",
    "        lr_scheduler_type=\"linear\",\n",
    "        per_device_train_batch_size=16,\n",
    "        gradient_accumulation_steps=1,\n",
    "        save_strategy=\"steps\",\n",
    "        # Set the logging steps.\n",
    "        logging_steps=10,\n",
    "        save_steps=80,\n",
    "        # Set the maximum number of training steps.\n",
    "        max_steps=170,\n",
    "        fp16=not is_bfloat16_supported(),\n",
    "        bf16=is_bfloat16_supported(),\n",
    "        optim=\"adamw_8bit\",\n",
    "        weight_decay=0.01,\n",
    "        warmup_steps=5,\n",
    "        output_dir=\"output\",\n",
    "        seed=0,\n",
    "        dataset_text_field=\"text\",\n",
    "        max_seq_length=max_seq_length,\n",
    "        packing=False,\n",
    "    )"
   ]
  },
  {
   "cell_type": "code",
   "execution_count": 38,
   "metadata": {
    "colab": {
     "base_uri": "https://localhost:8080/"
    },
    "id": "YDRdBkNw5x1E",
    "outputId": "e1820c57-5e19-45c1-bc1e-49aafee30a30"
   },
   "outputs": [
    {
     "data": {
      "text/plain": [
       "2048"
      ]
     },
     "execution_count": 38,
     "metadata": {},
     "output_type": "execute_result"
    }
   ],
   "source": [
    "max_seq_length"
   ]
  },
  {
   "cell_type": "code",
   "execution_count": 39,
   "metadata": {
    "colab": {
     "base_uri": "https://localhost:8080/",
     "height": 66,
     "referenced_widgets": [
      "0b0af7f09cfb4c08bc31c8963924fa4c",
      "1939d387a22148939f9964e95516447a",
      "f6bb08371e9948a9b7b90a02c9da701d",
      "c4d44e8ca1a543aea0ef12464e3078cf",
      "2f3ddee8046d49e58a9dfcdbb2b58934",
      "43fafeb2839747d0b4678e9c4a951584",
      "b8e7c36ac4b9434282ebccffad2c93cb",
      "913c494422474440a66615c5ef0757c6",
      "e0365ee7d2ad4b9d9c891291a7be66e0",
      "9e7164ba99fc4482b9c157a87c5698ad",
      "08df62e5f54b4d36aa255a2ff799a590",
      "204bce24b36e42058a9d8d0c35fbb4d6"
     ]
    },
    "id": "4DK69Fdc5lYq",
    "outputId": "ecf43056-6ead-4539-be02-eb74861a841b"
   },
   "outputs": [
    {
     "data": {
      "application/vnd.jupyter.widget-view+json": {
       "model_id": "f8ea8c5c30e541b18a4d9a7dccb1f7e4",
       "version_major": 2,
       "version_minor": 0
      },
      "text/plain": [
       "Applying chat template to train dataset (num_proc=96):   0%|          | 0/1340 [00:00<?, ? examples/s]"
      ]
     },
     "metadata": {},
     "output_type": "display_data"
    },
    {
     "data": {
      "application/vnd.jupyter.widget-view+json": {
       "model_id": "0f6546417ac44544a0edccd80de3c901",
       "version_major": 2,
       "version_minor": 0
      },
      "text/plain": [
       "Tokenizing train dataset (num_proc=96):   0%|          | 0/1340 [00:00<?, ? examples/s]"
      ]
     },
     "metadata": {},
     "output_type": "display_data"
    },
    {
     "data": {
      "application/vnd.jupyter.widget-view+json": {
       "model_id": "173f2e70d461446ca61a6f1b75a0f4a6",
       "version_major": 2,
       "version_minor": 0
      },
      "text/plain": [
       "Tokenizing train dataset (num_proc=96):   0%|          | 0/1340 [00:00<?, ? examples/s]"
      ]
     },
     "metadata": {},
     "output_type": "display_data"
    }
   ],
   "source": [
    "trainer=SFTTrainer(\n",
    "    model=peft_model,\n",
    "    processing_class=tokenizer,\n",
    "    train_dataset=training_data,\n",
    "    args=args\n",
    ")"
   ]
  },
  {
   "cell_type": "code",
   "execution_count": 43,
   "metadata": {},
   "outputs": [
    {
     "data": {
      "text/plain": [
       "{'context': 'Basil (\"Ocimum basilicum\") ( or ) is a plant of the Family Lamiaceae. It is also known as Sweet Basil or Tulsi. It is a tender low-growing herb that is grown as a perennial in warm, tropical climates. Basil is originally native to India and other tropical regions of Asia. It has been cultivated there for more than 5,000 years. It is prominently featured in many cuisines throughout the world. Some of them are Italian, Thai, Vietnamese and Laotian cuisines. It grows to between 30–60\\xa0cm tall. It has light green, silky leaves 3–5\\xa0cm long and 1–3\\xa0cm broad. The leaves are opposite each other. The flowers are quite big. They are white in color and arranged as a spike.\\n\\nGyani Zail Singh (; born Jarnail Singh, 5 May 1916 – 25 December 1994) was an Indian politician. He was the seventh President of India from 1982 to 1987. He was a politician with the Indian National Congress party.\\n\\nHema Bharali (19 February 1919 – 29 April 2020) was an Indian freedom activist, social worker, Sarvodaya leader and Gandhian. She was born in Assam, India. She was known for her works to the empowerment of women in India. The Government of India awarded her the fourth highest civilian honour of the Padma Shri, in 2005. She was involved with the \"Padayatra\" in connection with the Bhoodan movement and was a founder member of the executive council of the Central Social Welfare Board (CSWB).',\n",
       " 'question': 'What is Basil commonly known as?',\n",
       " 'answer': 'Dear Friend, Basil is commonly known as Sweet Basil or Tulsi. This plant is a member of the Lamiaceae family and is cherished for its culinary uses.',\n",
       " 'text': '<|begin_of_text|><|start_header_id|>user<|end_header_id|>\\nUse the context information below only to answer the given question.\\nDo not make up answers.\\n\\nContext: Basil (\"Ocimum basilicum\") ( or ) is a plant of the Family Lamiaceae. It is also known as Sweet Basil or Tulsi. It is a tender low-growing herb that is grown as a perennial in warm, tropical climates. Basil is originally native to India and other tropical regions of Asia. It has been cultivated there for more than 5,000 years. It is prominently featured in many cuisines throughout the world. Some of them are Italian, Thai, Vietnamese and Laotian cuisines. It grows to between 30–60\\xa0cm tall. It has light green, silky leaves 3–5\\xa0cm long and 1–3\\xa0cm broad. The leaves are opposite each other. The flowers are quite big. They are white in color and arranged as a spike.\\n\\nGyani Zail Singh (; born Jarnail Singh, 5 May 1916 – 25 December 1994) was an Indian politician. He was the seventh President of India from 1982 to 1987. He was a politician with the Indian National Congress party.\\n\\nHema Bharali (19 February 1919 – 29 April 2020) was an Indian freedom activist, social worker, Sarvodaya leader and Gandhian. She was born in Assam, India. She was known for her works to the empowerment of women in India. The Government of India awarded her the fourth highest civilian honour of the Padma Shri, in 2005. She was involved with the \"Padayatra\" in connection with the Bhoodan movement and was a founder member of the executive council of the Central Social Welfare Board (CSWB).\\n\\nQuestion: What is Basil commonly known as?\\n\\n<|eot_id|><|start_header_id|>assistant<|end_header_id|>\\nAnswer: Dear Friend, Basil is commonly known as Sweet Basil or Tulsi. This plant is a member of the Lamiaceae family and is cherished for its culinary uses. <|eot_id|>',\n",
       " 'input_ids': [128000,\n",
       "  128000,\n",
       "  128006,\n",
       "  882,\n",
       "  128007,\n",
       "  198,\n",
       "  10464,\n",
       "  279,\n",
       "  2317,\n",
       "  2038,\n",
       "  3770,\n",
       "  1193,\n",
       "  311,\n",
       "  4320,\n",
       "  279,\n",
       "  2728,\n",
       "  3488,\n",
       "  627,\n",
       "  5519,\n",
       "  539,\n",
       "  1304,\n",
       "  709,\n",
       "  11503,\n",
       "  382,\n",
       "  2014,\n",
       "  25,\n",
       "  67070,\n",
       "  3573,\n",
       "  46,\n",
       "  66,\n",
       "  3375,\n",
       "  68186,\n",
       "  86231,\n",
       "  909,\n",
       "  320,\n",
       "  477,\n",
       "  883,\n",
       "  374,\n",
       "  264,\n",
       "  6136,\n",
       "  315,\n",
       "  279,\n",
       "  12517,\n",
       "  445,\n",
       "  10830,\n",
       "  114785,\n",
       "  13,\n",
       "  1102,\n",
       "  374,\n",
       "  1101,\n",
       "  3967,\n",
       "  439,\n",
       "  27687,\n",
       "  67070,\n",
       "  477,\n",
       "  43316,\n",
       "  6455,\n",
       "  13,\n",
       "  1102,\n",
       "  374,\n",
       "  264,\n",
       "  28682,\n",
       "  3428,\n",
       "  56657,\n",
       "  39999,\n",
       "  430,\n",
       "  374,\n",
       "  15042,\n",
       "  439,\n",
       "  264,\n",
       "  74718,\n",
       "  304,\n",
       "  8369,\n",
       "  11,\n",
       "  35148,\n",
       "  92399,\n",
       "  13,\n",
       "  67070,\n",
       "  374,\n",
       "  13517,\n",
       "  10068,\n",
       "  311,\n",
       "  6890,\n",
       "  323,\n",
       "  1023,\n",
       "  35148,\n",
       "  13918,\n",
       "  315,\n",
       "  13936,\n",
       "  13,\n",
       "  1102,\n",
       "  706,\n",
       "  1027,\n",
       "  67166,\n",
       "  1070,\n",
       "  369,\n",
       "  810,\n",
       "  1109,\n",
       "  220,\n",
       "  20,\n",
       "  11,\n",
       "  931,\n",
       "  1667,\n",
       "  13,\n",
       "  1102,\n",
       "  374,\n",
       "  74088,\n",
       "  15109,\n",
       "  304,\n",
       "  1690,\n",
       "  31547,\n",
       "  1572,\n",
       "  6957,\n",
       "  279,\n",
       "  1917,\n",
       "  13,\n",
       "  4427,\n",
       "  315,\n",
       "  1124,\n",
       "  527,\n",
       "  15155,\n",
       "  11,\n",
       "  27490,\n",
       "  11,\n",
       "  49577,\n",
       "  323,\n",
       "  5034,\n",
       "  354,\n",
       "  1122,\n",
       "  31547,\n",
       "  1572,\n",
       "  13,\n",
       "  1102,\n",
       "  28815,\n",
       "  311,\n",
       "  1990,\n",
       "  220,\n",
       "  966,\n",
       "  4235,\n",
       "  1399,\n",
       "  4194,\n",
       "  6358,\n",
       "  16615,\n",
       "  13,\n",
       "  1102,\n",
       "  706,\n",
       "  3177,\n",
       "  6307,\n",
       "  11,\n",
       "  87418,\n",
       "  11141,\n",
       "  220,\n",
       "  18,\n",
       "  4235,\n",
       "  20,\n",
       "  4194,\n",
       "  6358,\n",
       "  1317,\n",
       "  323,\n",
       "  220,\n",
       "  16,\n",
       "  4235,\n",
       "  18,\n",
       "  4194,\n",
       "  6358,\n",
       "  7353,\n",
       "  13,\n",
       "  578,\n",
       "  11141,\n",
       "  527,\n",
       "  14329,\n",
       "  1855,\n",
       "  1023,\n",
       "  13,\n",
       "  578,\n",
       "  19837,\n",
       "  527,\n",
       "  5115,\n",
       "  2466,\n",
       "  13,\n",
       "  2435,\n",
       "  527,\n",
       "  4251,\n",
       "  304,\n",
       "  1933,\n",
       "  323,\n",
       "  28902,\n",
       "  439,\n",
       "  264,\n",
       "  37393,\n",
       "  382,\n",
       "  38,\n",
       "  88,\n",
       "  5676,\n",
       "  1901,\n",
       "  607,\n",
       "  27992,\n",
       "  31475,\n",
       "  9405,\n",
       "  622,\n",
       "  1923,\n",
       "  607,\n",
       "  27992,\n",
       "  11,\n",
       "  220,\n",
       "  20,\n",
       "  3297,\n",
       "  220,\n",
       "  7529,\n",
       "  21,\n",
       "  1389,\n",
       "  220,\n",
       "  914,\n",
       "  6790,\n",
       "  220,\n",
       "  2550,\n",
       "  19,\n",
       "  8,\n",
       "  574,\n",
       "  459,\n",
       "  7904,\n",
       "  37038,\n",
       "  13,\n",
       "  1283,\n",
       "  574,\n",
       "  279,\n",
       "  31487,\n",
       "  4900,\n",
       "  315,\n",
       "  6890,\n",
       "  505,\n",
       "  220,\n",
       "  3753,\n",
       "  17,\n",
       "  311,\n",
       "  220,\n",
       "  3753,\n",
       "  22,\n",
       "  13,\n",
       "  1283,\n",
       "  574,\n",
       "  264,\n",
       "  37038,\n",
       "  449,\n",
       "  279,\n",
       "  7904,\n",
       "  5165,\n",
       "  8151,\n",
       "  4717,\n",
       "  382,\n",
       "  39,\n",
       "  9355,\n",
       "  67692,\n",
       "  8115,\n",
       "  320,\n",
       "  777,\n",
       "  7552,\n",
       "  220,\n",
       "  7529,\n",
       "  24,\n",
       "  1389,\n",
       "  220,\n",
       "  1682,\n",
       "  5936,\n",
       "  220,\n",
       "  2366,\n",
       "  15,\n",
       "  8,\n",
       "  574,\n",
       "  459,\n",
       "  7904,\n",
       "  11542,\n",
       "  28941,\n",
       "  11,\n",
       "  3674,\n",
       "  12128,\n",
       "  11,\n",
       "  13951,\n",
       "  85,\n",
       "  6423,\n",
       "  64,\n",
       "  7808,\n",
       "  323,\n",
       "  39421,\n",
       "  71,\n",
       "  1122,\n",
       "  13,\n",
       "  3005,\n",
       "  574,\n",
       "  9405,\n",
       "  304,\n",
       "  2755,\n",
       "  309,\n",
       "  11,\n",
       "  6890,\n",
       "  13,\n",
       "  3005,\n",
       "  574,\n",
       "  3967,\n",
       "  369,\n",
       "  1077,\n",
       "  4375,\n",
       "  311,\n",
       "  279,\n",
       "  74477,\n",
       "  315,\n",
       "  3278,\n",
       "  304,\n",
       "  6890,\n",
       "  13,\n",
       "  578,\n",
       "  10423,\n",
       "  315,\n",
       "  6890,\n",
       "  22034,\n",
       "  1077,\n",
       "  279,\n",
       "  11999,\n",
       "  8592,\n",
       "  30028,\n",
       "  34662,\n",
       "  315,\n",
       "  279,\n",
       "  26367,\n",
       "  1764,\n",
       "  1443,\n",
       "  462,\n",
       "  11,\n",
       "  304,\n",
       "  220,\n",
       "  1049,\n",
       "  20,\n",
       "  13,\n",
       "  3005,\n",
       "  574,\n",
       "  6532,\n",
       "  449,\n",
       "  279,\n",
       "  330,\n",
       "  14047,\n",
       "  352,\n",
       "  40658,\n",
       "  1,\n",
       "  304,\n",
       "  3717,\n",
       "  449,\n",
       "  279,\n",
       "  426,\n",
       "  5812,\n",
       "  276,\n",
       "  7351,\n",
       "  323,\n",
       "  574,\n",
       "  264,\n",
       "  19533,\n",
       "  4562,\n",
       "  315,\n",
       "  279,\n",
       "  11145,\n",
       "  15177,\n",
       "  315,\n",
       "  279,\n",
       "  10913,\n",
       "  9983,\n",
       "  66187,\n",
       "  8925,\n",
       "  320,\n",
       "  6546,\n",
       "  53968,\n",
       "  3677,\n",
       "  14924,\n",
       "  25,\n",
       "  3639,\n",
       "  374,\n",
       "  67070,\n",
       "  17037,\n",
       "  3967,\n",
       "  439,\n",
       "  1980,\n",
       "  128009,\n",
       "  128006,\n",
       "  78191,\n",
       "  128007,\n",
       "  198,\n",
       "  16533,\n",
       "  25,\n",
       "  43922,\n",
       "  11848,\n",
       "  11,\n",
       "  67070,\n",
       "  374,\n",
       "  17037,\n",
       "  3967,\n",
       "  439,\n",
       "  27687,\n",
       "  67070,\n",
       "  477,\n",
       "  43316,\n",
       "  6455,\n",
       "  13,\n",
       "  1115,\n",
       "  6136,\n",
       "  374,\n",
       "  264,\n",
       "  4562,\n",
       "  315,\n",
       "  279,\n",
       "  445,\n",
       "  10830,\n",
       "  114785,\n",
       "  3070,\n",
       "  323,\n",
       "  374,\n",
       "  81171,\n",
       "  369,\n",
       "  1202,\n",
       "  58441,\n",
       "  5829,\n",
       "  13,\n",
       "  220,\n",
       "  128009],\n",
       " 'attention_mask': [1,\n",
       "  1,\n",
       "  1,\n",
       "  1,\n",
       "  1,\n",
       "  1,\n",
       "  1,\n",
       "  1,\n",
       "  1,\n",
       "  1,\n",
       "  1,\n",
       "  1,\n",
       "  1,\n",
       "  1,\n",
       "  1,\n",
       "  1,\n",
       "  1,\n",
       "  1,\n",
       "  1,\n",
       "  1,\n",
       "  1,\n",
       "  1,\n",
       "  1,\n",
       "  1,\n",
       "  1,\n",
       "  1,\n",
       "  1,\n",
       "  1,\n",
       "  1,\n",
       "  1,\n",
       "  1,\n",
       "  1,\n",
       "  1,\n",
       "  1,\n",
       "  1,\n",
       "  1,\n",
       "  1,\n",
       "  1,\n",
       "  1,\n",
       "  1,\n",
       "  1,\n",
       "  1,\n",
       "  1,\n",
       "  1,\n",
       "  1,\n",
       "  1,\n",
       "  1,\n",
       "  1,\n",
       "  1,\n",
       "  1,\n",
       "  1,\n",
       "  1,\n",
       "  1,\n",
       "  1,\n",
       "  1,\n",
       "  1,\n",
       "  1,\n",
       "  1,\n",
       "  1,\n",
       "  1,\n",
       "  1,\n",
       "  1,\n",
       "  1,\n",
       "  1,\n",
       "  1,\n",
       "  1,\n",
       "  1,\n",
       "  1,\n",
       "  1,\n",
       "  1,\n",
       "  1,\n",
       "  1,\n",
       "  1,\n",
       "  1,\n",
       "  1,\n",
       "  1,\n",
       "  1,\n",
       "  1,\n",
       "  1,\n",
       "  1,\n",
       "  1,\n",
       "  1,\n",
       "  1,\n",
       "  1,\n",
       "  1,\n",
       "  1,\n",
       "  1,\n",
       "  1,\n",
       "  1,\n",
       "  1,\n",
       "  1,\n",
       "  1,\n",
       "  1,\n",
       "  1,\n",
       "  1,\n",
       "  1,\n",
       "  1,\n",
       "  1,\n",
       "  1,\n",
       "  1,\n",
       "  1,\n",
       "  1,\n",
       "  1,\n",
       "  1,\n",
       "  1,\n",
       "  1,\n",
       "  1,\n",
       "  1,\n",
       "  1,\n",
       "  1,\n",
       "  1,\n",
       "  1,\n",
       "  1,\n",
       "  1,\n",
       "  1,\n",
       "  1,\n",
       "  1,\n",
       "  1,\n",
       "  1,\n",
       "  1,\n",
       "  1,\n",
       "  1,\n",
       "  1,\n",
       "  1,\n",
       "  1,\n",
       "  1,\n",
       "  1,\n",
       "  1,\n",
       "  1,\n",
       "  1,\n",
       "  1,\n",
       "  1,\n",
       "  1,\n",
       "  1,\n",
       "  1,\n",
       "  1,\n",
       "  1,\n",
       "  1,\n",
       "  1,\n",
       "  1,\n",
       "  1,\n",
       "  1,\n",
       "  1,\n",
       "  1,\n",
       "  1,\n",
       "  1,\n",
       "  1,\n",
       "  1,\n",
       "  1,\n",
       "  1,\n",
       "  1,\n",
       "  1,\n",
       "  1,\n",
       "  1,\n",
       "  1,\n",
       "  1,\n",
       "  1,\n",
       "  1,\n",
       "  1,\n",
       "  1,\n",
       "  1,\n",
       "  1,\n",
       "  1,\n",
       "  1,\n",
       "  1,\n",
       "  1,\n",
       "  1,\n",
       "  1,\n",
       "  1,\n",
       "  1,\n",
       "  1,\n",
       "  1,\n",
       "  1,\n",
       "  1,\n",
       "  1,\n",
       "  1,\n",
       "  1,\n",
       "  1,\n",
       "  1,\n",
       "  1,\n",
       "  1,\n",
       "  1,\n",
       "  1,\n",
       "  1,\n",
       "  1,\n",
       "  1,\n",
       "  1,\n",
       "  1,\n",
       "  1,\n",
       "  1,\n",
       "  1,\n",
       "  1,\n",
       "  1,\n",
       "  1,\n",
       "  1,\n",
       "  1,\n",
       "  1,\n",
       "  1,\n",
       "  1,\n",
       "  1,\n",
       "  1,\n",
       "  1,\n",
       "  1,\n",
       "  1,\n",
       "  1,\n",
       "  1,\n",
       "  1,\n",
       "  1,\n",
       "  1,\n",
       "  1,\n",
       "  1,\n",
       "  1,\n",
       "  1,\n",
       "  1,\n",
       "  1,\n",
       "  1,\n",
       "  1,\n",
       "  1,\n",
       "  1,\n",
       "  1,\n",
       "  1,\n",
       "  1,\n",
       "  1,\n",
       "  1,\n",
       "  1,\n",
       "  1,\n",
       "  1,\n",
       "  1,\n",
       "  1,\n",
       "  1,\n",
       "  1,\n",
       "  1,\n",
       "  1,\n",
       "  1,\n",
       "  1,\n",
       "  1,\n",
       "  1,\n",
       "  1,\n",
       "  1,\n",
       "  1,\n",
       "  1,\n",
       "  1,\n",
       "  1,\n",
       "  1,\n",
       "  1,\n",
       "  1,\n",
       "  1,\n",
       "  1,\n",
       "  1,\n",
       "  1,\n",
       "  1,\n",
       "  1,\n",
       "  1,\n",
       "  1,\n",
       "  1,\n",
       "  1,\n",
       "  1,\n",
       "  1,\n",
       "  1,\n",
       "  1,\n",
       "  1,\n",
       "  1,\n",
       "  1,\n",
       "  1,\n",
       "  1,\n",
       "  1,\n",
       "  1,\n",
       "  1,\n",
       "  1,\n",
       "  1,\n",
       "  1,\n",
       "  1,\n",
       "  1,\n",
       "  1,\n",
       "  1,\n",
       "  1,\n",
       "  1,\n",
       "  1,\n",
       "  1,\n",
       "  1,\n",
       "  1,\n",
       "  1,\n",
       "  1,\n",
       "  1,\n",
       "  1,\n",
       "  1,\n",
       "  1,\n",
       "  1,\n",
       "  1,\n",
       "  1,\n",
       "  1,\n",
       "  1,\n",
       "  1,\n",
       "  1,\n",
       "  1,\n",
       "  1,\n",
       "  1,\n",
       "  1,\n",
       "  1,\n",
       "  1,\n",
       "  1,\n",
       "  1,\n",
       "  1,\n",
       "  1,\n",
       "  1,\n",
       "  1,\n",
       "  1,\n",
       "  1,\n",
       "  1,\n",
       "  1,\n",
       "  1,\n",
       "  1,\n",
       "  1,\n",
       "  1,\n",
       "  1,\n",
       "  1,\n",
       "  1,\n",
       "  1,\n",
       "  1,\n",
       "  1,\n",
       "  1,\n",
       "  1,\n",
       "  1,\n",
       "  1,\n",
       "  1,\n",
       "  1,\n",
       "  1,\n",
       "  1,\n",
       "  1,\n",
       "  1,\n",
       "  1,\n",
       "  1,\n",
       "  1,\n",
       "  1,\n",
       "  1,\n",
       "  1,\n",
       "  1,\n",
       "  1,\n",
       "  1,\n",
       "  1,\n",
       "  1,\n",
       "  1,\n",
       "  1,\n",
       "  1,\n",
       "  1,\n",
       "  1,\n",
       "  1,\n",
       "  1,\n",
       "  1,\n",
       "  1,\n",
       "  1,\n",
       "  1,\n",
       "  1,\n",
       "  1,\n",
       "  1,\n",
       "  1,\n",
       "  1,\n",
       "  1,\n",
       "  1,\n",
       "  1,\n",
       "  1,\n",
       "  1,\n",
       "  1,\n",
       "  1,\n",
       "  1,\n",
       "  1,\n",
       "  1,\n",
       "  1,\n",
       "  1,\n",
       "  1,\n",
       "  1,\n",
       "  1,\n",
       "  1,\n",
       "  1,\n",
       "  1,\n",
       "  1,\n",
       "  1,\n",
       "  1,\n",
       "  1,\n",
       "  1,\n",
       "  1,\n",
       "  1,\n",
       "  1,\n",
       "  1,\n",
       "  1,\n",
       "  1,\n",
       "  1,\n",
       "  1,\n",
       "  1,\n",
       "  1,\n",
       "  1,\n",
       "  1,\n",
       "  1,\n",
       "  1,\n",
       "  1,\n",
       "  1,\n",
       "  1,\n",
       "  1,\n",
       "  1,\n",
       "  1,\n",
       "  1,\n",
       "  1,\n",
       "  1,\n",
       "  1,\n",
       "  1,\n",
       "  1,\n",
       "  1,\n",
       "  1,\n",
       "  1,\n",
       "  1,\n",
       "  1,\n",
       "  1,\n",
       "  1,\n",
       "  1,\n",
       "  1,\n",
       "  1,\n",
       "  1,\n",
       "  1,\n",
       "  1,\n",
       "  1,\n",
       "  1]}"
      ]
     },
     "execution_count": 43,
     "metadata": {},
     "output_type": "execute_result"
    }
   ],
   "source": [
    "trainer.train_dataset[0]"
   ]
  },
  {
   "cell_type": "code",
   "execution_count": 42,
   "metadata": {},
   "outputs": [
    {
     "data": {
      "text/plain": [
       "'<|begin_of_text|><|begin_of_text|><|start_header_id|>user<|end_header_id|>\\nUse the context information below only to answer the given question.\\nDo not make up answers.\\n\\nContext: Basil (\"Ocimum basilicum\") ( or ) is a plant of the Family Lamiaceae. It is also known as Sweet Basil or Tulsi. It is a tender low-growing herb that is grown as a perennial in warm, tropical climates. Basil is originally native to India and other tropical regions of Asia. It has been cultivated there for more than 5,000 years. It is prominently featured in many cuisines throughout the world. Some of them are Italian, Thai, Vietnamese and Laotian cuisines. It grows to between 30–60\\xa0cm tall. It has light green, silky leaves 3–5\\xa0cm long and 1–3\\xa0cm broad. The leaves are opposite each other. The flowers are quite big. They are white in color and arranged as a spike.\\n\\nGyani Zail Singh (; born Jarnail Singh, 5 May 1916 – 25 December 1994) was an Indian politician. He was the seventh President of India from 1982 to 1987. He was a politician with the Indian National Congress party.\\n\\nHema Bharali (19 February 1919 – 29 April 2020) was an Indian freedom activist, social worker, Sarvodaya leader and Gandhian. She was born in Assam, India. She was known for her works to the empowerment of women in India. The Government of India awarded her the fourth highest civilian honour of the Padma Shri, in 2005. She was involved with the \"Padayatra\" in connection with the Bhoodan movement and was a founder member of the executive council of the Central Social Welfare Board (CSWB).\\n\\nQuestion: What is Basil commonly known as?\\n\\n<|eot_id|><|start_header_id|>assistant<|end_header_id|>\\nAnswer: Dear Friend, Basil is commonly known as Sweet Basil or Tulsi. This plant is a member of the Lamiaceae family and is cherished for its culinary uses. <|eot_id|>'"
      ]
     },
     "execution_count": 42,
     "metadata": {},
     "output_type": "execute_result"
    }
   ],
   "source": [
    "tokenizer.decode(trainer.train_dataset[0]['input_ids'])"
   ]
  },
  {
   "cell_type": "markdown",
   "metadata": {},
   "source": [
    "## Fine-tune LLama 3 LLM on the RAG prompts"
   ]
  },
  {
   "cell_type": "code",
   "execution_count": 44,
   "metadata": {
    "colab": {
     "base_uri": "https://localhost:8080/",
     "height": 432
    },
    "id": "gqhFCtfV6ZRA",
    "outputId": "d9accfac-52d9-48ac-af1a-eeaae1a20952"
   },
   "outputs": [
    {
     "name": "stderr",
     "output_type": "stream",
     "text": [
      "==((====))==  Unsloth - 2x faster free finetuning | Num GPUs = 1\n",
      "   \\\\   /|    Num examples = 1,340 | Num Epochs = 3\n",
      "O^O/ \\_/ \\    Batch size per device = 16 | Gradient Accumulation steps = 1\n",
      "\\        /    Total batch size = 16 | Total steps = 170\n",
      " \"-____-\"     Number of trainable parameters = 41,943,040\n"
     ]
    },
    {
     "data": {
      "text/html": [
       "\n",
       "    <div>\n",
       "      \n",
       "      <progress value='170' max='170' style='width:300px; height:20px; vertical-align: middle;'></progress>\n",
       "      [170/170 11:59, Epoch 2/3]\n",
       "    </div>\n",
       "    <table border=\"1\" class=\"dataframe\">\n",
       "  <thead>\n",
       " <tr style=\"text-align: left;\">\n",
       "      <th>Step</th>\n",
       "      <th>Training Loss</th>\n",
       "    </tr>\n",
       "  </thead>\n",
       "  <tbody>\n",
       "    <tr>\n",
       "      <td>10</td>\n",
       "      <td>1.738800</td>\n",
       "    </tr>\n",
       "    <tr>\n",
       "      <td>20</td>\n",
       "      <td>0.651900</td>\n",
       "    </tr>\n",
       "    <tr>\n",
       "      <td>30</td>\n",
       "      <td>0.608500</td>\n",
       "    </tr>\n",
       "    <tr>\n",
       "      <td>40</td>\n",
       "      <td>0.536200</td>\n",
       "    </tr>\n",
       "    <tr>\n",
       "      <td>50</td>\n",
       "      <td>0.530500</td>\n",
       "    </tr>\n",
       "    <tr>\n",
       "      <td>60</td>\n",
       "      <td>0.533300</td>\n",
       "    </tr>\n",
       "    <tr>\n",
       "      <td>70</td>\n",
       "      <td>0.459100</td>\n",
       "    </tr>\n",
       "    <tr>\n",
       "      <td>80</td>\n",
       "      <td>0.459900</td>\n",
       "    </tr>\n",
       "    <tr>\n",
       "      <td>90</td>\n",
       "      <td>0.389700</td>\n",
       "    </tr>\n",
       "    <tr>\n",
       "      <td>100</td>\n",
       "      <td>0.393900</td>\n",
       "    </tr>\n",
       "    <tr>\n",
       "      <td>110</td>\n",
       "      <td>0.392500</td>\n",
       "    </tr>\n",
       "    <tr>\n",
       "      <td>120</td>\n",
       "      <td>0.388500</td>\n",
       "    </tr>\n",
       "    <tr>\n",
       "      <td>130</td>\n",
       "      <td>0.354500</td>\n",
       "    </tr>\n",
       "    <tr>\n",
       "      <td>140</td>\n",
       "      <td>0.340300</td>\n",
       "    </tr>\n",
       "    <tr>\n",
       "      <td>150</td>\n",
       "      <td>0.338900</td>\n",
       "    </tr>\n",
       "    <tr>\n",
       "      <td>160</td>\n",
       "      <td>0.344100</td>\n",
       "    </tr>\n",
       "    <tr>\n",
       "      <td>170</td>\n",
       "      <td>0.329200</td>\n",
       "    </tr>\n",
       "  </tbody>\n",
       "</table><p>"
      ],
      "text/plain": [
       "<IPython.core.display.HTML object>"
      ]
     },
     "metadata": {},
     "output_type": "display_data"
    },
    {
     "data": {
      "text/plain": [
       "TrainOutput(global_step=170, training_loss=0.5170547078637516, metrics={'train_runtime': 724.5725, 'train_samples_per_second': 3.754, 'train_steps_per_second': 0.235, 'total_flos': 5.800993447988429e+16, 'train_loss': 0.5170547078637516})"
      ]
     },
     "execution_count": 44,
     "metadata": {},
     "output_type": "execute_result"
    }
   ],
   "source": [
    "trainer.train()"
   ]
  },
  {
   "cell_type": "code",
   "execution_count": null,
   "metadata": {
    "id": "d21ntYjsniGW",
    "outputId": "56b0266b-5182-4cda-c4e3-a12564197b1c"
   },
   "outputs": [
    {
     "name": "stdin",
     "output_type": "stream",
     "text": [
      "Enter Huggingface Auth Token: ········\n"
     ]
    }
   ],
   "source": [
    "# from getpass import getpass\n",
    "\n",
    "# HF_TOKEN = getpass('Enter Huggingface Auth Token:')"
   ]
  },
  {
   "cell_type": "code",
   "execution_count": null,
   "metadata": {
    "colab": {
     "referenced_widgets": [
      "d3b34866153e4e41a3eac885a5581512",
      "4e80245082e243229d7565b29ea35146",
      "3beabed56ba8499787ab1a49fa9c14e1",
      "f952cbcd6fe94eb3a530d3af7832da7f",
      "4ef98120637b4ded887825ac6d5444d3",
      "5108049bcc1d48f9936d729831e48023"
     ]
    },
    "id": "YmK30F8tniGX",
    "outputId": "997fe47b-22b6-4e71-852a-8bc6098ab6ca"
   },
   "outputs": [
    {
     "name": "stderr",
     "output_type": "stream",
     "text": [
      "Unsloth: You are pushing to hub, but you passed your HF username = dipanjanS.\n",
      "We shall truncate dipanjanS/RAG_Llama3-8B-it to RAG_Llama3-8B-it\n"
     ]
    },
    {
     "name": "stdout",
     "output_type": "stream",
     "text": [
      "Unsloth: Merging 4bit and LoRA weights to 16bit...\n",
      "Unsloth: Will use up to 317.76 out of 503.53 RAM for saving.\n"
     ]
    },
    {
     "name": "stderr",
     "output_type": "stream",
     "text": [
      "100%|██████████| 32/32 [00:00<00:00, 32.57it/s]\n"
     ]
    },
    {
     "name": "stdout",
     "output_type": "stream",
     "text": [
      "Unsloth: Saving tokenizer... Done.\n",
      "Unsloth: Saving model... This might take 5 minutes for Llama-7b...\n"
     ]
    },
    {
     "data": {
      "application/vnd.jupyter.widget-view+json": {
       "model_id": "d3b34866153e4e41a3eac885a5581512",
       "version_major": 2,
       "version_minor": 0
      },
      "text/plain": [
       "README.md:   0%|          | 0.00/594 [00:00<?, ?B/s]"
      ]
     },
     "metadata": {},
     "output_type": "display_data"
    },
    {
     "data": {
      "application/vnd.jupyter.widget-view+json": {
       "model_id": "4e80245082e243229d7565b29ea35146",
       "version_major": 2,
       "version_minor": 0
      },
      "text/plain": [
       "model-00004-of-00004.safetensors:   0%|          | 0.00/1.17G [00:00<?, ?B/s]"
      ]
     },
     "metadata": {},
     "output_type": "display_data"
    },
    {
     "data": {
      "application/vnd.jupyter.widget-view+json": {
       "model_id": "3beabed56ba8499787ab1a49fa9c14e1",
       "version_major": 2,
       "version_minor": 0
      },
      "text/plain": [
       "Upload 4 LFS files:   0%|          | 0/4 [00:00<?, ?it/s]"
      ]
     },
     "metadata": {},
     "output_type": "display_data"
    },
    {
     "data": {
      "application/vnd.jupyter.widget-view+json": {
       "model_id": "f952cbcd6fe94eb3a530d3af7832da7f",
       "version_major": 2,
       "version_minor": 0
      },
      "text/plain": [
       "model-00003-of-00004.safetensors:   0%|          | 0.00/4.92G [00:00<?, ?B/s]"
      ]
     },
     "metadata": {},
     "output_type": "display_data"
    },
    {
     "data": {
      "application/vnd.jupyter.widget-view+json": {
       "model_id": "4ef98120637b4ded887825ac6d5444d3",
       "version_major": 2,
       "version_minor": 0
      },
      "text/plain": [
       "model-00002-of-00004.safetensors:   0%|          | 0.00/5.00G [00:00<?, ?B/s]"
      ]
     },
     "metadata": {},
     "output_type": "display_data"
    },
    {
     "data": {
      "application/vnd.jupyter.widget-view+json": {
       "model_id": "5108049bcc1d48f9936d729831e48023",
       "version_major": 2,
       "version_minor": 0
      },
      "text/plain": [
       "model-00001-of-00004.safetensors:   0%|          | 0.00/4.98G [00:00<?, ?B/s]"
      ]
     },
     "metadata": {},
     "output_type": "display_data"
    },
    {
     "name": "stdout",
     "output_type": "stream",
     "text": [
      "Done.\n",
      "Saved merged model to https://huggingface.co/dipanjanS/RAG_Llama3-8B-it\n"
     ]
    }
   ],
   "source": [
    "# peft_model.push_to_hub_merged(\"dipanjanS/RAG_Llama3-8B-it\",\n",
    "#                               tokenizer,\n",
    "#                               save_method=\"merged_16bit\",\n",
    "#                               token=HF_TOKEN)"
   ]
  },
  {
   "cell_type": "markdown",
   "metadata": {},
   "source": [
    "## Merge LoRA Adapter to Llama LLM and Save in 16 Bit precision\n",
    "\n",
    "We save in higher precision to get a better performing model, at the cost of more GPU usage"
   ]
  },
  {
   "cell_type": "code",
   "execution_count": 45,
   "metadata": {
    "id": "3yF8nC_eniGX",
    "outputId": "5441eb37-2964-4e63-9b1f-2b4b9fb5a739"
   },
   "outputs": [
    {
     "name": "stdout",
     "output_type": "stream",
     "text": [
      "Unsloth: Merging 4bit and LoRA weights to 16bit...\n",
      "Unsloth: Will use up to 286.33 out of 503.52 RAM for saving.\n",
      "Unsloth: Saving model... This might take 5 minutes ...\n"
     ]
    },
    {
     "name": "stderr",
     "output_type": "stream",
     "text": [
      "100%|██████████| 32/32 [00:00<00:00, 33.85it/s]\n"
     ]
    },
    {
     "name": "stdout",
     "output_type": "stream",
     "text": [
      "Unsloth: Saving tokenizer... Done.\n",
      "Done.\n"
     ]
    }
   ],
   "source": [
    "peft_model.save_pretrained_merged(\"RAG_Llama3-8B-it\",\n",
    "                                  tokenizer,\n",
    "                                  save_method=\"merged_16bit\",)"
   ]
  },
  {
   "cell_type": "code",
   "execution_count": 46,
   "metadata": {
    "id": "pqcxOL-8niGY",
    "outputId": "9d3c1030-6db7-45e8-bbf9-0b649fc33ac8"
   },
   "outputs": [
    {
     "name": "stdout",
     "output_type": "stream",
     "text": [
      "total 16078MB\n",
      "-rw-rw-rw- 1 root root    1MB Feb 16 12:54 config.json\n",
      "-rw-rw-rw- 1 root root    1MB Feb 16 12:54 generation_config.json\n",
      "-rw-rw-rw- 1 root root 4977MB Feb 16 12:54 model-00001-of-00004.safetensors\n",
      "-rw-rw-rw- 1 root root 5000MB Feb 16 12:54 model-00002-of-00004.safetensors\n",
      "-rw-rw-rw- 1 root root 4916MB Feb 16 12:54 model-00003-of-00004.safetensors\n",
      "-rw-rw-rw- 1 root root 1169MB Feb 16 12:54 model-00004-of-00004.safetensors\n",
      "-rw-rw-rw- 1 root root    1MB Feb 16 12:54 model.safetensors.index.json\n",
      "-rw-rw-rw- 1 root root    1MB Feb 16 12:54 special_tokens_map.json\n",
      "-rw-rw-rw- 1 root root   18MB Feb 16 12:54 tokenizer.json\n",
      "-rw-rw-rw- 1 root root    1MB Feb 16 12:54 tokenizer_config.json\n"
     ]
    }
   ],
   "source": [
    "!ls -l --block-size=MB ./RAG_Llama3-8B-it"
   ]
  },
  {
   "cell_type": "markdown",
   "metadata": {},
   "source": [
    "## Load fine-tuned Llama 3 8B"
   ]
  },
  {
   "cell_type": "code",
   "execution_count": 47,
   "metadata": {
    "colab": {
     "referenced_widgets": [
      "a83aea08d1a845bb882e69752b517ffb"
     ]
    },
    "id": "f58GlqgAniGZ",
    "outputId": "ee569241-0986-45cf-ad75-0636b33a805f"
   },
   "outputs": [
    {
     "name": "stdout",
     "output_type": "stream",
     "text": [
      "==((====))==  Unsloth 2025.2.12: Fast Llama patching. Transformers: 4.48.3.\n",
      "   \\\\   /|    GPU: NVIDIA A40. Max memory: 44.339 GB. Platform: Linux.\n",
      "O^O/ \\_/ \\    Torch: 2.4.1+cu124. CUDA: 8.6. CUDA Toolkit: 12.4. Triton: 3.0.0\n",
      "\\        /    Bfloat16 = TRUE. FA [Xformers = 0.0.28.post1. FA2 = True]\n",
      " \"-____-\"     Free Apache license: http://github.com/unslothai/unsloth\n",
      "Unsloth: Fast downloading is enabled - ignore downloading bars which are red colored!\n"
     ]
    },
    {
     "data": {
      "application/vnd.jupyter.widget-view+json": {
       "model_id": "3b18f991843c4dcba01cdcb63ba04682",
       "version_major": 2,
       "version_minor": 0
      },
      "text/plain": [
       "Loading checkpoint shards:   0%|          | 0/4 [00:00<?, ?it/s]"
      ]
     },
     "metadata": {},
     "output_type": "display_data"
    }
   ],
   "source": [
    "from unsloth import FastLanguageModel\n",
    "\n",
    "model, tokenizer = FastLanguageModel.from_pretrained(\n",
    "    model_name = \"RAG_Llama3-8B-it\", # YOUR MODEL YOU USED FOR TRAINING\n",
    "        max_seq_length = max_seq_length,\n",
    "        dtype = None,\n",
    "        load_in_4bit = False,\n",
    "    )"
   ]
  },
  {
   "cell_type": "code",
   "execution_count": 48,
   "metadata": {
    "id": "HLjIfRACniGZ"
   },
   "outputs": [
    {
     "data": {
      "text/plain": [
       "LlamaForCausalLM(\n",
       "  (model): LlamaModel(\n",
       "    (embed_tokens): Embedding(128256, 4096, padding_idx=128255)\n",
       "    (layers): ModuleList(\n",
       "      (0-31): 32 x LlamaDecoderLayer(\n",
       "        (self_attn): LlamaAttention(\n",
       "          (q_proj): Linear(in_features=4096, out_features=4096, bias=False)\n",
       "          (k_proj): Linear(in_features=4096, out_features=1024, bias=False)\n",
       "          (v_proj): Linear(in_features=4096, out_features=1024, bias=False)\n",
       "          (o_proj): Linear(in_features=4096, out_features=4096, bias=False)\n",
       "          (rotary_emb): LlamaRotaryEmbedding()\n",
       "        )\n",
       "        (mlp): LlamaMLP(\n",
       "          (gate_proj): Linear(in_features=4096, out_features=14336, bias=False)\n",
       "          (up_proj): Linear(in_features=4096, out_features=14336, bias=False)\n",
       "          (down_proj): Linear(in_features=14336, out_features=4096, bias=False)\n",
       "          (act_fn): SiLU()\n",
       "        )\n",
       "        (input_layernorm): LlamaRMSNorm((4096,), eps=1e-05)\n",
       "        (post_attention_layernorm): LlamaRMSNorm((4096,), eps=1e-05)\n",
       "      )\n",
       "    )\n",
       "    (norm): LlamaRMSNorm((4096,), eps=1e-05)\n",
       "    (rotary_emb): LlamaRotaryEmbedding()\n",
       "  )\n",
       "  (lm_head): Linear(in_features=4096, out_features=128256, bias=False)\n",
       ")"
      ]
     },
     "execution_count": 48,
     "metadata": {},
     "output_type": "execute_result"
    }
   ],
   "source": [
    "FastLanguageModel.for_inference(model)"
   ]
  },
  {
   "cell_type": "markdown",
   "metadata": {},
   "source": [
    "## Try Fine-tuned Llama on some RAG prompts"
   ]
  },
  {
   "cell_type": "code",
   "execution_count": 49,
   "metadata": {
    "id": "VnqsOZ1vniGZ",
    "outputId": "52671951-7a90-44a9-cbe5-88a3e1c5001e"
   },
   "outputs": [
    {
     "name": "stdout",
     "output_type": "stream",
     "text": [
      "<|begin_of_text|><|start_header_id|>user<|end_header_id|>\n",
      "Use the context information below only to answer the given question.\n",
      "Do not make up answers.\n",
      "\n",
      "Context: New Delhi () is the capital of India and a union territory of the megacity of Delhi. It has a very old history and is home to several monuments where the city is expensive to live in. In traditional Indian geography it falls under the North Indian zone. The city has an area of about 42.7 km. New Delhi has a population of about 9.4 Million people.\n",
      "\n",
      "Gyani Zail Singh (; born Jarnail Singh, 5 May 1916 – 25 December 1994) was an Indian politician. He was the seventh President of India from 1982 to 1987. He was a politician with the Indian National Congress party.\n",
      "\n",
      "Hema Bharali (19 February 1919 – 29 April 2020) was an Indian freedom activist, social worker, Sarvodaya leader and Gandhian. She was born in Assam, India. She was known for her works to the empowerment of women in India. The Government of India awarded her the fourth highest civilian honour of the Padma Shri, in 2005. She was involved with the \"Padayatra\" in connection with the Bhoodan movement and was a founder member of the executive council of the Central Social Welfare Board (CSWB).\n",
      "\n",
      "Question: Tell me about the capital of India\n",
      "\n",
      "<|eot_id|><|start_header_id|>assistant<|end_header_id|>\n",
      "\n"
     ]
    }
   ],
   "source": [
    "question = \"Tell me about the capital of India\"\n",
    "context = new_df.iloc[11].context\n",
    "answer = new_df.iloc[11].answer\n",
    "rag_prompt = rag_qa_template(question,context)\n",
    "print(rag_prompt)"
   ]
  },
  {
   "cell_type": "code",
   "execution_count": 50,
   "metadata": {
    "id": "Ycel72FpniGa",
    "outputId": "3f403f2f-759d-4952-e12e-4f0bead57072"
   },
   "outputs": [
    {
     "name": "stdout",
     "output_type": "stream",
     "text": [
      "<|begin_of_text|><|begin_of_text|><|start_header_id|>user<|end_header_id|>\n",
      "Use the context information below only to answer the given question.\n",
      "Do not make up answers.\n",
      "\n",
      "Context: New Delhi () is the capital of India and a union territory of the megacity of Delhi. It has a very old history and is home to several monuments where the city is expensive to live in. In traditional Indian geography it falls under the North Indian zone. The city has an area of about 42.7 km. New Delhi has a population of about 9.4 Million people.\n",
      "\n",
      "Gyani Zail Singh (; born Jarnail Singh, 5 May 1916 – 25 December 1994) was an Indian politician. He was the seventh President of India from 1982 to 1987. He was a politician with the Indian National Congress party.\n",
      "\n",
      "Hema Bharali (19 February 1919 – 29 April 2020) was an Indian freedom activist, social worker, Sarvodaya leader and Gandhian. She was born in Assam, India. She was known for her works to the empowerment of women in India. The Government of India awarded her the fourth highest civilian honour of the Padma Shri, in 2005. She was involved with the \"Padayatra\" in connection with the Bhoodan movement and was a founder member of the executive council of the Central Social Welfare Board (CSWB).\n",
      "\n",
      "Question: Tell me about the capital of India\n",
      "\n",
      "<|eot_id|><|start_header_id|>assistant<|end_header_id|>\n",
      "Answer: Dear Friend, the capital of India is New Delhi, which is also a union territory of the megacity of Delhi. It has a rich history and is known for its many monuments. <|eot_id|>\n"
     ]
    }
   ],
   "source": [
    "# Encode the prompt.\n",
    "inputs = tokenizer(rag_prompt, return_tensors=\"pt\").to('cuda')\n",
    "# Generate the output.\n",
    "output = model.generate(**inputs, max_new_tokens=256,\n",
    "                        eos_token_id=tokenizer.eos_token_id,\n",
    "                        tokenizer=tokenizer, stop_strings=[\"<|eot_id|>\"])\n",
    "# Decode the output.\n",
    "text = tokenizer.decode(output[0], skip_special_tokens=False)\n",
    "print(text)"
   ]
  },
  {
   "cell_type": "code",
   "execution_count": 51,
   "metadata": {
    "id": "PjPm2cBmniGa",
    "outputId": "873b9257-9ba1-4b1d-d868-2fcf8f719c7b"
   },
   "outputs": [
    {
     "name": "stdout",
     "output_type": "stream",
     "text": [
      "<|begin_of_text|><|begin_of_text|><|start_header_id|>user<|end_header_id|>\n",
      "Use the context information below only to answer the given question.\n",
      "Do not make up answers.\n",
      "\n",
      "Context: \n",
      "Explore the transformative technology of Retrieval-Augmented Generation (RAG). This workshop will guide you from foundational concepts to building sophisticated RAG systems, ensuring tangible outcomes and solid takeaways.\n",
      "Workshop Modules:\n",
      "Module 1: Getting Started with Gen AI\n",
      "Module 2: Gen AI Approaches in Building Business Applications\n",
      "Module 3: Foundations to Understand RAG Better\n",
      "Module 4: Building RAG Applications from Scratch\n",
      "Module 5: Spice up your RAG Game with Advanced RAG Strategies\n",
      "Speaker: Arun Prakash Asokan, Associate Director Data Science at Novartis\n",
      "\n",
      "Mastering LLMs: Training, Fine-tuning, and Best Practices\n",
      "Gain a comprehensive introduction to training and fine-tuning large language models. This LLM workshop covers essential methodologies and hands-on sessions with tools like the HuggingFace ecosystem, PEFT, TRL and Unsloth AI.\n",
      "Workshop Modules:\n",
      "Module 1: LLM and Generative AI Essentials\n",
      "Module 2: Training and Fine-tuning LLMs\n",
      "Module 3: Parameter-efficient Fine-tuning LLMs\n",
      "Module 4: Instruction-based Fine-tuning LLMs using Reinforcement Learning\n",
      "Module 5: Wrap-up and Best Practices\n",
      "Speaker: Dipanjan Sarkar, Head of Community and Principal AI Scientist at Analytics Vidhya\n",
      "\n",
      "Mastering Language Models: From Concepts to Code in PyTorch\n",
      "In this workshop, learn the working behind ChatGPT and get hands-on with coding, training, and fine-tuning your own language models using PyTorch. This workshop will be conducted in a unique “StatQuest Style,” ensuring every detail is clearly explained.\n",
      "Workshop Modules\n",
      "Module 1: Introduction to Neural Networks and Transformers\n",
      "Module 2: (BAM!): Essential Matrix Algebra for Coding Transformers\n",
      "Module 3: (DOUBLE BAM!!): Coding a Language Model from Scratch\n",
      "Module 4: (TRIPLE BAM!!!): Fine-tuning a Production Grade Large Language Model\n",
      "Speaker: Joshua Starmer PhD, Founder & CEO at StatQuest\n",
      "\n",
      "\n",
      "Question: Tell me who is the speaker of the fine-tuning workshop\n",
      "and what do we learn from this workshop?\n",
      "\n",
      "<|eot_id|><|start_header_id|>assistant<|end_header_id|>\n",
      "Answer: Dear Friend, the speaker of the fine-tuning workshop is Dipanjan Sarkar, who is the Head of Community and Principal AI Scientist at Analytics Vidhya. This workshop covers essential methodologies and hands-on sessions with tools like the HuggingFace ecosystem, PEFT, TRL, and Unsloth AI, focusing on training and fine-tuning large language models. <|eot_id|>\n"
     ]
    }
   ],
   "source": [
    "context = \"\"\"\n",
    "Explore the transformative technology of Retrieval-Augmented Generation (RAG). This workshop will guide you from foundational concepts to building sophisticated RAG systems, ensuring tangible outcomes and solid takeaways.\n",
    "Workshop Modules:\n",
    "Module 1: Getting Started with Gen AI\n",
    "Module 2: Gen AI Approaches in Building Business Applications\n",
    "Module 3: Foundations to Understand RAG Better\n",
    "Module 4: Building RAG Applications from Scratch\n",
    "Module 5: Spice up your RAG Game with Advanced RAG Strategies\n",
    "Speaker: Arun Prakash Asokan, Associate Director Data Science at Novartis\n",
    "\n",
    "Mastering LLMs: Training, Fine-tuning, and Best Practices\n",
    "Gain a comprehensive introduction to training and fine-tuning large language models. This LLM workshop covers essential methodologies and hands-on sessions with tools like the HuggingFace ecosystem, PEFT, TRL and Unsloth AI.\n",
    "Workshop Modules:\n",
    "Module 1: LLM and Generative AI Essentials\n",
    "Module 2: Training and Fine-tuning LLMs\n",
    "Module 3: Parameter-efficient Fine-tuning LLMs\n",
    "Module 4: Instruction-based Fine-tuning LLMs using Reinforcement Learning\n",
    "Module 5: Wrap-up and Best Practices\n",
    "Speaker: Dipanjan Sarkar, Head of Community and Principal AI Scientist at Analytics Vidhya\n",
    "\n",
    "Mastering Language Models: From Concepts to Code in PyTorch\n",
    "In this workshop, learn the working behind ChatGPT and get hands-on with coding, training, and fine-tuning your own language models using PyTorch. This workshop will be conducted in a unique “StatQuest Style,” ensuring every detail is clearly explained.\n",
    "Workshop Modules\n",
    "Module 1: Introduction to Neural Networks and Transformers\n",
    "Module 2: (BAM!): Essential Matrix Algebra for Coding Transformers\n",
    "Module 3: (DOUBLE BAM!!): Coding a Language Model from Scratch\n",
    "Module 4: (TRIPLE BAM!!!): Fine-tuning a Production Grade Large Language Model\n",
    "Speaker: Joshua Starmer PhD, Founder & CEO at StatQuest\n",
    "\"\"\"\n",
    "\n",
    "question = \"\"\"Tell me who is the speaker of the fine-tuning workshop\n",
    "              and what do we learn from this workshop?\"\"\"\n",
    "\n",
    "rag_prompt = rag_qa_template(question,context)\n",
    "# Encode the prompt.\n",
    "inputs = tokenizer(rag_prompt, return_tensors=\"pt\").to('cuda')\n",
    "# Generate the output.\n",
    "output = model.generate(**inputs, max_new_tokens=512,\n",
    "                        eos_token_id=tokenizer.eos_token_id,\n",
    "                        tokenizer=tokenizer, stop_strings=[\"<|eot_id|>\"])\n",
    "# Decode the output.\n",
    "text = tokenizer.decode(output[0], skip_special_tokens=False)\n",
    "print(text)"
   ]
  },
  {
   "cell_type": "code",
   "execution_count": 52,
   "metadata": {
    "id": "w-TJxByiniGb"
   },
   "outputs": [],
   "source": [
    "import torch\n",
    "\n",
    "torch.cuda.empty_cache()"
   ]
  },
  {
   "cell_type": "code",
   "execution_count": null,
   "metadata": {},
   "outputs": [],
   "source": []
  }
 ],
 "metadata": {
  "accelerator": "GPU",
  "colab": {
   "gpuType": "T4",
   "provenance": []
  },
  "kernelspec": {
   "display_name": "Python 3 (ipykernel)",
   "language": "python",
   "name": "python3"
  },
  "language_info": {
   "codemirror_mode": {
    "name": "ipython",
    "version": 3
   },
   "file_extension": ".py",
   "mimetype": "text/x-python",
   "name": "python",
   "nbconvert_exporter": "python",
   "pygments_lexer": "ipython3",
   "version": "3.11.10"
  },
  "widgets": {
   "application/vnd.jupyter.widget-state+json": {
    "08df62e5f54b4d36aa255a2ff799a590": {
     "model_module": "@jupyter-widgets/controls",
     "model_module_version": "1.5.0",
     "model_name": "DescriptionStyleModel",
     "state": {
      "_model_module": "@jupyter-widgets/controls",
      "_model_module_version": "1.5.0",
      "_model_name": "DescriptionStyleModel",
      "_view_count": null,
      "_view_module": "@jupyter-widgets/base",
      "_view_module_version": "1.2.0",
      "_view_name": "StyleView",
      "description_width": ""
     }
    },
    "0b0af7f09cfb4c08bc31c8963924fa4c": {
     "model_module": "@jupyter-widgets/controls",
     "model_module_version": "1.5.0",
     "model_name": "HBoxModel",
     "state": {
      "_dom_classes": [],
      "_model_module": "@jupyter-widgets/controls",
      "_model_module_version": "1.5.0",
      "_model_name": "HBoxModel",
      "_view_count": null,
      "_view_module": "@jupyter-widgets/controls",
      "_view_module_version": "1.5.0",
      "_view_name": "HBoxView",
      "box_style": "",
      "children": [
       "IPY_MODEL_1939d387a22148939f9964e95516447a",
       "IPY_MODEL_f6bb08371e9948a9b7b90a02c9da701d",
       "IPY_MODEL_c4d44e8ca1a543aea0ef12464e3078cf"
      ],
      "layout": "IPY_MODEL_2f3ddee8046d49e58a9dfcdbb2b58934"
     }
    },
    "0b35ee66046c4e4eaed1884e939c842c": {
     "model_module": "@jupyter-widgets/controls",
     "model_module_version": "1.5.0",
     "model_name": "DescriptionStyleModel",
     "state": {
      "_model_module": "@jupyter-widgets/controls",
      "_model_module_version": "1.5.0",
      "_model_name": "DescriptionStyleModel",
      "_view_count": null,
      "_view_module": "@jupyter-widgets/base",
      "_view_module_version": "1.2.0",
      "_view_name": "StyleView",
      "description_width": ""
     }
    },
    "0cd0e5e9c77e449ca448683322c3b840": {
     "model_module": "@jupyter-widgets/controls",
     "model_module_version": "1.5.0",
     "model_name": "FloatProgressModel",
     "state": {
      "_dom_classes": [],
      "_model_module": "@jupyter-widgets/controls",
      "_model_module_version": "1.5.0",
      "_model_name": "FloatProgressModel",
      "_view_count": null,
      "_view_module": "@jupyter-widgets/controls",
      "_view_module_version": "1.5.0",
      "_view_name": "ProgressView",
      "bar_style": "success",
      "description": "",
      "description_tooltip": null,
      "layout": "IPY_MODEL_eca0ce492d1c4102bcf037540fd2c1fe",
      "max": 5702746390,
      "min": 0,
      "orientation": "horizontal",
      "style": "IPY_MODEL_17221283325643afbfeb4f40e4ab0f40",
      "value": 5702746390
     }
    },
    "0d52187f7d454e458c1048df962a0439": {
     "model_module": "@jupyter-widgets/controls",
     "model_module_version": "1.5.0",
     "model_name": "ProgressStyleModel",
     "state": {
      "_model_module": "@jupyter-widgets/controls",
      "_model_module_version": "1.5.0",
      "_model_name": "ProgressStyleModel",
      "_view_count": null,
      "_view_module": "@jupyter-widgets/base",
      "_view_module_version": "1.2.0",
      "_view_name": "StyleView",
      "bar_color": null,
      "description_width": ""
     }
    },
    "0fadb2bb81d84df4b8e311339d70d91b": {
     "model_module": "@jupyter-widgets/controls",
     "model_module_version": "1.5.0",
     "model_name": "HBoxModel",
     "state": {
      "_dom_classes": [],
      "_model_module": "@jupyter-widgets/controls",
      "_model_module_version": "1.5.0",
      "_model_name": "HBoxModel",
      "_view_count": null,
      "_view_module": "@jupyter-widgets/controls",
      "_view_module_version": "1.5.0",
      "_view_name": "HBoxView",
      "box_style": "",
      "children": [
       "IPY_MODEL_a211ef81dcd148e2a19bee9262caefd5",
       "IPY_MODEL_8fb70e20c641472a9fc1bdbb4f2591a6",
       "IPY_MODEL_cd8e505d02b6484397a21fc49cd2be15"
      ],
      "layout": "IPY_MODEL_494d4f65dbdd404fa5e06dba14dcc82d"
     }
    },
    "103a7e47c6ca40b98f15d4991353b7d3": {
     "model_module": "@jupyter-widgets/controls",
     "model_module_version": "1.5.0",
     "model_name": "DescriptionStyleModel",
     "state": {
      "_model_module": "@jupyter-widgets/controls",
      "_model_module_version": "1.5.0",
      "_model_name": "DescriptionStyleModel",
      "_view_count": null,
      "_view_module": "@jupyter-widgets/base",
      "_view_module_version": "1.2.0",
      "_view_name": "StyleView",
      "description_width": ""
     }
    },
    "15cd9606ea644dbdb721026ef8355772": {
     "model_module": "@jupyter-widgets/base",
     "model_module_version": "1.2.0",
     "model_name": "LayoutModel",
     "state": {
      "_model_module": "@jupyter-widgets/base",
      "_model_module_version": "1.2.0",
      "_model_name": "LayoutModel",
      "_view_count": null,
      "_view_module": "@jupyter-widgets/base",
      "_view_module_version": "1.2.0",
      "_view_name": "LayoutView",
      "align_content": null,
      "align_items": null,
      "align_self": null,
      "border": null,
      "bottom": null,
      "display": null,
      "flex": null,
      "flex_flow": null,
      "grid_area": null,
      "grid_auto_columns": null,
      "grid_auto_flow": null,
      "grid_auto_rows": null,
      "grid_column": null,
      "grid_gap": null,
      "grid_row": null,
      "grid_template_areas": null,
      "grid_template_columns": null,
      "grid_template_rows": null,
      "height": null,
      "justify_content": null,
      "justify_items": null,
      "left": null,
      "margin": null,
      "max_height": null,
      "max_width": null,
      "min_height": null,
      "min_width": null,
      "object_fit": null,
      "object_position": null,
      "order": null,
      "overflow": null,
      "overflow_x": null,
      "overflow_y": null,
      "padding": null,
      "right": null,
      "top": null,
      "visibility": null,
      "width": null
     }
    },
    "17221283325643afbfeb4f40e4ab0f40": {
     "model_module": "@jupyter-widgets/controls",
     "model_module_version": "1.5.0",
     "model_name": "ProgressStyleModel",
     "state": {
      "_model_module": "@jupyter-widgets/controls",
      "_model_module_version": "1.5.0",
      "_model_name": "ProgressStyleModel",
      "_view_count": null,
      "_view_module": "@jupyter-widgets/base",
      "_view_module_version": "1.2.0",
      "_view_name": "StyleView",
      "bar_color": null,
      "description_width": ""
     }
    },
    "1939d387a22148939f9964e95516447a": {
     "model_module": "@jupyter-widgets/controls",
     "model_module_version": "1.5.0",
     "model_name": "HTMLModel",
     "state": {
      "_dom_classes": [],
      "_model_module": "@jupyter-widgets/controls",
      "_model_module_version": "1.5.0",
      "_model_name": "HTMLModel",
      "_view_count": null,
      "_view_module": "@jupyter-widgets/controls",
      "_view_module_version": "1.5.0",
      "_view_name": "HTMLView",
      "description": "",
      "description_tooltip": null,
      "layout": "IPY_MODEL_43fafeb2839747d0b4678e9c4a951584",
      "placeholder": "​",
      "style": "IPY_MODEL_b8e7c36ac4b9434282ebccffad2c93cb",
      "value": "Map: 100%"
     }
    },
    "19db803aea87419bae4b569178cd82b7": {
     "model_module": "@jupyter-widgets/controls",
     "model_module_version": "1.5.0",
     "model_name": "HTMLModel",
     "state": {
      "_dom_classes": [],
      "_model_module": "@jupyter-widgets/controls",
      "_model_module_version": "1.5.0",
      "_model_name": "HTMLModel",
      "_view_count": null,
      "_view_module": "@jupyter-widgets/controls",
      "_view_module_version": "1.5.0",
      "_view_name": "HTMLView",
      "description": "",
      "description_tooltip": null,
      "layout": "IPY_MODEL_15cd9606ea644dbdb721026ef8355772",
      "placeholder": "​",
      "style": "IPY_MODEL_4e698291defc4d3396278d3332cba0a9",
      "value": "tokenizer.json: 100%"
     }
    },
    "1c78dfd24f3f4886ba75cd5e4894f07c": {
     "model_module": "@jupyter-widgets/controls",
     "model_module_version": "1.5.0",
     "model_name": "HBoxModel",
     "state": {
      "_dom_classes": [],
      "_model_module": "@jupyter-widgets/controls",
      "_model_module_version": "1.5.0",
      "_model_name": "HBoxModel",
      "_view_count": null,
      "_view_module": "@jupyter-widgets/controls",
      "_view_module_version": "1.5.0",
      "_view_name": "HBoxView",
      "box_style": "",
      "children": [
       "IPY_MODEL_da7c9efd5b8440a899e877713631c071",
       "IPY_MODEL_0cd0e5e9c77e449ca448683322c3b840",
       "IPY_MODEL_b74d10c8bc7143c59b2eb358f8d58ac9"
      ],
      "layout": "IPY_MODEL_f0667340ae2e4e5eb241a041d2a3d792"
     }
    },
    "216661536bf34a10a041cd681f107606": {
     "model_module": "@jupyter-widgets/controls",
     "model_module_version": "1.5.0",
     "model_name": "FloatProgressModel",
     "state": {
      "_dom_classes": [],
      "_model_module": "@jupyter-widgets/controls",
      "_model_module_version": "1.5.0",
      "_model_name": "FloatProgressModel",
      "_view_count": null,
      "_view_module": "@jupyter-widgets/controls",
      "_view_module_version": "1.5.0",
      "_view_name": "ProgressView",
      "bar_style": "success",
      "description": "",
      "description_tooltip": null,
      "layout": "IPY_MODEL_607491acdba44ebab09b2e907ecbce3b",
      "max": 459,
      "min": 0,
      "orientation": "horizontal",
      "style": "IPY_MODEL_0d52187f7d454e458c1048df962a0439",
      "value": 459
     }
    },
    "2a3c05a25f754573bf5209e2ff31b7a3": {
     "model_module": "@jupyter-widgets/base",
     "model_module_version": "1.2.0",
     "model_name": "LayoutModel",
     "state": {
      "_model_module": "@jupyter-widgets/base",
      "_model_module_version": "1.2.0",
      "_model_name": "LayoutModel",
      "_view_count": null,
      "_view_module": "@jupyter-widgets/base",
      "_view_module_version": "1.2.0",
      "_view_name": "LayoutView",
      "align_content": null,
      "align_items": null,
      "align_self": null,
      "border": null,
      "bottom": null,
      "display": null,
      "flex": null,
      "flex_flow": null,
      "grid_area": null,
      "grid_auto_columns": null,
      "grid_auto_flow": null,
      "grid_auto_rows": null,
      "grid_column": null,
      "grid_gap": null,
      "grid_row": null,
      "grid_template_areas": null,
      "grid_template_columns": null,
      "grid_template_rows": null,
      "height": null,
      "justify_content": null,
      "justify_items": null,
      "left": null,
      "margin": null,
      "max_height": null,
      "max_width": null,
      "min_height": null,
      "min_width": null,
      "object_fit": null,
      "object_position": null,
      "order": null,
      "overflow": null,
      "overflow_x": null,
      "overflow_y": null,
      "padding": null,
      "right": null,
      "top": null,
      "visibility": null,
      "width": null
     }
    },
    "2f3ddee8046d49e58a9dfcdbb2b58934": {
     "model_module": "@jupyter-widgets/base",
     "model_module_version": "1.2.0",
     "model_name": "LayoutModel",
     "state": {
      "_model_module": "@jupyter-widgets/base",
      "_model_module_version": "1.2.0",
      "_model_name": "LayoutModel",
      "_view_count": null,
      "_view_module": "@jupyter-widgets/base",
      "_view_module_version": "1.2.0",
      "_view_name": "LayoutView",
      "align_content": null,
      "align_items": null,
      "align_self": null,
      "border": null,
      "bottom": null,
      "display": null,
      "flex": null,
      "flex_flow": null,
      "grid_area": null,
      "grid_auto_columns": null,
      "grid_auto_flow": null,
      "grid_auto_rows": null,
      "grid_column": null,
      "grid_gap": null,
      "grid_row": null,
      "grid_template_areas": null,
      "grid_template_columns": null,
      "grid_template_rows": null,
      "height": null,
      "justify_content": null,
      "justify_items": null,
      "left": null,
      "margin": null,
      "max_height": null,
      "max_width": null,
      "min_height": null,
      "min_width": null,
      "object_fit": null,
      "object_position": null,
      "order": null,
      "overflow": null,
      "overflow_x": null,
      "overflow_y": null,
      "padding": null,
      "right": null,
      "top": null,
      "visibility": null,
      "width": null
     }
    },
    "3ca1c7250017425b9d608c24726fc558": {
     "model_module": "@jupyter-widgets/base",
     "model_module_version": "1.2.0",
     "model_name": "LayoutModel",
     "state": {
      "_model_module": "@jupyter-widgets/base",
      "_model_module_version": "1.2.0",
      "_model_name": "LayoutModel",
      "_view_count": null,
      "_view_module": "@jupyter-widgets/base",
      "_view_module_version": "1.2.0",
      "_view_name": "LayoutView",
      "align_content": null,
      "align_items": null,
      "align_self": null,
      "border": null,
      "bottom": null,
      "display": null,
      "flex": null,
      "flex_flow": null,
      "grid_area": null,
      "grid_auto_columns": null,
      "grid_auto_flow": null,
      "grid_auto_rows": null,
      "grid_column": null,
      "grid_gap": null,
      "grid_row": null,
      "grid_template_areas": null,
      "grid_template_columns": null,
      "grid_template_rows": null,
      "height": null,
      "justify_content": null,
      "justify_items": null,
      "left": null,
      "margin": null,
      "max_height": null,
      "max_width": null,
      "min_height": null,
      "min_width": null,
      "object_fit": null,
      "object_position": null,
      "order": null,
      "overflow": null,
      "overflow_x": null,
      "overflow_y": null,
      "padding": null,
      "right": null,
      "top": null,
      "visibility": null,
      "width": null
     }
    },
    "40b154582ae946ff87739e259da77111": {
     "model_module": "@jupyter-widgets/base",
     "model_module_version": "1.2.0",
     "model_name": "LayoutModel",
     "state": {
      "_model_module": "@jupyter-widgets/base",
      "_model_module_version": "1.2.0",
      "_model_name": "LayoutModel",
      "_view_count": null,
      "_view_module": "@jupyter-widgets/base",
      "_view_module_version": "1.2.0",
      "_view_name": "LayoutView",
      "align_content": null,
      "align_items": null,
      "align_self": null,
      "border": null,
      "bottom": null,
      "display": null,
      "flex": null,
      "flex_flow": null,
      "grid_area": null,
      "grid_auto_columns": null,
      "grid_auto_flow": null,
      "grid_auto_rows": null,
      "grid_column": null,
      "grid_gap": null,
      "grid_row": null,
      "grid_template_areas": null,
      "grid_template_columns": null,
      "grid_template_rows": null,
      "height": null,
      "justify_content": null,
      "justify_items": null,
      "left": null,
      "margin": null,
      "max_height": null,
      "max_width": null,
      "min_height": null,
      "min_width": null,
      "object_fit": null,
      "object_position": null,
      "order": null,
      "overflow": null,
      "overflow_x": null,
      "overflow_y": null,
      "padding": null,
      "right": null,
      "top": null,
      "visibility": null,
      "width": null
     }
    },
    "40ef8f0b161c45989f06d3a2028f02f7": {
     "model_module": "@jupyter-widgets/controls",
     "model_module_version": "1.5.0",
     "model_name": "HTMLModel",
     "state": {
      "_dom_classes": [],
      "_model_module": "@jupyter-widgets/controls",
      "_model_module_version": "1.5.0",
      "_model_name": "HTMLModel",
      "_view_count": null,
      "_view_module": "@jupyter-widgets/controls",
      "_view_module_version": "1.5.0",
      "_view_name": "HTMLView",
      "description": "",
      "description_tooltip": null,
      "layout": "IPY_MODEL_82b0acbcd5c9480fb06472e03086a80e",
      "placeholder": "​",
      "style": "IPY_MODEL_b2b6ae6ef3d1446899738f81c4691c8c",
      "value": " 9.09M/9.09M [00:01&lt;00:00, 6.85MB/s]"
     }
    },
    "43fafeb2839747d0b4678e9c4a951584": {
     "model_module": "@jupyter-widgets/base",
     "model_module_version": "1.2.0",
     "model_name": "LayoutModel",
     "state": {
      "_model_module": "@jupyter-widgets/base",
      "_model_module_version": "1.2.0",
      "_model_name": "LayoutModel",
      "_view_count": null,
      "_view_module": "@jupyter-widgets/base",
      "_view_module_version": "1.2.0",
      "_view_name": "LayoutView",
      "align_content": null,
      "align_items": null,
      "align_self": null,
      "border": null,
      "bottom": null,
      "display": null,
      "flex": null,
      "flex_flow": null,
      "grid_area": null,
      "grid_auto_columns": null,
      "grid_auto_flow": null,
      "grid_auto_rows": null,
      "grid_column": null,
      "grid_gap": null,
      "grid_row": null,
      "grid_template_areas": null,
      "grid_template_columns": null,
      "grid_template_rows": null,
      "height": null,
      "justify_content": null,
      "justify_items": null,
      "left": null,
      "margin": null,
      "max_height": null,
      "max_width": null,
      "min_height": null,
      "min_width": null,
      "object_fit": null,
      "object_position": null,
      "order": null,
      "overflow": null,
      "overflow_x": null,
      "overflow_y": null,
      "padding": null,
      "right": null,
      "top": null,
      "visibility": null,
      "width": null
     }
    },
    "47f566b8a6ba4ac7bab624aab7445df5": {
     "model_module": "@jupyter-widgets/base",
     "model_module_version": "1.2.0",
     "model_name": "LayoutModel",
     "state": {
      "_model_module": "@jupyter-widgets/base",
      "_model_module_version": "1.2.0",
      "_model_name": "LayoutModel",
      "_view_count": null,
      "_view_module": "@jupyter-widgets/base",
      "_view_module_version": "1.2.0",
      "_view_name": "LayoutView",
      "align_content": null,
      "align_items": null,
      "align_self": null,
      "border": null,
      "bottom": null,
      "display": null,
      "flex": null,
      "flex_flow": null,
      "grid_area": null,
      "grid_auto_columns": null,
      "grid_auto_flow": null,
      "grid_auto_rows": null,
      "grid_column": null,
      "grid_gap": null,
      "grid_row": null,
      "grid_template_areas": null,
      "grid_template_columns": null,
      "grid_template_rows": null,
      "height": null,
      "justify_content": null,
      "justify_items": null,
      "left": null,
      "margin": null,
      "max_height": null,
      "max_width": null,
      "min_height": null,
      "min_width": null,
      "object_fit": null,
      "object_position": null,
      "order": null,
      "overflow": null,
      "overflow_x": null,
      "overflow_y": null,
      "padding": null,
      "right": null,
      "top": null,
      "visibility": null,
      "width": null
     }
    },
    "494d4f65dbdd404fa5e06dba14dcc82d": {
     "model_module": "@jupyter-widgets/base",
     "model_module_version": "1.2.0",
     "model_name": "LayoutModel",
     "state": {
      "_model_module": "@jupyter-widgets/base",
      "_model_module_version": "1.2.0",
      "_model_name": "LayoutModel",
      "_view_count": null,
      "_view_module": "@jupyter-widgets/base",
      "_view_module_version": "1.2.0",
      "_view_name": "LayoutView",
      "align_content": null,
      "align_items": null,
      "align_self": null,
      "border": null,
      "bottom": null,
      "display": null,
      "flex": null,
      "flex_flow": null,
      "grid_area": null,
      "grid_auto_columns": null,
      "grid_auto_flow": null,
      "grid_auto_rows": null,
      "grid_column": null,
      "grid_gap": null,
      "grid_row": null,
      "grid_template_areas": null,
      "grid_template_columns": null,
      "grid_template_rows": null,
      "height": null,
      "justify_content": null,
      "justify_items": null,
      "left": null,
      "margin": null,
      "max_height": null,
      "max_width": null,
      "min_height": null,
      "min_width": null,
      "object_fit": null,
      "object_position": null,
      "order": null,
      "overflow": null,
      "overflow_x": null,
      "overflow_y": null,
      "padding": null,
      "right": null,
      "top": null,
      "visibility": null,
      "width": null
     }
    },
    "4e698291defc4d3396278d3332cba0a9": {
     "model_module": "@jupyter-widgets/controls",
     "model_module_version": "1.5.0",
     "model_name": "DescriptionStyleModel",
     "state": {
      "_model_module": "@jupyter-widgets/controls",
      "_model_module_version": "1.5.0",
      "_model_name": "DescriptionStyleModel",
      "_view_count": null,
      "_view_module": "@jupyter-widgets/base",
      "_view_module_version": "1.2.0",
      "_view_name": "StyleView",
      "description_width": ""
     }
    },
    "514174f825f84904a153c364e14a3151": {
     "model_module": "@jupyter-widgets/controls",
     "model_module_version": "1.5.0",
     "model_name": "DescriptionStyleModel",
     "state": {
      "_model_module": "@jupyter-widgets/controls",
      "_model_module_version": "1.5.0",
      "_model_name": "DescriptionStyleModel",
      "_view_count": null,
      "_view_module": "@jupyter-widgets/base",
      "_view_module_version": "1.2.0",
      "_view_name": "StyleView",
      "description_width": ""
     }
    },
    "585ae5ceb09d482fb0cfae87adf01169": {
     "model_module": "@jupyter-widgets/controls",
     "model_module_version": "1.5.0",
     "model_name": "DescriptionStyleModel",
     "state": {
      "_model_module": "@jupyter-widgets/controls",
      "_model_module_version": "1.5.0",
      "_model_name": "DescriptionStyleModel",
      "_view_count": null,
      "_view_module": "@jupyter-widgets/base",
      "_view_module_version": "1.2.0",
      "_view_name": "StyleView",
      "description_width": ""
     }
    },
    "5f6c07320949467793653801932922a5": {
     "model_module": "@jupyter-widgets/controls",
     "model_module_version": "1.5.0",
     "model_name": "HBoxModel",
     "state": {
      "_dom_classes": [],
      "_model_module": "@jupyter-widgets/controls",
      "_model_module_version": "1.5.0",
      "_model_name": "HBoxModel",
      "_view_count": null,
      "_view_module": "@jupyter-widgets/controls",
      "_view_module_version": "1.5.0",
      "_view_name": "HBoxView",
      "box_style": "",
      "children": [
       "IPY_MODEL_f851a0f807a948d787a3491623e2a85f",
       "IPY_MODEL_216661536bf34a10a041cd681f107606",
       "IPY_MODEL_ab4ca282a0344b9d9d243ed02134635c"
      ],
      "layout": "IPY_MODEL_f763d13d74db43069a22109984119d57"
     }
    },
    "607491acdba44ebab09b2e907ecbce3b": {
     "model_module": "@jupyter-widgets/base",
     "model_module_version": "1.2.0",
     "model_name": "LayoutModel",
     "state": {
      "_model_module": "@jupyter-widgets/base",
      "_model_module_version": "1.2.0",
      "_model_name": "LayoutModel",
      "_view_count": null,
      "_view_module": "@jupyter-widgets/base",
      "_view_module_version": "1.2.0",
      "_view_name": "LayoutView",
      "align_content": null,
      "align_items": null,
      "align_self": null,
      "border": null,
      "bottom": null,
      "display": null,
      "flex": null,
      "flex_flow": null,
      "grid_area": null,
      "grid_auto_columns": null,
      "grid_auto_flow": null,
      "grid_auto_rows": null,
      "grid_column": null,
      "grid_gap": null,
      "grid_row": null,
      "grid_template_areas": null,
      "grid_template_columns": null,
      "grid_template_rows": null,
      "height": null,
      "justify_content": null,
      "justify_items": null,
      "left": null,
      "margin": null,
      "max_height": null,
      "max_width": null,
      "min_height": null,
      "min_width": null,
      "object_fit": null,
      "object_position": null,
      "order": null,
      "overflow": null,
      "overflow_x": null,
      "overflow_y": null,
      "padding": null,
      "right": null,
      "top": null,
      "visibility": null,
      "width": null
     }
    },
    "72ac105008a7478598f662e4844b5409": {
     "model_module": "@jupyter-widgets/controls",
     "model_module_version": "1.5.0",
     "model_name": "DescriptionStyleModel",
     "state": {
      "_model_module": "@jupyter-widgets/controls",
      "_model_module_version": "1.5.0",
      "_model_name": "DescriptionStyleModel",
      "_view_count": null,
      "_view_module": "@jupyter-widgets/base",
      "_view_module_version": "1.2.0",
      "_view_name": "StyleView",
      "description_width": ""
     }
    },
    "74d77f257cd44bd699b7a17054b579fa": {
     "model_module": "@jupyter-widgets/controls",
     "model_module_version": "1.5.0",
     "model_name": "DescriptionStyleModel",
     "state": {
      "_model_module": "@jupyter-widgets/controls",
      "_model_module_version": "1.5.0",
      "_model_name": "DescriptionStyleModel",
      "_view_count": null,
      "_view_module": "@jupyter-widgets/base",
      "_view_module_version": "1.2.0",
      "_view_name": "StyleView",
      "description_width": ""
     }
    },
    "82546e2d911e4036b3fe826fed2aa4ee": {
     "model_module": "@jupyter-widgets/base",
     "model_module_version": "1.2.0",
     "model_name": "LayoutModel",
     "state": {
      "_model_module": "@jupyter-widgets/base",
      "_model_module_version": "1.2.0",
      "_model_name": "LayoutModel",
      "_view_count": null,
      "_view_module": "@jupyter-widgets/base",
      "_view_module_version": "1.2.0",
      "_view_name": "LayoutView",
      "align_content": null,
      "align_items": null,
      "align_self": null,
      "border": null,
      "bottom": null,
      "display": null,
      "flex": null,
      "flex_flow": null,
      "grid_area": null,
      "grid_auto_columns": null,
      "grid_auto_flow": null,
      "grid_auto_rows": null,
      "grid_column": null,
      "grid_gap": null,
      "grid_row": null,
      "grid_template_areas": null,
      "grid_template_columns": null,
      "grid_template_rows": null,
      "height": null,
      "justify_content": null,
      "justify_items": null,
      "left": null,
      "margin": null,
      "max_height": null,
      "max_width": null,
      "min_height": null,
      "min_width": null,
      "object_fit": null,
      "object_position": null,
      "order": null,
      "overflow": null,
      "overflow_x": null,
      "overflow_y": null,
      "padding": null,
      "right": null,
      "top": null,
      "visibility": null,
      "width": null
     }
    },
    "82b0acbcd5c9480fb06472e03086a80e": {
     "model_module": "@jupyter-widgets/base",
     "model_module_version": "1.2.0",
     "model_name": "LayoutModel",
     "state": {
      "_model_module": "@jupyter-widgets/base",
      "_model_module_version": "1.2.0",
      "_model_name": "LayoutModel",
      "_view_count": null,
      "_view_module": "@jupyter-widgets/base",
      "_view_module_version": "1.2.0",
      "_view_name": "LayoutView",
      "align_content": null,
      "align_items": null,
      "align_self": null,
      "border": null,
      "bottom": null,
      "display": null,
      "flex": null,
      "flex_flow": null,
      "grid_area": null,
      "grid_auto_columns": null,
      "grid_auto_flow": null,
      "grid_auto_rows": null,
      "grid_column": null,
      "grid_gap": null,
      "grid_row": null,
      "grid_template_areas": null,
      "grid_template_columns": null,
      "grid_template_rows": null,
      "height": null,
      "justify_content": null,
      "justify_items": null,
      "left": null,
      "margin": null,
      "max_height": null,
      "max_width": null,
      "min_height": null,
      "min_width": null,
      "object_fit": null,
      "object_position": null,
      "order": null,
      "overflow": null,
      "overflow_x": null,
      "overflow_y": null,
      "padding": null,
      "right": null,
      "top": null,
      "visibility": null,
      "width": null
     }
    },
    "8869c0a2f8f44e0fa024b4bd05df39be": {
     "model_module": "@jupyter-widgets/base",
     "model_module_version": "1.2.0",
     "model_name": "LayoutModel",
     "state": {
      "_model_module": "@jupyter-widgets/base",
      "_model_module_version": "1.2.0",
      "_model_name": "LayoutModel",
      "_view_count": null,
      "_view_module": "@jupyter-widgets/base",
      "_view_module_version": "1.2.0",
      "_view_name": "LayoutView",
      "align_content": null,
      "align_items": null,
      "align_self": null,
      "border": null,
      "bottom": null,
      "display": null,
      "flex": null,
      "flex_flow": null,
      "grid_area": null,
      "grid_auto_columns": null,
      "grid_auto_flow": null,
      "grid_auto_rows": null,
      "grid_column": null,
      "grid_gap": null,
      "grid_row": null,
      "grid_template_areas": null,
      "grid_template_columns": null,
      "grid_template_rows": null,
      "height": null,
      "justify_content": null,
      "justify_items": null,
      "left": null,
      "margin": null,
      "max_height": null,
      "max_width": null,
      "min_height": null,
      "min_width": null,
      "object_fit": null,
      "object_position": null,
      "order": null,
      "overflow": null,
      "overflow_x": null,
      "overflow_y": null,
      "padding": null,
      "right": null,
      "top": null,
      "visibility": null,
      "width": null
     }
    },
    "886d05b559c740308b197da17ab1f6da": {
     "model_module": "@jupyter-widgets/controls",
     "model_module_version": "1.5.0",
     "model_name": "ProgressStyleModel",
     "state": {
      "_model_module": "@jupyter-widgets/controls",
      "_model_module_version": "1.5.0",
      "_model_name": "ProgressStyleModel",
      "_view_count": null,
      "_view_module": "@jupyter-widgets/base",
      "_view_module_version": "1.2.0",
      "_view_name": "StyleView",
      "bar_color": null,
      "description_width": ""
     }
    },
    "890778e517864b1a9f1ff194b61ded3c": {
     "model_module": "@jupyter-widgets/base",
     "model_module_version": "1.2.0",
     "model_name": "LayoutModel",
     "state": {
      "_model_module": "@jupyter-widgets/base",
      "_model_module_version": "1.2.0",
      "_model_name": "LayoutModel",
      "_view_count": null,
      "_view_module": "@jupyter-widgets/base",
      "_view_module_version": "1.2.0",
      "_view_name": "LayoutView",
      "align_content": null,
      "align_items": null,
      "align_self": null,
      "border": null,
      "bottom": null,
      "display": null,
      "flex": null,
      "flex_flow": null,
      "grid_area": null,
      "grid_auto_columns": null,
      "grid_auto_flow": null,
      "grid_auto_rows": null,
      "grid_column": null,
      "grid_gap": null,
      "grid_row": null,
      "grid_template_areas": null,
      "grid_template_columns": null,
      "grid_template_rows": null,
      "height": null,
      "justify_content": null,
      "justify_items": null,
      "left": null,
      "margin": null,
      "max_height": null,
      "max_width": null,
      "min_height": null,
      "min_width": null,
      "object_fit": null,
      "object_position": null,
      "order": null,
      "overflow": null,
      "overflow_x": null,
      "overflow_y": null,
      "padding": null,
      "right": null,
      "top": null,
      "visibility": null,
      "width": null
     }
    },
    "8ab702c5b8034ce2bbc63b6b76dc4f76": {
     "model_module": "@jupyter-widgets/controls",
     "model_module_version": "1.5.0",
     "model_name": "HTMLModel",
     "state": {
      "_dom_classes": [],
      "_model_module": "@jupyter-widgets/controls",
      "_model_module_version": "1.5.0",
      "_model_name": "HTMLModel",
      "_view_count": null,
      "_view_module": "@jupyter-widgets/controls",
      "_view_module_version": "1.5.0",
      "_view_name": "HTMLView",
      "description": "",
      "description_tooltip": null,
      "layout": "IPY_MODEL_9e161c1f696c4879abe0f7f70c896cba",
      "placeholder": "​",
      "style": "IPY_MODEL_585ae5ceb09d482fb0cfae87adf01169",
      "value": " 184/184 [00:00&lt;00:00, 11.9kB/s]"
     }
    },
    "8fb70e20c641472a9fc1bdbb4f2591a6": {
     "model_module": "@jupyter-widgets/controls",
     "model_module_version": "1.5.0",
     "model_name": "FloatProgressModel",
     "state": {
      "_dom_classes": [],
      "_model_module": "@jupyter-widgets/controls",
      "_model_module_version": "1.5.0",
      "_model_name": "FloatProgressModel",
      "_view_count": null,
      "_view_module": "@jupyter-widgets/controls",
      "_view_module_version": "1.5.0",
      "_view_name": "ProgressView",
      "bar_style": "success",
      "description": "",
      "description_tooltip": null,
      "layout": "IPY_MODEL_40b154582ae946ff87739e259da77111",
      "max": 50570,
      "min": 0,
      "orientation": "horizontal",
      "style": "IPY_MODEL_886d05b559c740308b197da17ab1f6da",
      "value": 50570
     }
    },
    "913c494422474440a66615c5ef0757c6": {
     "model_module": "@jupyter-widgets/base",
     "model_module_version": "1.2.0",
     "model_name": "LayoutModel",
     "state": {
      "_model_module": "@jupyter-widgets/base",
      "_model_module_version": "1.2.0",
      "_model_name": "LayoutModel",
      "_view_count": null,
      "_view_module": "@jupyter-widgets/base",
      "_view_module_version": "1.2.0",
      "_view_name": "LayoutView",
      "align_content": null,
      "align_items": null,
      "align_self": null,
      "border": null,
      "bottom": null,
      "display": null,
      "flex": null,
      "flex_flow": null,
      "grid_area": null,
      "grid_auto_columns": null,
      "grid_auto_flow": null,
      "grid_auto_rows": null,
      "grid_column": null,
      "grid_gap": null,
      "grid_row": null,
      "grid_template_areas": null,
      "grid_template_columns": null,
      "grid_template_rows": null,
      "height": null,
      "justify_content": null,
      "justify_items": null,
      "left": null,
      "margin": null,
      "max_height": null,
      "max_width": null,
      "min_height": null,
      "min_width": null,
      "object_fit": null,
      "object_position": null,
      "order": null,
      "overflow": null,
      "overflow_x": null,
      "overflow_y": null,
      "padding": null,
      "right": null,
      "top": null,
      "visibility": null,
      "width": null
     }
    },
    "928c48023cec4c0287dac7dddba9ff11": {
     "model_module": "@jupyter-widgets/controls",
     "model_module_version": "1.5.0",
     "model_name": "HBoxModel",
     "state": {
      "_dom_classes": [],
      "_model_module": "@jupyter-widgets/controls",
      "_model_module_version": "1.5.0",
      "_model_name": "HBoxModel",
      "_view_count": null,
      "_view_module": "@jupyter-widgets/controls",
      "_view_module_version": "1.5.0",
      "_view_name": "HBoxView",
      "box_style": "",
      "children": [
       "IPY_MODEL_19db803aea87419bae4b569178cd82b7",
       "IPY_MODEL_9537a0b1cd194415916de658b4681896",
       "IPY_MODEL_40ef8f0b161c45989f06d3a2028f02f7"
      ],
      "layout": "IPY_MODEL_8869c0a2f8f44e0fa024b4bd05df39be"
     }
    },
    "9537a0b1cd194415916de658b4681896": {
     "model_module": "@jupyter-widgets/controls",
     "model_module_version": "1.5.0",
     "model_name": "FloatProgressModel",
     "state": {
      "_dom_classes": [],
      "_model_module": "@jupyter-widgets/controls",
      "_model_module_version": "1.5.0",
      "_model_name": "FloatProgressModel",
      "_view_count": null,
      "_view_module": "@jupyter-widgets/controls",
      "_view_module_version": "1.5.0",
      "_view_name": "ProgressView",
      "bar_style": "success",
      "description": "",
      "description_tooltip": null,
      "layout": "IPY_MODEL_a03c02eedb5e4c9eb1a2f9ade128e1da",
      "max": 9085657,
      "min": 0,
      "orientation": "horizontal",
      "style": "IPY_MODEL_efc584c08bba40cdbfb4aa0a4fe7837c",
      "value": 9085657
     }
    },
    "9e161c1f696c4879abe0f7f70c896cba": {
     "model_module": "@jupyter-widgets/base",
     "model_module_version": "1.2.0",
     "model_name": "LayoutModel",
     "state": {
      "_model_module": "@jupyter-widgets/base",
      "_model_module_version": "1.2.0",
      "_model_name": "LayoutModel",
      "_view_count": null,
      "_view_module": "@jupyter-widgets/base",
      "_view_module_version": "1.2.0",
      "_view_name": "LayoutView",
      "align_content": null,
      "align_items": null,
      "align_self": null,
      "border": null,
      "bottom": null,
      "display": null,
      "flex": null,
      "flex_flow": null,
      "grid_area": null,
      "grid_auto_columns": null,
      "grid_auto_flow": null,
      "grid_auto_rows": null,
      "grid_column": null,
      "grid_gap": null,
      "grid_row": null,
      "grid_template_areas": null,
      "grid_template_columns": null,
      "grid_template_rows": null,
      "height": null,
      "justify_content": null,
      "justify_items": null,
      "left": null,
      "margin": null,
      "max_height": null,
      "max_width": null,
      "min_height": null,
      "min_width": null,
      "object_fit": null,
      "object_position": null,
      "order": null,
      "overflow": null,
      "overflow_x": null,
      "overflow_y": null,
      "padding": null,
      "right": null,
      "top": null,
      "visibility": null,
      "width": null
     }
    },
    "9e7164ba99fc4482b9c157a87c5698ad": {
     "model_module": "@jupyter-widgets/base",
     "model_module_version": "1.2.0",
     "model_name": "LayoutModel",
     "state": {
      "_model_module": "@jupyter-widgets/base",
      "_model_module_version": "1.2.0",
      "_model_name": "LayoutModel",
      "_view_count": null,
      "_view_module": "@jupyter-widgets/base",
      "_view_module_version": "1.2.0",
      "_view_name": "LayoutView",
      "align_content": null,
      "align_items": null,
      "align_self": null,
      "border": null,
      "bottom": null,
      "display": null,
      "flex": null,
      "flex_flow": null,
      "grid_area": null,
      "grid_auto_columns": null,
      "grid_auto_flow": null,
      "grid_auto_rows": null,
      "grid_column": null,
      "grid_gap": null,
      "grid_row": null,
      "grid_template_areas": null,
      "grid_template_columns": null,
      "grid_template_rows": null,
      "height": null,
      "justify_content": null,
      "justify_items": null,
      "left": null,
      "margin": null,
      "max_height": null,
      "max_width": null,
      "min_height": null,
      "min_width": null,
      "object_fit": null,
      "object_position": null,
      "order": null,
      "overflow": null,
      "overflow_x": null,
      "overflow_y": null,
      "padding": null,
      "right": null,
      "top": null,
      "visibility": null,
      "width": null
     }
    },
    "a03c02eedb5e4c9eb1a2f9ade128e1da": {
     "model_module": "@jupyter-widgets/base",
     "model_module_version": "1.2.0",
     "model_name": "LayoutModel",
     "state": {
      "_model_module": "@jupyter-widgets/base",
      "_model_module_version": "1.2.0",
      "_model_name": "LayoutModel",
      "_view_count": null,
      "_view_module": "@jupyter-widgets/base",
      "_view_module_version": "1.2.0",
      "_view_name": "LayoutView",
      "align_content": null,
      "align_items": null,
      "align_self": null,
      "border": null,
      "bottom": null,
      "display": null,
      "flex": null,
      "flex_flow": null,
      "grid_area": null,
      "grid_auto_columns": null,
      "grid_auto_flow": null,
      "grid_auto_rows": null,
      "grid_column": null,
      "grid_gap": null,
      "grid_row": null,
      "grid_template_areas": null,
      "grid_template_columns": null,
      "grid_template_rows": null,
      "height": null,
      "justify_content": null,
      "justify_items": null,
      "left": null,
      "margin": null,
      "max_height": null,
      "max_width": null,
      "min_height": null,
      "min_width": null,
      "object_fit": null,
      "object_position": null,
      "order": null,
      "overflow": null,
      "overflow_x": null,
      "overflow_y": null,
      "padding": null,
      "right": null,
      "top": null,
      "visibility": null,
      "width": null
     }
    },
    "a211ef81dcd148e2a19bee9262caefd5": {
     "model_module": "@jupyter-widgets/controls",
     "model_module_version": "1.5.0",
     "model_name": "HTMLModel",
     "state": {
      "_dom_classes": [],
      "_model_module": "@jupyter-widgets/controls",
      "_model_module_version": "1.5.0",
      "_model_name": "HTMLModel",
      "_view_count": null,
      "_view_module": "@jupyter-widgets/controls",
      "_view_module_version": "1.5.0",
      "_view_name": "HTMLView",
      "description": "",
      "description_tooltip": null,
      "layout": "IPY_MODEL_890778e517864b1a9f1ff194b61ded3c",
      "placeholder": "​",
      "style": "IPY_MODEL_103a7e47c6ca40b98f15d4991353b7d3",
      "value": "tokenizer_config.json: 100%"
     }
    },
    "ab4ca282a0344b9d9d243ed02134635c": {
     "model_module": "@jupyter-widgets/controls",
     "model_module_version": "1.5.0",
     "model_name": "HTMLModel",
     "state": {
      "_dom_classes": [],
      "_model_module": "@jupyter-widgets/controls",
      "_model_module_version": "1.5.0",
      "_model_name": "HTMLModel",
      "_view_count": null,
      "_view_module": "@jupyter-widgets/controls",
      "_view_module_version": "1.5.0",
      "_view_name": "HTMLView",
      "description": "",
      "description_tooltip": null,
      "layout": "IPY_MODEL_f76690d5ec7047cabe28164d6b9f4bc1",
      "placeholder": "​",
      "style": "IPY_MODEL_e846876b36b3448a87873f17e163112f",
      "value": " 459/459 [00:00&lt;00:00, 29.2kB/s]"
     }
    },
    "b2b6ae6ef3d1446899738f81c4691c8c": {
     "model_module": "@jupyter-widgets/controls",
     "model_module_version": "1.5.0",
     "model_name": "DescriptionStyleModel",
     "state": {
      "_model_module": "@jupyter-widgets/controls",
      "_model_module_version": "1.5.0",
      "_model_name": "DescriptionStyleModel",
      "_view_count": null,
      "_view_module": "@jupyter-widgets/base",
      "_view_module_version": "1.2.0",
      "_view_name": "StyleView",
      "description_width": ""
     }
    },
    "b33c112272294a30ac70e26cffe41cb7": {
     "model_module": "@jupyter-widgets/controls",
     "model_module_version": "1.5.0",
     "model_name": "HBoxModel",
     "state": {
      "_dom_classes": [],
      "_model_module": "@jupyter-widgets/controls",
      "_model_module_version": "1.5.0",
      "_model_name": "HBoxModel",
      "_view_count": null,
      "_view_module": "@jupyter-widgets/controls",
      "_view_module_version": "1.5.0",
      "_view_name": "HBoxView",
      "box_style": "",
      "children": [
       "IPY_MODEL_fe06b8b62abb4498a0ba3f1636436673",
       "IPY_MODEL_e2c56f5a960d4769bb533a5f32d1ad93",
       "IPY_MODEL_8ab702c5b8034ce2bbc63b6b76dc4f76"
      ],
      "layout": "IPY_MODEL_fef743353122430098f8cba68f0e936a"
     }
    },
    "b74d10c8bc7143c59b2eb358f8d58ac9": {
     "model_module": "@jupyter-widgets/controls",
     "model_module_version": "1.5.0",
     "model_name": "HTMLModel",
     "state": {
      "_dom_classes": [],
      "_model_module": "@jupyter-widgets/controls",
      "_model_module_version": "1.5.0",
      "_model_name": "HTMLModel",
      "_view_count": null,
      "_view_module": "@jupyter-widgets/controls",
      "_view_module_version": "1.5.0",
      "_view_name": "HTMLView",
      "description": "",
      "description_tooltip": null,
      "layout": "IPY_MODEL_47f566b8a6ba4ac7bab624aab7445df5",
      "placeholder": "​",
      "style": "IPY_MODEL_ec0972647ae34d1bab21be1c6564cc10",
      "value": " 5.70G/5.70G [00:31&lt;00:00, 211MB/s]"
     }
    },
    "b8347d22d61b4703a2870e153fe54371": {
     "model_module": "@jupyter-widgets/base",
     "model_module_version": "1.2.0",
     "model_name": "LayoutModel",
     "state": {
      "_model_module": "@jupyter-widgets/base",
      "_model_module_version": "1.2.0",
      "_model_name": "LayoutModel",
      "_view_count": null,
      "_view_module": "@jupyter-widgets/base",
      "_view_module_version": "1.2.0",
      "_view_name": "LayoutView",
      "align_content": null,
      "align_items": null,
      "align_self": null,
      "border": null,
      "bottom": null,
      "display": null,
      "flex": null,
      "flex_flow": null,
      "grid_area": null,
      "grid_auto_columns": null,
      "grid_auto_flow": null,
      "grid_auto_rows": null,
      "grid_column": null,
      "grid_gap": null,
      "grid_row": null,
      "grid_template_areas": null,
      "grid_template_columns": null,
      "grid_template_rows": null,
      "height": null,
      "justify_content": null,
      "justify_items": null,
      "left": null,
      "margin": null,
      "max_height": null,
      "max_width": null,
      "min_height": null,
      "min_width": null,
      "object_fit": null,
      "object_position": null,
      "order": null,
      "overflow": null,
      "overflow_x": null,
      "overflow_y": null,
      "padding": null,
      "right": null,
      "top": null,
      "visibility": null,
      "width": null
     }
    },
    "b8e7c36ac4b9434282ebccffad2c93cb": {
     "model_module": "@jupyter-widgets/controls",
     "model_module_version": "1.5.0",
     "model_name": "DescriptionStyleModel",
     "state": {
      "_model_module": "@jupyter-widgets/controls",
      "_model_module_version": "1.5.0",
      "_model_name": "DescriptionStyleModel",
      "_view_count": null,
      "_view_module": "@jupyter-widgets/base",
      "_view_module_version": "1.2.0",
      "_view_name": "StyleView",
      "description_width": ""
     }
    },
    "c4d44e8ca1a543aea0ef12464e3078cf": {
     "model_module": "@jupyter-widgets/controls",
     "model_module_version": "1.5.0",
     "model_name": "HTMLModel",
     "state": {
      "_dom_classes": [],
      "_model_module": "@jupyter-widgets/controls",
      "_model_module_version": "1.5.0",
      "_model_name": "HTMLModel",
      "_view_count": null,
      "_view_module": "@jupyter-widgets/controls",
      "_view_module_version": "1.5.0",
      "_view_name": "HTMLView",
      "description": "",
      "description_tooltip": null,
      "layout": "IPY_MODEL_9e7164ba99fc4482b9c157a87c5698ad",
      "placeholder": "​",
      "style": "IPY_MODEL_08df62e5f54b4d36aa255a2ff799a590",
      "value": " 1340/1340 [00:00&lt;00:00, 1895.46 examples/s]"
     }
    },
    "cd8e505d02b6484397a21fc49cd2be15": {
     "model_module": "@jupyter-widgets/controls",
     "model_module_version": "1.5.0",
     "model_name": "HTMLModel",
     "state": {
      "_dom_classes": [],
      "_model_module": "@jupyter-widgets/controls",
      "_model_module_version": "1.5.0",
      "_model_name": "HTMLModel",
      "_view_count": null,
      "_view_module": "@jupyter-widgets/controls",
      "_view_module_version": "1.5.0",
      "_view_name": "HTMLView",
      "description": "",
      "description_tooltip": null,
      "layout": "IPY_MODEL_d799f24551744c6c85a05eb9b2330caf",
      "placeholder": "​",
      "style": "IPY_MODEL_0b35ee66046c4e4eaed1884e939c842c",
      "value": " 50.6k/50.6k [00:00&lt;00:00, 232kB/s]"
     }
    },
    "d799f24551744c6c85a05eb9b2330caf": {
     "model_module": "@jupyter-widgets/base",
     "model_module_version": "1.2.0",
     "model_name": "LayoutModel",
     "state": {
      "_model_module": "@jupyter-widgets/base",
      "_model_module_version": "1.2.0",
      "_model_name": "LayoutModel",
      "_view_count": null,
      "_view_module": "@jupyter-widgets/base",
      "_view_module_version": "1.2.0",
      "_view_name": "LayoutView",
      "align_content": null,
      "align_items": null,
      "align_self": null,
      "border": null,
      "bottom": null,
      "display": null,
      "flex": null,
      "flex_flow": null,
      "grid_area": null,
      "grid_auto_columns": null,
      "grid_auto_flow": null,
      "grid_auto_rows": null,
      "grid_column": null,
      "grid_gap": null,
      "grid_row": null,
      "grid_template_areas": null,
      "grid_template_columns": null,
      "grid_template_rows": null,
      "height": null,
      "justify_content": null,
      "justify_items": null,
      "left": null,
      "margin": null,
      "max_height": null,
      "max_width": null,
      "min_height": null,
      "min_width": null,
      "object_fit": null,
      "object_position": null,
      "order": null,
      "overflow": null,
      "overflow_x": null,
      "overflow_y": null,
      "padding": null,
      "right": null,
      "top": null,
      "visibility": null,
      "width": null
     }
    },
    "da7c9efd5b8440a899e877713631c071": {
     "model_module": "@jupyter-widgets/controls",
     "model_module_version": "1.5.0",
     "model_name": "HTMLModel",
     "state": {
      "_dom_classes": [],
      "_model_module": "@jupyter-widgets/controls",
      "_model_module_version": "1.5.0",
      "_model_name": "HTMLModel",
      "_view_count": null,
      "_view_module": "@jupyter-widgets/controls",
      "_view_module_version": "1.5.0",
      "_view_name": "HTMLView",
      "description": "",
      "description_tooltip": null,
      "layout": "IPY_MODEL_b8347d22d61b4703a2870e153fe54371",
      "placeholder": "​",
      "style": "IPY_MODEL_514174f825f84904a153c364e14a3151",
      "value": "model.safetensors: 100%"
     }
    },
    "e0365ee7d2ad4b9d9c891291a7be66e0": {
     "model_module": "@jupyter-widgets/controls",
     "model_module_version": "1.5.0",
     "model_name": "ProgressStyleModel",
     "state": {
      "_model_module": "@jupyter-widgets/controls",
      "_model_module_version": "1.5.0",
      "_model_name": "ProgressStyleModel",
      "_view_count": null,
      "_view_module": "@jupyter-widgets/base",
      "_view_module_version": "1.2.0",
      "_view_name": "StyleView",
      "bar_color": null,
      "description_width": ""
     }
    },
    "e1bcfc64cdb1447f9cbe0e38376c07b7": {
     "model_module": "@jupyter-widgets/controls",
     "model_module_version": "1.5.0",
     "model_name": "ProgressStyleModel",
     "state": {
      "_model_module": "@jupyter-widgets/controls",
      "_model_module_version": "1.5.0",
      "_model_name": "ProgressStyleModel",
      "_view_count": null,
      "_view_module": "@jupyter-widgets/base",
      "_view_module_version": "1.2.0",
      "_view_name": "StyleView",
      "bar_color": null,
      "description_width": ""
     }
    },
    "e2c56f5a960d4769bb533a5f32d1ad93": {
     "model_module": "@jupyter-widgets/controls",
     "model_module_version": "1.5.0",
     "model_name": "FloatProgressModel",
     "state": {
      "_dom_classes": [],
      "_model_module": "@jupyter-widgets/controls",
      "_model_module_version": "1.5.0",
      "_model_name": "FloatProgressModel",
      "_view_count": null,
      "_view_module": "@jupyter-widgets/controls",
      "_view_module_version": "1.5.0",
      "_view_name": "ProgressView",
      "bar_style": "success",
      "description": "",
      "description_tooltip": null,
      "layout": "IPY_MODEL_2a3c05a25f754573bf5209e2ff31b7a3",
      "max": 184,
      "min": 0,
      "orientation": "horizontal",
      "style": "IPY_MODEL_e1bcfc64cdb1447f9cbe0e38376c07b7",
      "value": 184
     }
    },
    "e846876b36b3448a87873f17e163112f": {
     "model_module": "@jupyter-widgets/controls",
     "model_module_version": "1.5.0",
     "model_name": "DescriptionStyleModel",
     "state": {
      "_model_module": "@jupyter-widgets/controls",
      "_model_module_version": "1.5.0",
      "_model_name": "DescriptionStyleModel",
      "_view_count": null,
      "_view_module": "@jupyter-widgets/base",
      "_view_module_version": "1.2.0",
      "_view_name": "StyleView",
      "description_width": ""
     }
    },
    "ec0972647ae34d1bab21be1c6564cc10": {
     "model_module": "@jupyter-widgets/controls",
     "model_module_version": "1.5.0",
     "model_name": "DescriptionStyleModel",
     "state": {
      "_model_module": "@jupyter-widgets/controls",
      "_model_module_version": "1.5.0",
      "_model_name": "DescriptionStyleModel",
      "_view_count": null,
      "_view_module": "@jupyter-widgets/base",
      "_view_module_version": "1.2.0",
      "_view_name": "StyleView",
      "description_width": ""
     }
    },
    "eca0ce492d1c4102bcf037540fd2c1fe": {
     "model_module": "@jupyter-widgets/base",
     "model_module_version": "1.2.0",
     "model_name": "LayoutModel",
     "state": {
      "_model_module": "@jupyter-widgets/base",
      "_model_module_version": "1.2.0",
      "_model_name": "LayoutModel",
      "_view_count": null,
      "_view_module": "@jupyter-widgets/base",
      "_view_module_version": "1.2.0",
      "_view_name": "LayoutView",
      "align_content": null,
      "align_items": null,
      "align_self": null,
      "border": null,
      "bottom": null,
      "display": null,
      "flex": null,
      "flex_flow": null,
      "grid_area": null,
      "grid_auto_columns": null,
      "grid_auto_flow": null,
      "grid_auto_rows": null,
      "grid_column": null,
      "grid_gap": null,
      "grid_row": null,
      "grid_template_areas": null,
      "grid_template_columns": null,
      "grid_template_rows": null,
      "height": null,
      "justify_content": null,
      "justify_items": null,
      "left": null,
      "margin": null,
      "max_height": null,
      "max_width": null,
      "min_height": null,
      "min_width": null,
      "object_fit": null,
      "object_position": null,
      "order": null,
      "overflow": null,
      "overflow_x": null,
      "overflow_y": null,
      "padding": null,
      "right": null,
      "top": null,
      "visibility": null,
      "width": null
     }
    },
    "efc584c08bba40cdbfb4aa0a4fe7837c": {
     "model_module": "@jupyter-widgets/controls",
     "model_module_version": "1.5.0",
     "model_name": "ProgressStyleModel",
     "state": {
      "_model_module": "@jupyter-widgets/controls",
      "_model_module_version": "1.5.0",
      "_model_name": "ProgressStyleModel",
      "_view_count": null,
      "_view_module": "@jupyter-widgets/base",
      "_view_module_version": "1.2.0",
      "_view_name": "StyleView",
      "bar_color": null,
      "description_width": ""
     }
    },
    "f0667340ae2e4e5eb241a041d2a3d792": {
     "model_module": "@jupyter-widgets/base",
     "model_module_version": "1.2.0",
     "model_name": "LayoutModel",
     "state": {
      "_model_module": "@jupyter-widgets/base",
      "_model_module_version": "1.2.0",
      "_model_name": "LayoutModel",
      "_view_count": null,
      "_view_module": "@jupyter-widgets/base",
      "_view_module_version": "1.2.0",
      "_view_name": "LayoutView",
      "align_content": null,
      "align_items": null,
      "align_self": null,
      "border": null,
      "bottom": null,
      "display": null,
      "flex": null,
      "flex_flow": null,
      "grid_area": null,
      "grid_auto_columns": null,
      "grid_auto_flow": null,
      "grid_auto_rows": null,
      "grid_column": null,
      "grid_gap": null,
      "grid_row": null,
      "grid_template_areas": null,
      "grid_template_columns": null,
      "grid_template_rows": null,
      "height": null,
      "justify_content": null,
      "justify_items": null,
      "left": null,
      "margin": null,
      "max_height": null,
      "max_width": null,
      "min_height": null,
      "min_width": null,
      "object_fit": null,
      "object_position": null,
      "order": null,
      "overflow": null,
      "overflow_x": null,
      "overflow_y": null,
      "padding": null,
      "right": null,
      "top": null,
      "visibility": null,
      "width": null
     }
    },
    "f6bb08371e9948a9b7b90a02c9da701d": {
     "model_module": "@jupyter-widgets/controls",
     "model_module_version": "1.5.0",
     "model_name": "FloatProgressModel",
     "state": {
      "_dom_classes": [],
      "_model_module": "@jupyter-widgets/controls",
      "_model_module_version": "1.5.0",
      "_model_name": "FloatProgressModel",
      "_view_count": null,
      "_view_module": "@jupyter-widgets/controls",
      "_view_module_version": "1.5.0",
      "_view_name": "ProgressView",
      "bar_style": "success",
      "description": "",
      "description_tooltip": null,
      "layout": "IPY_MODEL_913c494422474440a66615c5ef0757c6",
      "max": 1340,
      "min": 0,
      "orientation": "horizontal",
      "style": "IPY_MODEL_e0365ee7d2ad4b9d9c891291a7be66e0",
      "value": 1340
     }
    },
    "f763d13d74db43069a22109984119d57": {
     "model_module": "@jupyter-widgets/base",
     "model_module_version": "1.2.0",
     "model_name": "LayoutModel",
     "state": {
      "_model_module": "@jupyter-widgets/base",
      "_model_module_version": "1.2.0",
      "_model_name": "LayoutModel",
      "_view_count": null,
      "_view_module": "@jupyter-widgets/base",
      "_view_module_version": "1.2.0",
      "_view_name": "LayoutView",
      "align_content": null,
      "align_items": null,
      "align_self": null,
      "border": null,
      "bottom": null,
      "display": null,
      "flex": null,
      "flex_flow": null,
      "grid_area": null,
      "grid_auto_columns": null,
      "grid_auto_flow": null,
      "grid_auto_rows": null,
      "grid_column": null,
      "grid_gap": null,
      "grid_row": null,
      "grid_template_areas": null,
      "grid_template_columns": null,
      "grid_template_rows": null,
      "height": null,
      "justify_content": null,
      "justify_items": null,
      "left": null,
      "margin": null,
      "max_height": null,
      "max_width": null,
      "min_height": null,
      "min_width": null,
      "object_fit": null,
      "object_position": null,
      "order": null,
      "overflow": null,
      "overflow_x": null,
      "overflow_y": null,
      "padding": null,
      "right": null,
      "top": null,
      "visibility": null,
      "width": null
     }
    },
    "f76690d5ec7047cabe28164d6b9f4bc1": {
     "model_module": "@jupyter-widgets/base",
     "model_module_version": "1.2.0",
     "model_name": "LayoutModel",
     "state": {
      "_model_module": "@jupyter-widgets/base",
      "_model_module_version": "1.2.0",
      "_model_name": "LayoutModel",
      "_view_count": null,
      "_view_module": "@jupyter-widgets/base",
      "_view_module_version": "1.2.0",
      "_view_name": "LayoutView",
      "align_content": null,
      "align_items": null,
      "align_self": null,
      "border": null,
      "bottom": null,
      "display": null,
      "flex": null,
      "flex_flow": null,
      "grid_area": null,
      "grid_auto_columns": null,
      "grid_auto_flow": null,
      "grid_auto_rows": null,
      "grid_column": null,
      "grid_gap": null,
      "grid_row": null,
      "grid_template_areas": null,
      "grid_template_columns": null,
      "grid_template_rows": null,
      "height": null,
      "justify_content": null,
      "justify_items": null,
      "left": null,
      "margin": null,
      "max_height": null,
      "max_width": null,
      "min_height": null,
      "min_width": null,
      "object_fit": null,
      "object_position": null,
      "order": null,
      "overflow": null,
      "overflow_x": null,
      "overflow_y": null,
      "padding": null,
      "right": null,
      "top": null,
      "visibility": null,
      "width": null
     }
    },
    "f851a0f807a948d787a3491623e2a85f": {
     "model_module": "@jupyter-widgets/controls",
     "model_module_version": "1.5.0",
     "model_name": "HTMLModel",
     "state": {
      "_dom_classes": [],
      "_model_module": "@jupyter-widgets/controls",
      "_model_module_version": "1.5.0",
      "_model_name": "HTMLModel",
      "_view_count": null,
      "_view_module": "@jupyter-widgets/controls",
      "_view_module_version": "1.5.0",
      "_view_name": "HTMLView",
      "description": "",
      "description_tooltip": null,
      "layout": "IPY_MODEL_3ca1c7250017425b9d608c24726fc558",
      "placeholder": "​",
      "style": "IPY_MODEL_72ac105008a7478598f662e4844b5409",
      "value": "special_tokens_map.json: 100%"
     }
    },
    "fe06b8b62abb4498a0ba3f1636436673": {
     "model_module": "@jupyter-widgets/controls",
     "model_module_version": "1.5.0",
     "model_name": "HTMLModel",
     "state": {
      "_dom_classes": [],
      "_model_module": "@jupyter-widgets/controls",
      "_model_module_version": "1.5.0",
      "_model_name": "HTMLModel",
      "_view_count": null,
      "_view_module": "@jupyter-widgets/controls",
      "_view_module_version": "1.5.0",
      "_view_name": "HTMLView",
      "description": "",
      "description_tooltip": null,
      "layout": "IPY_MODEL_82546e2d911e4036b3fe826fed2aa4ee",
      "placeholder": "​",
      "style": "IPY_MODEL_74d77f257cd44bd699b7a17054b579fa",
      "value": "generation_config.json: 100%"
     }
    },
    "fef743353122430098f8cba68f0e936a": {
     "model_module": "@jupyter-widgets/base",
     "model_module_version": "1.2.0",
     "model_name": "LayoutModel",
     "state": {
      "_model_module": "@jupyter-widgets/base",
      "_model_module_version": "1.2.0",
      "_model_name": "LayoutModel",
      "_view_count": null,
      "_view_module": "@jupyter-widgets/base",
      "_view_module_version": "1.2.0",
      "_view_name": "LayoutView",
      "align_content": null,
      "align_items": null,
      "align_self": null,
      "border": null,
      "bottom": null,
      "display": null,
      "flex": null,
      "flex_flow": null,
      "grid_area": null,
      "grid_auto_columns": null,
      "grid_auto_flow": null,
      "grid_auto_rows": null,
      "grid_column": null,
      "grid_gap": null,
      "grid_row": null,
      "grid_template_areas": null,
      "grid_template_columns": null,
      "grid_template_rows": null,
      "height": null,
      "justify_content": null,
      "justify_items": null,
      "left": null,
      "margin": null,
      "max_height": null,
      "max_width": null,
      "min_height": null,
      "min_width": null,
      "object_fit": null,
      "object_position": null,
      "order": null,
      "overflow": null,
      "overflow_x": null,
      "overflow_y": null,
      "padding": null,
      "right": null,
      "top": null,
      "visibility": null,
      "width": null
     }
    }
   }
  }
 },
 "nbformat": 4,
 "nbformat_minor": 4
}
