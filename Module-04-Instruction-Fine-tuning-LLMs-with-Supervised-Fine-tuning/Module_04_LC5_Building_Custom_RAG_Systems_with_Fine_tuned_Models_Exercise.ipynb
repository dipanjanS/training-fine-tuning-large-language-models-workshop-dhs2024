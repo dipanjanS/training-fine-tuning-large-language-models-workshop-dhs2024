{
 "cells": [
  {
   "cell_type": "markdown",
   "metadata": {},
   "source": [
    "# Build End-to-End RAG System using Fine-tuned Models\n",
    "\n",
    "Here we will build a simple RAG pipeline which will use:\n",
    "\n",
    "- Custom Fine-tuned Embedder\n",
    "- Custom Fine-tuned Llama 3 LLM\n",
    "\n"
   ]
  },
  {
   "cell_type": "markdown",
   "metadata": {},
   "source": [
    "## Load RAG Dataset"
   ]
  },
  {
   "cell_type": "code",
   "execution_count": 1,
   "metadata": {
    "colab": {
     "base_uri": "https://localhost:8080/"
    },
    "id": "M2TelFVo_7k5",
    "outputId": "082ea2d2-9892-4145-f1c9-c3d317211efd"
   },
   "outputs": [],
   "source": [
    "from datasets import load_dataset\n",
    "\n",
    "dataset = load_dataset(\"dipanjanS/india_rag_wikidata\", split=\"train\")"
   ]
  },
  {
   "cell_type": "code",
   "execution_count": 2,
   "metadata": {
    "colab": {
     "base_uri": "https://localhost:8080/",
     "height": 537
    },
    "id": "v_InJzYgAFg9",
    "outputId": "76751ece-5aed-4281-d285-e302d51b8f31"
   },
   "outputs": [
    {
     "data": {
      "text/html": [
       "<div>\n",
       "<style scoped>\n",
       "    .dataframe tbody tr th:only-of-type {\n",
       "        vertical-align: middle;\n",
       "    }\n",
       "\n",
       "    .dataframe tbody tr th {\n",
       "        vertical-align: top;\n",
       "    }\n",
       "\n",
       "    .dataframe thead th {\n",
       "        text-align: right;\n",
       "    }\n",
       "</style>\n",
       "<table border=\"1\" class=\"dataframe\">\n",
       "  <thead>\n",
       "    <tr style=\"text-align: right;\">\n",
       "      <th></th>\n",
       "      <th>article_id</th>\n",
       "      <th>context</th>\n",
       "      <th>question</th>\n",
       "      <th>answer</th>\n",
       "    </tr>\n",
       "  </thead>\n",
       "  <tbody>\n",
       "    <tr>\n",
       "      <th>0</th>\n",
       "      <td>73985</td>\n",
       "      <td>Basil (\"Ocimum basilicum\") ( or ) is a plant o...</td>\n",
       "      <td>What is Basil commonly known as?</td>\n",
       "      <td>Dear Friend, Basil is commonly known as Sweet ...</td>\n",
       "    </tr>\n",
       "    <tr>\n",
       "      <th>1</th>\n",
       "      <td>73985</td>\n",
       "      <td>Basil (\"Ocimum basilicum\") ( or ) is a plant o...</td>\n",
       "      <td>Where is Basil originally native to?</td>\n",
       "      <td>Dear Friend, Basil is originally native to Ind...</td>\n",
       "    </tr>\n",
       "    <tr>\n",
       "      <th>2</th>\n",
       "      <td>259745</td>\n",
       "      <td>The Roerich Pact is a treaty on Protection of ...</td>\n",
       "      <td>What is the significance of the Roerich Pact?</td>\n",
       "      <td>Dear Friend, the Roerich Pact is significant b...</td>\n",
       "    </tr>\n",
       "    <tr>\n",
       "      <th>3</th>\n",
       "      <td>259745</td>\n",
       "      <td>The Roerich Pact is a treaty on Protection of ...</td>\n",
       "      <td>When was the Roerich Pact signed?</td>\n",
       "      <td>Dear Friend, the Roerich Pact was signed on 15...</td>\n",
       "    </tr>\n",
       "    <tr>\n",
       "      <th>4</th>\n",
       "      <td>207506</td>\n",
       "      <td>The Indian Air Force is the air arm of the Ind...</td>\n",
       "      <td>What is the history of the Indian Air Force?</td>\n",
       "      <td>Dear Friend, the Indian Air Force was founded ...</td>\n",
       "    </tr>\n",
       "    <tr>\n",
       "      <th>5</th>\n",
       "      <td>207506</td>\n",
       "      <td>The Indian Air Force is the air arm of the Ind...</td>\n",
       "      <td>What role does the Indian Air Force play?</td>\n",
       "      <td>Dear Friend, the Indian Air Force serves as th...</td>\n",
       "    </tr>\n",
       "    <tr>\n",
       "      <th>6</th>\n",
       "      <td>4954</td>\n",
       "      <td>Prem Pal Singh Rawat (in India called Maharaji...</td>\n",
       "      <td>Who is Prem Pal Singh Rawat?</td>\n",
       "      <td>Dear Friend, Prem Pal Singh Rawat, also known ...</td>\n",
       "    </tr>\n",
       "    <tr>\n",
       "      <th>7</th>\n",
       "      <td>4954</td>\n",
       "      <td>Prem Pal Singh Rawat (in India called Maharaji...</td>\n",
       "      <td>What organizations has Prem Pal Singh Rawat be...</td>\n",
       "      <td>Dear Friend, Prem Pal Singh Rawat has been ass...</td>\n",
       "    </tr>\n",
       "    <tr>\n",
       "      <th>8</th>\n",
       "      <td>5113</td>\n",
       "      <td>Chennai (formerly known as Madras) is the capi...</td>\n",
       "      <td>What is significant about Chennai's history?</td>\n",
       "      <td>Dear Friend, Chennai, formerly known as Madras...</td>\n",
       "    </tr>\n",
       "    <tr>\n",
       "      <th>9</th>\n",
       "      <td>5113</td>\n",
       "      <td>Chennai (formerly known as Madras) is the capi...</td>\n",
       "      <td>Where is Chennai located?</td>\n",
       "      <td>Dear Friend, Chennai is located on the Coroman...</td>\n",
       "    </tr>\n",
       "  </tbody>\n",
       "</table>\n",
       "</div>"
      ],
      "text/plain": [
       "   article_id                                            context  \\\n",
       "0       73985  Basil (\"Ocimum basilicum\") ( or ) is a plant o...   \n",
       "1       73985  Basil (\"Ocimum basilicum\") ( or ) is a plant o...   \n",
       "2      259745  The Roerich Pact is a treaty on Protection of ...   \n",
       "3      259745  The Roerich Pact is a treaty on Protection of ...   \n",
       "4      207506  The Indian Air Force is the air arm of the Ind...   \n",
       "5      207506  The Indian Air Force is the air arm of the Ind...   \n",
       "6        4954  Prem Pal Singh Rawat (in India called Maharaji...   \n",
       "7        4954  Prem Pal Singh Rawat (in India called Maharaji...   \n",
       "8        5113  Chennai (formerly known as Madras) is the capi...   \n",
       "9        5113  Chennai (formerly known as Madras) is the capi...   \n",
       "\n",
       "                                            question  \\\n",
       "0                   What is Basil commonly known as?   \n",
       "1               Where is Basil originally native to?   \n",
       "2      What is the significance of the Roerich Pact?   \n",
       "3                  When was the Roerich Pact signed?   \n",
       "4       What is the history of the Indian Air Force?   \n",
       "5          What role does the Indian Air Force play?   \n",
       "6                       Who is Prem Pal Singh Rawat?   \n",
       "7  What organizations has Prem Pal Singh Rawat be...   \n",
       "8       What is significant about Chennai's history?   \n",
       "9                          Where is Chennai located?   \n",
       "\n",
       "                                              answer  \n",
       "0  Dear Friend, Basil is commonly known as Sweet ...  \n",
       "1  Dear Friend, Basil is originally native to Ind...  \n",
       "2  Dear Friend, the Roerich Pact is significant b...  \n",
       "3  Dear Friend, the Roerich Pact was signed on 15...  \n",
       "4  Dear Friend, the Indian Air Force was founded ...  \n",
       "5  Dear Friend, the Indian Air Force serves as th...  \n",
       "6  Dear Friend, Prem Pal Singh Rawat, also known ...  \n",
       "7  Dear Friend, Prem Pal Singh Rawat has been ass...  \n",
       "8  Dear Friend, Chennai, formerly known as Madras...  \n",
       "9  Dear Friend, Chennai is located on the Coroman...  "
      ]
     },
     "execution_count": 2,
     "metadata": {},
     "output_type": "execute_result"
    }
   ],
   "source": [
    "df = dataset.to_pandas()\n",
    "df.head(10)"
   ]
  },
  {
   "cell_type": "markdown",
   "metadata": {},
   "source": [
    "## Get Context Document Corpus"
   ]
  },
  {
   "cell_type": "code",
   "execution_count": 3,
   "metadata": {
    "colab": {
     "base_uri": "https://localhost:8080/"
    },
    "id": "7HeKefxzAINf",
    "outputId": "eb241c3c-c467-410b-e308-79aa7e4a341e"
   },
   "outputs": [
    {
     "data": {
      "text/plain": [
       "669"
      ]
     },
     "execution_count": 3,
     "metadata": {},
     "output_type": "execute_result"
    }
   ],
   "source": [
    "context_corpus = df['context'].drop_duplicates().tolist()\n",
    "len(context_corpus)"
   ]
  },
  {
   "cell_type": "code",
   "execution_count": 4,
   "metadata": {
    "colab": {
     "base_uri": "https://localhost:8080/"
    },
    "id": "QlEo98ItAJxg",
    "outputId": "ce8798bf-bed2-48ae-a919-f4d025efdacc"
   },
   "outputs": [
    {
     "data": {
      "text/plain": [
       "['Basil (\"Ocimum basilicum\") ( or ) is a plant of the Family Lamiaceae. It is also known as Sweet Basil or Tulsi. It is a tender low-growing herb that is grown as a perennial in warm, tropical climates. Basil is originally native to India and other tropical regions of Asia. It has been cultivated there for more than 5,000 years. It is prominently featured in many cuisines throughout the world. Some of them are Italian, Thai, Vietnamese and Laotian cuisines. It grows to between 30–60\\xa0cm tall. It has light green, silky leaves 3–5\\xa0cm long and 1–3\\xa0cm broad. The leaves are opposite each other. The flowers are quite big. They are white in color and arranged as a spike.',\n",
       " 'The Roerich Pact is a treaty on Protection of Artistic and Scientific Institutions and Historic Monuments, signed by the representatives of 21 states in the Oval Office of the White House on 15 April 1935. As of January 1, 1990, the Roerich Pact had been ratified by ten nations: Brazil, Chile, Colombia, Cuba, the Dominican Republic, El Salvador, Guatemala, Mexico, the United States, and Venezuela. It went into effect on 26 August 1935. The Government of India approved the Treaty in 1948, but did not take any further formal action. The Roerich Pact is also known as \"Pax Cultura\" (\"Cultural Peace\" or \"Peace through Culture\"). The most important part of the Roerich Pact is the legal recognition that the protection of culture is always more important than any military necessity.']"
      ]
     },
     "execution_count": 4,
     "metadata": {},
     "output_type": "execute_result"
    }
   ],
   "source": [
    "context_corpus[:2]"
   ]
  },
  {
   "cell_type": "markdown",
   "metadata": {},
   "source": [
    "## Load up Custom Fine-tuned BGE Embedder Model\n",
    "\n",
    "Here we load the embedder model we fine-tuned earlier"
   ]
  },
  {
   "cell_type": "code",
   "execution_count": 5,
   "metadata": {
    "id": "gsfm_fBfALzy"
   },
   "outputs": [],
   "source": [
    "from langchain_huggingface.embeddings import HuggingFaceEmbeddings\n",
    "\n",
    "# model_name = \"dipanjanS/bge-base-en-v1.5-fte\"\n",
    "model_name = \"./bge-base-en-v1.5-fte\"\n",
    "ft_embedder = HuggingFaceEmbeddings(model_name=model_name)"
   ]
  },
  {
   "cell_type": "markdown",
   "metadata": {},
   "source": [
    "## Create Vector Database Index"
   ]
  },
  {
   "cell_type": "code",
   "execution_count": 6,
   "metadata": {
    "id": "Zi7Q9T7cEyNA"
   },
   "outputs": [],
   "source": [
    "from langchain_chroma import Chroma\n",
    "\n",
    "# create vector DB of docs and embeddings - takes < 30s on Colab\n",
    "db = Chroma.from_texts(texts=context_corpus,\n",
    "                       collection_name='wikipedia_db',\n",
    "                       embedding=ft_embedder,\n",
    "                       collection_metadata={\"hnsw:space\": \"cosine\"})"
   ]
  },
  {
   "cell_type": "code",
   "execution_count": 7,
   "metadata": {
    "id": "yQWCuuIyE55i"
   },
   "outputs": [],
   "source": [
    "retriever = db.as_retriever(search_type=\"similarity\",\n",
    "                            search_kwargs={\"k\": 3})"
   ]
  },
  {
   "cell_type": "markdown",
   "metadata": {},
   "source": [
    "## Test Sample Retrievals"
   ]
  },
  {
   "cell_type": "code",
   "execution_count": 8,
   "metadata": {
    "colab": {
     "base_uri": "https://localhost:8080/"
    },
    "id": "3j40mJjoF4DY",
    "outputId": "3637e1c7-adcb-4049-8e29-5a67e66effbf"
   },
   "outputs": [
    {
     "data": {
      "text/plain": [
       "[Document(id='27705482-da7e-4925-8978-11ba2ebc3dbd', metadata={}, page_content='The modern Flag of The Republic of India has three colours, which are placed horizontally. At the top is saffron, which signifies sacrifice and patriotism. In the middle is white, which stands for truth in word and actions and purity in our thoughts. At the bottom is green, which stands for life and prosperity. In the middle of the white is a blue wheel, which is called the Ashoka Chakra. It has 24 spokes and it stands for progress.The Chakra or the wheel also symbolizes the Power of the State governed by Dharma. It is also called the tiranga or tricolour. The flag was discovered by Venkayya Pingali.'),\n",
       " Document(id='dbe30b7d-9609-4757-b96a-f5e3926115fc', metadata={}, page_content='The modern Republic of India (Hindi:); has several official National symbols including a historical document, a flag, an emblem, an anthem, a memorial tower as well as several national heroes. All the symbols were picked up at various times. The design of the national flag was officially adopted by the Constituent Assembly just 21 days before Independence, on the 24th of July in 1947. There are also several other patriotic symbols including the national animal, bird, fruit, flower and tree... have all been selected carefully to project the image of India at its best. They are chosen to reflect Indian culture and beliefs and also the positive at - tributes often associated with Indian traditions respectively.'),\n",
       " Document(id='be2e35f5-5850-4aa7-8210-670c5221c6c7', metadata={}, page_content=\"The Indian Emblem of India is the symbol of the Republic of India, formally called 'National emblem'. It has four lions. The idea for this coat of arms was taken from the Sarnath Lion Capital that was built by Indian emperor Ashoka. It's a pillar in the city of Sarnath. Ashoka built it around 250 BC using a single piece of polished sandstone. The symbol is invariably used on all types of currency notes, passports and coins of India. In the two dimensional view of this symbol, one can see 3 heads (the fourth being hidden from view). It was adopted on 26 January 1950, the day that India became a republic.\")]"
      ]
     },
     "execution_count": 8,
     "metadata": {},
     "output_type": "execute_result"
    }
   ],
   "source": [
    "query = \"Tell me about the Indian flag\"\n",
    "\n",
    "docs = retriever.invoke(query)\n",
    "docs"
   ]
  },
  {
   "cell_type": "markdown",
   "metadata": {},
   "source": [
    "## Create a Retrieval Function on the Vector DB"
   ]
  },
  {
   "cell_type": "code",
   "execution_count": 9,
   "metadata": {
    "colab": {
     "base_uri": "https://localhost:8080/"
    },
    "id": "zHHa0HM4OJI8",
    "outputId": "883c6d4a-2d3d-4b4c-b392-f487c05c0df3"
   },
   "outputs": [
    {
     "name": "stdout",
     "output_type": "stream",
     "text": [
      "\"Jana Gana Mana\" (जन-गण-मन) is the title for the national anthem of India. In 1911, it was composed and originally written in Bengali by popular Indic poet and artist Rabindranath Tagore—the same author for the Bangladeshi anthem \"\"Amar Shonar Bangla\"\". Originally a five-verse Brahmo hymn in Bengali called \"\"Bharoto Bhagyo Bidhata\"\", in January 1950, only the first verse was made to be officially part of the national anthem of India per the . In addition, the lyrics now contain many words of Sanskrit origin.\n",
      "\n",
      "The modern Republic of India (Hindi:); has several official National symbols including a historical document, a flag, an emblem, an anthem, a memorial tower as well as several national heroes. All the symbols were picked up at various times. The design of the national flag was officially adopted by the Constituent Assembly just 21 days before Independence, on the 24th of July in 1947. There are also several other patriotic symbols including the national animal, bird, fruit, flower and tree... have all been selected carefully to project the image of India at its best. They are chosen to reflect Indian culture and beliefs and also the positive at - tributes often associated with Indian traditions respectively.\n",
      "\n",
      "Vande Mataram is the national song of India. It is not to be confused with the national anthem of India. The lyrics were written by Bankim Chandra Chattopadhyay, in a mix of Sanskrit and Bengali. The song was written in 1876, but published in 1882. The title means \"Long live the Mother[land]\". The first version of the Flag of India had \"वन्दे मातरम्\" (Vande Mataram) written on it.\n"
     ]
    }
   ],
   "source": [
    "def rag_retrieval(query):\n",
    "    docs = retriever.invoke(query)\n",
    "    context = \"\\n\\n\".join([doc.page_content for doc in docs])\n",
    "    return context\n",
    "\n",
    "query = \"Tell me about the national anthem of India\"\n",
    "print(rag_retrieval(query))"
   ]
  },
  {
   "cell_type": "markdown",
   "metadata": {},
   "source": [
    "## Load Fine-tuned Llama 3 LLM\n",
    "\n",
    "Here we will use our custom fine-tuned Llama 3 8B LLM from the previous hands-on demo"
   ]
  },
  {
   "cell_type": "code",
   "execution_count": 10,
   "metadata": {
    "colab": {
     "base_uri": "https://localhost:8080/",
     "height": 564
    },
    "id": "JYByJPdgBHXU",
    "outputId": "37bd7d00-33a7-490e-ec4e-8110663353b4"
   },
   "outputs": [
    {
     "name": "stdout",
     "output_type": "stream",
     "text": [
      "🦥 Unsloth: Will patch your computer to enable 2x faster free finetuning.\n",
      "🦥 Unsloth Zoo will now patch everything to make training faster!\n",
      "==((====))==  Unsloth 2025.2.12: Fast Llama patching. Transformers: 4.48.3.\n",
      "   \\\\   /|    GPU: NVIDIA A40. Max memory: 44.339 GB. Platform: Linux.\n",
      "O^O/ \\_/ \\    Torch: 2.4.1+cu124. CUDA: 8.6. CUDA Toolkit: 12.4. Triton: 3.0.0\n",
      "\\        /    Bfloat16 = TRUE. FA [Xformers = 0.0.28.post1. FA2 = True]\n",
      " \"-____-\"     Free Apache license: http://github.com/unslothai/unsloth\n",
      "Unsloth: Fast downloading is enabled - ignore downloading bars which are red colored!\n"
     ]
    },
    {
     "data": {
      "application/vnd.jupyter.widget-view+json": {
       "model_id": "df5459119fc445378e99ac80023593ef",
       "version_major": 2,
       "version_minor": 0
      },
      "text/plain": [
       "Loading checkpoint shards:   0%|          | 0/4 [00:00<?, ?it/s]"
      ]
     },
     "metadata": {},
     "output_type": "display_data"
    },
    {
     "data": {
      "text/plain": [
       "LlamaForCausalLM(\n",
       "  (model): LlamaModel(\n",
       "    (embed_tokens): Embedding(128256, 4096, padding_idx=128255)\n",
       "    (layers): ModuleList(\n",
       "      (0-31): 32 x LlamaDecoderLayer(\n",
       "        (self_attn): LlamaAttention(\n",
       "          (q_proj): Linear(in_features=4096, out_features=4096, bias=False)\n",
       "          (k_proj): Linear(in_features=4096, out_features=1024, bias=False)\n",
       "          (v_proj): Linear(in_features=4096, out_features=1024, bias=False)\n",
       "          (o_proj): Linear(in_features=4096, out_features=4096, bias=False)\n",
       "          (rotary_emb): LlamaRotaryEmbedding()\n",
       "        )\n",
       "        (mlp): LlamaMLP(\n",
       "          (gate_proj): Linear(in_features=4096, out_features=14336, bias=False)\n",
       "          (up_proj): Linear(in_features=4096, out_features=14336, bias=False)\n",
       "          (down_proj): Linear(in_features=14336, out_features=4096, bias=False)\n",
       "          (act_fn): SiLU()\n",
       "        )\n",
       "        (input_layernorm): LlamaRMSNorm((4096,), eps=1e-05)\n",
       "        (post_attention_layernorm): LlamaRMSNorm((4096,), eps=1e-05)\n",
       "      )\n",
       "    )\n",
       "    (norm): LlamaRMSNorm((4096,), eps=1e-05)\n",
       "    (rotary_emb): LlamaRotaryEmbedding()\n",
       "  )\n",
       "  (lm_head): Linear(in_features=4096, out_features=128256, bias=False)\n",
       ")"
      ]
     },
     "execution_count": 10,
     "metadata": {},
     "output_type": "execute_result"
    }
   ],
   "source": [
    "from unsloth import FastLanguageModel\n",
    "\n",
    "model_name = \"RAG_Llama3-8B-it\"\n",
    "# model_name = \"dipanjanS/RAG_Llama3-8B-it\"\n",
    "max_seq_length = 2048\n",
    "\n",
    "model, tokenizer = FastLanguageModel.from_pretrained(\n",
    "    model_name = model_name, # YOUR MODEL YOU USED FOR TRAINING\n",
    "        max_seq_length = max_seq_length,\n",
    "        dtype = None,\n",
    "        load_in_4bit = False,\n",
    "    )\n",
    "FastLanguageModel.for_inference(model)"
   ]
  },
  {
   "cell_type": "markdown",
   "metadata": {},
   "source": [
    "## Create a simple RAG prompt"
   ]
  },
  {
   "cell_type": "code",
   "execution_count": 11,
   "metadata": {
    "id": "9TSO2u4RJESR"
   },
   "outputs": [],
   "source": [
    "def rag_qa_prompt(question, context):\n",
    "    \"\"\"\n",
    "    Creates a chat prompt for the Llama model.\n",
    "\n",
    "    Args:\n",
    "        question: The question to be answered.\n",
    "        context: The context information to be used for generating the answer.\n",
    "\n",
    "    Returns:\n",
    "        A string containing the chat template.\n",
    "    \"\"\"\n",
    "\n",
    "    prompt = f\"\"\"\\\n",
    "    <|begin_of_text|><|start_header_id|>user<|end_header_id|>\n",
    "    Use the context information below only to answer the given question.\n",
    "    Do not make up answers.\n",
    "\n",
    "    Context: {context}\n",
    "\n",
    "    Question: {question}\n",
    "\n",
    "    <|eot_id|><|start_header_id|>assistant<|end_header_id|>\n",
    "    \"\"\"\n",
    "    # Remove any leading whitespace characters from each line in the prompt.\n",
    "    prompt = \"\\n\".join([line.lstrip() for line in prompt.splitlines()])\n",
    "    return prompt"
   ]
  },
  {
   "cell_type": "markdown",
   "metadata": {},
   "source": [
    "## Create a LLM Response Generation Function"
   ]
  },
  {
   "cell_type": "code",
   "execution_count": 12,
   "metadata": {
    "id": "n9Dh9jzXYVN-"
   },
   "outputs": [],
   "source": [
    "def rag_generation(model, tokenizer, prompt, max_tokens=512):\n",
    "    \"\"\"\n",
    "    Generates a response from the Llama model using the given prompt.\n",
    "\n",
    "    Args:\n",
    "        prompt: The prompt to be used for generating the response.\n",
    "\n",
    "    Returns:\n",
    "        A string containing the generated response.\n",
    "    \"\"\"\n",
    "\n",
    "    # Encode the prompt.\n",
    "    inputs = tokenizer(prompt, return_tensors=\"pt\").to('cuda')\n",
    "    # Generate the output.\n",
    "    output = model.generate(**inputs, max_new_tokens=max_tokens,\n",
    "                            eos_token_id=tokenizer.eos_token_id,\n",
    "                            tokenizer=tokenizer,\n",
    "                            stop_strings=[\"<|eot_id|>\"])\n",
    "    # Decode the output.\n",
    "    text = tokenizer.decode(output[0], skip_special_tokens=False)\n",
    "    return text"
   ]
  },
  {
   "cell_type": "markdown",
   "metadata": {},
   "source": [
    "## Create the RAG Pipeline\n",
    "\n",
    "Here we will put everything together and chain the three functions one after the other:\n",
    "\n",
    "- RAG retrieval from Vector DB\n",
    "- Pass context docs with user question to RAG prompt\n",
    "- Send prompt to LLM and generate response"
   ]
  },
  {
   "cell_type": "code",
   "execution_count": 15,
   "metadata": {
    "id": "PVWEuQsZYgGE"
   },
   "outputs": [],
   "source": [
    "def rag_pipeline(query, model, tokenizer, max_tokens=512):\n",
    "    context = rag_retrieval(query)\n",
    "    prompt = rag_qa_prompt(query, context)\n",
    "    response = rag_generation(model, tokenizer,\n",
    "                              prompt, max_tokens)\n",
    "    response = (response.split('<|start_header_id|>assistant<|end_header_id|>')[1]\n",
    "                       .split('<|eot_id|>')[0])\n",
    "    return response"
   ]
  },
  {
   "cell_type": "markdown",
   "metadata": {},
   "source": [
    "## Test out the RAG system"
   ]
  },
  {
   "cell_type": "code",
   "execution_count": 16,
   "metadata": {
    "colab": {
     "base_uri": "https://localhost:8080/",
     "height": 321
    },
    "id": "XoPZ8XqIYxYh",
    "outputId": "e128ee9d-e3ad-42dd-942a-e4900aa5d41c"
   },
   "outputs": [
    {
     "name": "stdout",
     "output_type": "stream",
     "text": [
      "\n",
      "Answer: Dear Friend, the Indian flag, also known as the tiranga or tricolour, has three colours placed horizontally. The top saffron represents sacrifice and patriotism, while the middle white symbolizes truth and purity. The green at the bottom represents life and prosperity. \n"
     ]
    }
   ],
   "source": [
    "query = \"Tell me about the Indian flag\"\n",
    "result = rag_pipeline(query, model, tokenizer)\n",
    "print(result)"
   ]
  },
  {
   "cell_type": "code",
   "execution_count": 17,
   "metadata": {
    "id": "zsjyR9PwYzC5"
   },
   "outputs": [
    {
     "name": "stdout",
     "output_type": "stream",
     "text": [
      "\n",
      "Answer: Dear Friend, the capital of India is New Delhi. It is also a union territory and a part of the megacity of Delhi. \n"
     ]
    }
   ],
   "source": [
    "query = \"What is the capital of India?\"\n",
    "result = rag_pipeline(query, model, tokenizer)\n",
    "print(result)"
   ]
  },
  {
   "cell_type": "code",
   "execution_count": 21,
   "metadata": {},
   "outputs": [
    {
     "name": "stdout",
     "output_type": "stream",
     "text": [
      "\n",
      "Answer: Dear Friend, the capital of India is New Delhi. It is a union territory located within the megacity of Delhi and is renowned for its rich history and cultural heritage. New Delhi serves as the seat of the federal government and is a hub for politics, education, and commerce. \n"
     ]
    }
   ],
   "source": [
    "query = \"What is the capital of India? Give a detailed answer\"\n",
    "result = rag_pipeline(query, model, tokenizer)\n",
    "print(result)"
   ]
  },
  {
   "cell_type": "code",
   "execution_count": 22,
   "metadata": {},
   "outputs": [
    {
     "name": "stdout",
     "output_type": "stream",
     "text": [
      "\n",
      "Answer: Dear Friend, the national anthem of India is called 'Jana Gana Mana', which was composed by Rabindranath Tagore. It was originally a five-verse Brahmo hymn in Bengali and was later made official in January 1950. \n"
     ]
    }
   ],
   "source": [
    "query = \"Tell me about the national anthem of India\"\n",
    "result = rag_pipeline(query, model, tokenizer)\n",
    "print(result)"
   ]
  },
  {
   "cell_type": "code",
   "execution_count": 23,
   "metadata": {},
   "outputs": [
    {
     "name": "stdout",
     "output_type": "stream",
     "text": [
      "\n",
      "Answer: Dear Friend, the national song of India is 'Vande Mataram'. It is a significant part of Indian culture and was written by Bankim Chandra Chattopadhyay. The lyrics are a mix of Sanskrit and Bengali, and the title means 'Long live the Motherland'. \n"
     ]
    }
   ],
   "source": [
    "query = \"Tell me about the national song of India\"\n",
    "result = rag_pipeline(query, model, tokenizer)\n",
    "print(result)"
   ]
  },
  {
   "cell_type": "markdown",
   "metadata": {},
   "source": [
    "#### Frameworks to evaluate RAG systems\n",
    "\n",
    "- Trulens\n",
    "- LLM as a Judge\n",
    "- Ragas\n",
    "- Deepeval"
   ]
  }
 ],
 "metadata": {
  "accelerator": "GPU",
  "colab": {
   "gpuType": "T4",
   "provenance": []
  },
  "kernelspec": {
   "display_name": "Python 3 (ipykernel)",
   "language": "python",
   "name": "python3"
  },
  "language_info": {
   "codemirror_mode": {
    "name": "ipython",
    "version": 3
   },
   "file_extension": ".py",
   "mimetype": "text/x-python",
   "name": "python",
   "nbconvert_exporter": "python",
   "pygments_lexer": "ipython3",
   "version": "3.11.10"
  }
 },
 "nbformat": 4,
 "nbformat_minor": 4
}
